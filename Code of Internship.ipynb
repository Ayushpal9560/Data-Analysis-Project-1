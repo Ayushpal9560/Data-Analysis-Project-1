{
 "cells": [
  {
   "cell_type": "code",
   "execution_count": 1,
   "id": "408572ba-8a03-47ba-8c6a-2431580c3d94",
   "metadata": {},
   "outputs": [],
   "source": [
    "import numpy as np \n",
    "import pandas as pd\n",
    "import matplotlib.pyplot as plt #visualizing data \n",
    "%matplotlib inline \n",
    "import seaborn as sns\n"
   ]
  },
  {
   "cell_type": "code",
   "execution_count": 2,
   "id": "8c25f0c5-506a-4f46-8c6d-c19c7adf720b",
   "metadata": {},
   "outputs": [
    {
     "name": "stdout",
     "output_type": "stream",
     "text": [
      "      Sl No: Customer      Month        Type  Amount\n",
      "0          1       A1  12-Jan-04   JEWELLERY  473776\n",
      "1          2       A1  03-Jan-04       PETRO  335579\n",
      "2          3       A1  15-Jan-04     CLOTHES  371041\n",
      "3          4       A1  25-Jan-04        FOOD  141178\n",
      "4          5       A1  17-Jan-05      CAMERA  398404\n",
      "...      ...      ...        ...         ...     ...\n",
      "1495    1496      A67  04-Feb-06  BUS TICKET  195841\n",
      "1496    1497      A68  25-Mar-06  BUS TICKET  284263\n",
      "1497    1498      A69  31-Mar-06  BUS TICKET  206552\n",
      "1498    1499      A70  23-Mar-06  BUS TICKET   41025\n",
      "1499    1500      A71  24-Mar-06  BUS TICKET  101398\n",
      "\n",
      "[1500 rows x 5 columns]\n"
     ]
    }
   ],
   "source": [
    "df_cus_aq = pd.read_csv(\"Data_Analytics_Internship.csv\")\n",
    "#df = pd.DataFrame(data, columns=[\"Credit Card Product\"])\n",
    "df_spend = pd.read_csv(\"Spend.csv\", index_col=False)\n",
    "print(df_spend)\n",
    "#print(df_spend[df_spend['Costomer']=='A1'])\n",
    "df_Repayment=pd.read_csv(\"Repayment.csv\")"
   ]
  },
  {
   "cell_type": "code",
   "execution_count": 3,
   "id": "135aeca2-16b7-4528-a87a-1df2edbf7c51",
   "metadata": {},
   "outputs": [],
   "source": [
    "#df_spend['Customer_spending'] = df_spend.groupby(['Costomer'])['Amount'].sum()\n",
    "#df_spend['Customer_spending1'] = df_spend.groupby('Costomer')['Amount'].agg(\"sum\")"
   ]
  },
  {
   "cell_type": "code",
   "execution_count": 4,
   "id": "5fce65b2-2e13-4b3e-9d81-6540c94dc706",
   "metadata": {},
   "outputs": [],
   "source": [
    "date_col=pd.DatetimeIndex(df_spend['Month'])\n",
    "df_spend['Day']=date_col.day\n",
    "df_spend['Monthh']=date_col.month \n",
    "df_spend['Year']=date_col.year \n"
   ]
  },
  {
   "cell_type": "code",
   "execution_count": 5,
   "id": "91db09a5-6056-4450-9587-378af2bc5a9d",
   "metadata": {},
   "outputs": [],
   "source": [
    "\n",
    "#df_spend['Customer_spending1'] = df_spend.groupby('Costomer')['Amount'].sum()"
   ]
  },
  {
   "cell_type": "code",
   "execution_count": 6,
   "id": "69f5a896-d770-4523-ae9b-18c400ee7c96",
   "metadata": {},
   "outputs": [
    {
     "name": "stdout",
     "output_type": "stream",
     "text": [
      "      Sl No: Customer      Month        Type  Amount  Day  Monthh  Year\n",
      "0          1       A1  12-Jan-04   JEWELLERY  473776   12       1  2004\n",
      "1          2       A1  03-Jan-04       PETRO  335579    3       1  2004\n",
      "2          3       A1  15-Jan-04     CLOTHES  371041   15       1  2004\n",
      "3          4       A1  25-Jan-04        FOOD  141178   25       1  2004\n",
      "4          5       A1  17-Jan-05      CAMERA  398404   17       1  2005\n",
      "...      ...      ...        ...         ...     ...  ...     ...   ...\n",
      "1495    1496      A67  04-Feb-06  BUS TICKET  195841    4       2  2006\n",
      "1496    1497      A68  25-Mar-06  BUS TICKET  284263   25       3  2006\n",
      "1497    1498      A69  31-Mar-06  BUS TICKET  206552   31       3  2006\n",
      "1498    1499      A70  23-Mar-06  BUS TICKET   41025   23       3  2006\n",
      "1499    1500      A71  24-Mar-06  BUS TICKET  101398   24       3  2006\n",
      "\n",
      "[1500 rows x 8 columns]\n"
     ]
    }
   ],
   "source": [
    "print(df_spend)"
   ]
  },
  {
   "cell_type": "code",
   "execution_count": 7,
   "id": "d0d7a7c4-6d1d-4cd9-ac75-1a6821e715c1",
   "metadata": {},
   "outputs": [],
   "source": [
    "df_spend['customer_spending'] = df_spend.groupby('Customer')['Amount'].transform('sum')"
   ]
  },
  {
   "cell_type": "code",
   "execution_count": 8,
   "id": "c1d6b367-7a50-4933-8899-912c5595bc30",
   "metadata": {},
   "outputs": [
    {
     "name": "stdout",
     "output_type": "stream",
     "text": [
      "      Sl No: Customer      Month        Type  Amount  Day  Monthh  Year  \\\n",
      "0          1       A1  12-Jan-04   JEWELLERY  473776   12       1  2004   \n",
      "1          2       A1  03-Jan-04       PETRO  335579    3       1  2004   \n",
      "2          3       A1  15-Jan-04     CLOTHES  371041   15       1  2004   \n",
      "3          4       A1  25-Jan-04        FOOD  141178   25       1  2004   \n",
      "4          5       A1  17-Jan-05      CAMERA  398404   17       1  2005   \n",
      "...      ...      ...        ...         ...     ...  ...     ...   ...   \n",
      "1495    1496      A67  04-Feb-06  BUS TICKET  195841    4       2  2006   \n",
      "1496    1497      A68  25-Mar-06  BUS TICKET  284263   25       3  2006   \n",
      "1497    1498      A69  31-Mar-06  BUS TICKET  206552   31       3  2006   \n",
      "1498    1499      A70  23-Mar-06  BUS TICKET   41025   23       3  2006   \n",
      "1499    1500      A71  24-Mar-06  BUS TICKET  101398   24       3  2006   \n",
      "\n",
      "      customer_spending  \n",
      "0               4858295  \n",
      "1               4858295  \n",
      "2               4858295  \n",
      "3               4858295  \n",
      "4               4858295  \n",
      "...                 ...  \n",
      "1495             599067  \n",
      "1496             721690  \n",
      "1497             392321  \n",
      "1498             202466  \n",
      "1499             525093  \n",
      "\n",
      "[1500 rows x 9 columns]\n"
     ]
    }
   ],
   "source": [
    "print(df_spend)"
   ]
  },
  {
   "cell_type": "code",
   "execution_count": 9,
   "id": "dcd03b35-434f-4703-b2d1-761c0c7c24c6",
   "metadata": {},
   "outputs": [
    {
     "name": "stdout",
     "output_type": "stream",
     "text": [
      "      Sl No: Customer      Month        Type  Amount  Day  Monthh  Year  \\\n",
      "0          1       A1  12-Jan-04   JEWELLERY  473776   12       1  2004   \n",
      "1          2       A1  03-Jan-04       PETRO  335579    3       1  2004   \n",
      "2          3       A1  15-Jan-04     CLOTHES  371041   15       1  2004   \n",
      "3          4       A1  25-Jan-04        FOOD  141178   25       1  2004   \n",
      "4          5       A1  17-Jan-05      CAMERA  398404   17       1  2005   \n",
      "...      ...      ...        ...         ...     ...  ...     ...   ...   \n",
      "1495    1496      A67  04-Feb-06  BUS TICKET  195841    4       2  2006   \n",
      "1496    1497      A68  25-Mar-06  BUS TICKET  284263   25       3  2006   \n",
      "1497    1498      A69  31-Mar-06  BUS TICKET  206552   31       3  2006   \n",
      "1498    1499      A70  23-Mar-06  BUS TICKET   41025   23       3  2006   \n",
      "1499    1500      A71  24-Mar-06  BUS TICKET  101398   24       3  2006   \n",
      "\n",
      "      customer_spending  \n",
      "0               4858295  \n",
      "1               4858295  \n",
      "2               4858295  \n",
      "3               4858295  \n",
      "4               4858295  \n",
      "...                 ...  \n",
      "1495             599067  \n",
      "1496             721690  \n",
      "1497             392321  \n",
      "1498             202466  \n",
      "1499             525093  \n",
      "\n",
      "[1500 rows x 9 columns]\n"
     ]
    }
   ],
   "source": [
    "print(df_spend)"
   ]
  },
  {
   "cell_type": "code",
   "execution_count": 10,
   "id": "97f33eb5-0f3b-41da-a9aa-ad1d072892b0",
   "metadata": {},
   "outputs": [
    {
     "name": "stdout",
     "output_type": "stream",
     "text": [
      "         Customer   Amount\n",
      "Customer                  \n",
      "A1             A1  4858295\n",
      "A10           A10  4110789\n",
      "A100         A100    42254\n",
      "A11           A11  4581924\n",
      "A12           A12  6848587\n",
      "...           ...      ...\n",
      "A95           A95   347834\n",
      "A96           A96   320364\n",
      "A97           A97   164330\n",
      "A98           A98    87484\n",
      "A99           A99   476020\n",
      "\n",
      "[100 rows x 2 columns]\n"
     ]
    }
   ],
   "source": [
    "#define how to aggregate various fields\n",
    "agg_functions = {'Customer': 'first' ,'Amount': 'sum', }\n",
    "\n",
    "#create new DataFrame by combining rows with same id values\n",
    "df_new = df_spend.groupby(df_spend['Customer']).aggregate(agg_functions)\n",
    "df_new.sort_values(by=['Amount'])\n",
    "#Display the new data frame\n",
    "print(df_new)"
   ]
  },
  {
   "cell_type": "code",
   "execution_count": 11,
   "id": "42a4a872-fc44-417b-acd5-b4bd840808cc",
   "metadata": {},
   "outputs": [
    {
     "name": "stdout",
     "output_type": "stream",
     "text": [
      "      Sl No: Customer      Month        Type  Amount  Day  Monthh  Year  \\\n",
      "0          1       A1  12-Jan-04   JEWELLERY  473776   12       1  2004   \n",
      "1          2       A1  03-Jan-04       PETRO  335579    3       1  2004   \n",
      "2          3       A1  15-Jan-04     CLOTHES  371041   15       1  2004   \n",
      "3          4       A1  25-Jan-04        FOOD  141178   25       1  2004   \n",
      "4          5       A1  17-Jan-05      CAMERA  398404   17       1  2005   \n",
      "...      ...      ...        ...         ...     ...  ...     ...   ...   \n",
      "1495    1496      A67  04-Feb-06  BUS TICKET  195841    4       2  2006   \n",
      "1496    1497      A68  25-Mar-06  BUS TICKET  284263   25       3  2006   \n",
      "1497    1498      A69  31-Mar-06  BUS TICKET  206552   31       3  2006   \n",
      "1498    1499      A70  23-Mar-06  BUS TICKET   41025   23       3  2006   \n",
      "1499    1500      A71  24-Mar-06  BUS TICKET  101398   24       3  2006   \n",
      "\n",
      "      customer_spending  \n",
      "0               4858295  \n",
      "1               4858295  \n",
      "2               4858295  \n",
      "3               4858295  \n",
      "4               4858295  \n",
      "...                 ...  \n",
      "1495             599067  \n",
      "1496             721690  \n",
      "1497             392321  \n",
      "1498             202466  \n",
      "1499             525093  \n",
      "\n",
      "[1500 rows x 9 columns]\n"
     ]
    }
   ],
   "source": [
    "print(df_spend)"
   ]
  },
  {
   "cell_type": "code",
   "execution_count": 12,
   "id": "b66bff76-2b86-4b9e-9e9a-dd5c619dea13",
   "metadata": {},
   "outputs": [
    {
     "name": "stdout",
     "output_type": "stream",
     "text": [
      "      Sl No: Customer      Month        Type  Amount  Day  Monthh  Year  \\\n",
      "0          1       A1  12-Jan-04   JEWELLERY  473776   12       1  2004   \n",
      "1          2       A1  03-Jan-04       PETRO  335579    3       1  2004   \n",
      "2          3       A1  15-Jan-04     CLOTHES  371041   15       1  2004   \n",
      "3          4       A1  25-Jan-04        FOOD  141178   25       1  2004   \n",
      "4          5       A1  17-Jan-05      CAMERA  398404   17       1  2005   \n",
      "...      ...      ...        ...         ...     ...  ...     ...   ...   \n",
      "1495    1496      A67  04-Feb-06  BUS TICKET  195841    4       2  2006   \n",
      "1496    1497      A68  25-Mar-06  BUS TICKET  284263   25       3  2006   \n",
      "1497    1498      A69  31-Mar-06  BUS TICKET  206552   31       3  2006   \n",
      "1498    1499      A70  23-Mar-06  BUS TICKET   41025   23       3  2006   \n",
      "1499    1500      A71  24-Mar-06  BUS TICKET  101398   24       3  2006   \n",
      "\n",
      "      customer_spending  \n",
      "0               4858295  \n",
      "1               4858295  \n",
      "2               4858295  \n",
      "3               4858295  \n",
      "4               4858295  \n",
      "...                 ...  \n",
      "1495             599067  \n",
      "1496             721690  \n",
      "1497             392321  \n",
      "1498             202466  \n",
      "1499             525093  \n",
      "\n",
      "[1500 rows x 9 columns]\n"
     ]
    }
   ],
   "source": [
    "print(df_spend)"
   ]
  },
  {
   "cell_type": "markdown",
   "id": "cb71e2de-31a6-421f-bcab-db26d9ff1d9e",
   "metadata": {},
   "source": [
    "1 Question Answer <<<<<<<<<<<<<<<<<<<<<<<<<<<<<<<<<<<<<<<<<<<<<<<<<<<<<<<<<<<<<<<<<<<<<<<<<<<<<<<<<<<<<<<<<<<<<<<<<<<<<<<<<<"
   ]
  },
  {
   "cell_type": "code",
   "execution_count": 13,
   "id": "39021e4f-ed37-4366-99b7-d345414b5033",
   "metadata": {},
   "outputs": [],
   "source": [
    "date_col=pd.DatetimeIndex(df_spend['Month'])\n",
    "df_spend['Day']=date_col.day\n",
    "df_spend['Month_num']=date_col.month \n",
    "df_spend['Year']=date_col.year \n"
   ]
  },
  {
   "cell_type": "code",
   "execution_count": 14,
   "id": "58b46126-5fe3-401d-9930-12594a55e9f1",
   "metadata": {},
   "outputs": [
    {
     "name": "stdout",
     "output_type": "stream",
     "text": [
      "      Sl No: Customer      Month        Type  Amount  Day  Monthh  Year  \\\n",
      "0          1       A1  12-Jan-04   JEWELLERY  473776   12       1  2004   \n",
      "1          2       A1  03-Jan-04       PETRO  335579    3       1  2004   \n",
      "2          3       A1  15-Jan-04     CLOTHES  371041   15       1  2004   \n",
      "3          4       A1  25-Jan-04        FOOD  141178   25       1  2004   \n",
      "4          5       A1  17-Jan-05      CAMERA  398404   17       1  2005   \n",
      "...      ...      ...        ...         ...     ...  ...     ...   ...   \n",
      "1495    1496      A67  04-Feb-06  BUS TICKET  195841    4       2  2006   \n",
      "1496    1497      A68  25-Mar-06  BUS TICKET  284263   25       3  2006   \n",
      "1497    1498      A69  31-Mar-06  BUS TICKET  206552   31       3  2006   \n",
      "1498    1499      A70  23-Mar-06  BUS TICKET   41025   23       3  2006   \n",
      "1499    1500      A71  24-Mar-06  BUS TICKET  101398   24       3  2006   \n",
      "\n",
      "      customer_spending  Month_num  \n",
      "0               4858295          1  \n",
      "1               4858295          1  \n",
      "2               4858295          1  \n",
      "3               4858295          1  \n",
      "4               4858295          1  \n",
      "...                 ...        ...  \n",
      "1495             599067          2  \n",
      "1496             721690          3  \n",
      "1497             392321          3  \n",
      "1498             202466          3  \n",
      "1499             525093          3  \n",
      "\n",
      "[1500 rows x 10 columns]\n"
     ]
    }
   ],
   "source": [
    "print(df_spend)"
   ]
  },
  {
   "cell_type": "code",
   "execution_count": 15,
   "id": "eb6af4dc-be92-4fa2-a423-9cb728eab326",
   "metadata": {},
   "outputs": [],
   "source": [
    "#date_col=pd.DatetimeIndex(df_monthly_spend['Month'])\n",
    "#df_monthly_spend['Day']=date_col.day\n",
    "#df_monthly_spend['Month']=date_col.month \n",
    "#df_monthly_spend['Year']=date_col.year "
   ]
  },
  {
   "cell_type": "code",
   "execution_count": 16,
   "id": "d4bc353b-ae50-4081-9ab6-85527133e926",
   "metadata": {},
   "outputs": [],
   "source": [
    "df_monthly_spend = df_spend.groupby(['Customer','Monthh'], as_index=False)['Amount'].sum().sort_values(by='Amount',ascending=False)"
   ]
  },
  {
   "cell_type": "code",
   "execution_count": 17,
   "id": "95dd8661-b9a3-4621-a8d0-f120395505d4",
   "metadata": {},
   "outputs": [
    {
     "name": "stdout",
     "output_type": "stream",
     "text": [
      "    Customer  Monthh   Amount\n",
      "276      A39       1  2839184\n",
      "292      A40       1  2695912\n",
      "256      A37       1  2605015\n",
      "482      A60       1  2584386\n",
      "357      A47       1  2223221\n",
      "..       ...     ...      ...\n",
      "262      A37       7    12919\n",
      "383      A49       9    10872\n",
      "299      A40       8     8458\n",
      "519      A66       2      826\n",
      "424      A53       7      783\n",
      "\n",
      "[578 rows x 3 columns]\n"
     ]
    }
   ],
   "source": [
    "print(df_monthly_spend)"
   ]
  },
  {
   "cell_type": "code",
   "execution_count": 18,
   "id": "8b52d8a3-e9ff-42d6-bd18-824916b1a725",
   "metadata": {},
   "outputs": [
    {
     "name": "stdout",
     "output_type": "stream",
     "text": [
      "  Customer  Monthh   Amount\n",
      "0       A1       1  1909577\n",
      "1       A1       2  1445575\n",
      "2       A1       4   564506\n",
      "6       A1      11   457317\n",
      "5       A1      10   220735\n",
      "3       A1       5   131197\n",
      "4       A1       8   129388\n"
     ]
    }
   ],
   "source": [
    "print(df_monthly_spend.loc[df_monthly_spend['Customer'] == 'A1'])"
   ]
  },
  {
   "cell_type": "code",
   "execution_count": 19,
   "id": "c3ecb99d-388b-43eb-b721-cd8047536fc8",
   "metadata": {},
   "outputs": [],
   "source": [
    "for i in df_monthly_spend['Monthh']:\n",
    "    #if df_monthly_spend['Month']== 1 :\n",
    "       df_first_month = df_monthly_spend.loc[df_monthly_spend['Monthh']== 1].head(10)\n",
    "    "
   ]
  },
  {
   "cell_type": "code",
   "execution_count": 20,
   "id": "f2378c2c-a8a1-4492-985c-216a0af7dd16",
   "metadata": {},
   "outputs": [],
   "source": [
    "for i in df_monthly_spend['Monthh']:\n",
    "    #if df_monthly_spend['Month']== 1 :\n",
    "       df_second_month = df_monthly_spend.loc[df_monthly_spend['Monthh']== 2].head(10)"
   ]
  },
  {
   "cell_type": "code",
   "execution_count": 21,
   "id": "c923c36c-67d9-4224-9dd5-344b3813bc59",
   "metadata": {},
   "outputs": [],
   "source": [
    "for i in df_monthly_spend['Monthh']:\n",
    "    #if df_monthly_spend['Month']== 1 :\n",
    "       df_third_month = df_monthly_spend.loc[df_monthly_spend['Monthh']== 3]"
   ]
  },
  {
   "cell_type": "code",
   "execution_count": 22,
   "id": "6714563b-3f2c-423e-9190-2e2ef2eb6351",
   "metadata": {},
   "outputs": [],
   "source": [
    "for i in df_monthly_spend['Monthh']:\n",
    "    #if df_monthly_spend['Month']== 1 :\n",
    "       df_fourth_month = df_monthly_spend.loc[df_monthly_spend['Monthh']== 4]"
   ]
  },
  {
   "cell_type": "code",
   "execution_count": 23,
   "id": "b97d05f0-6dad-43b6-9601-f61555729af4",
   "metadata": {},
   "outputs": [],
   "source": [
    "for i in df_monthly_spend['Monthh']:\n",
    "    #if df_monthly_spend['Month']== 1 :\n",
    "       df_fifth_month = df_monthly_spend.loc[df_monthly_spend['Monthh']== 5]"
   ]
  },
  {
   "cell_type": "code",
   "execution_count": 24,
   "id": "7da8cf74-390c-42ce-a77a-b6414b7e038c",
   "metadata": {},
   "outputs": [],
   "source": [
    "for i in df_monthly_spend['Monthh']:\n",
    "    #if df_monthly_spend['Month']== 1 :\n",
    "       df_sixth_month = df_monthly_spend.loc[df_monthly_spend['Monthh']== 6]"
   ]
  },
  {
   "cell_type": "code",
   "execution_count": 25,
   "id": "f817a629-e324-4e0d-8a18-e11f42eecb21",
   "metadata": {},
   "outputs": [],
   "source": [
    "for i in df_monthly_spend['Monthh']:\n",
    "    #if df_monthly_spend['Month']== 1 :\n",
    "       df_seventh_month = df_monthly_spend.loc[df_monthly_spend['Monthh']== 7]"
   ]
  },
  {
   "cell_type": "code",
   "execution_count": 26,
   "id": "c0cfe277-84a5-4209-af7a-c6a9caf615cf",
   "metadata": {},
   "outputs": [],
   "source": [
    "for i in df_monthly_spend['Monthh']:\n",
    "    #if df_monthly_spend['Month']== 1 :\n",
    "       df_eighth_month = df_monthly_spend.loc[df_monthly_spend['Monthh']== 8]"
   ]
  },
  {
   "cell_type": "code",
   "execution_count": 27,
   "id": "05217637-9133-4d58-a7f6-e7f87b43b975",
   "metadata": {},
   "outputs": [],
   "source": [
    "for i in df_monthly_spend['Monthh']:\n",
    "    #if df_monthly_spend['Month']== 1 :\n",
    "       df_nineth_month = df_monthly_spend.loc[df_monthly_spend['Monthh']== 9]"
   ]
  },
  {
   "cell_type": "code",
   "execution_count": 28,
   "id": "82c94580-d857-4d12-9e12-9f20171b7094",
   "metadata": {},
   "outputs": [],
   "source": [
    "for i in df_monthly_spend['Monthh']:\n",
    "    #if df_monthly_spend['Month']== 1 :\n",
    "       df_tenth_month = df_monthly_spend.loc[df_monthly_spend['Monthh']== 10]"
   ]
  },
  {
   "cell_type": "code",
   "execution_count": 29,
   "id": "aeabe0f5-31f1-48a8-a937-b2d3bf287225",
   "metadata": {},
   "outputs": [],
   "source": [
    "for i in df_monthly_spend['Monthh']:\n",
    "    #if df_monthly_spend['Month']== 1 :\n",
    "       df_eleventh_month = df_monthly_spend.loc[df_monthly_spend['Monthh']== 11]"
   ]
  },
  {
   "cell_type": "code",
   "execution_count": 30,
   "id": "4f71e85b-254a-4d9c-bb76-5395c1caf8ef",
   "metadata": {},
   "outputs": [],
   "source": [
    "for i in df_monthly_spend['Monthh']:\n",
    "    #if df_monthly_spend['Month']== 1 :\n",
    "       df_twelth_month = df_monthly_spend.loc[df_monthly_spend['Monthh']== 12]"
   ]
  },
  {
   "cell_type": "code",
   "execution_count": 31,
   "id": "f33de592-e5d1-4ff2-9bdc-13af8c83b9b5",
   "metadata": {},
   "outputs": [
    {
     "name": "stdout",
     "output_type": "stream",
     "text": [
      "    Customer  Monthh   Amount\n",
      "276      A39       1  2839184\n",
      "292      A40       1  2695912\n",
      "256      A37       1  2605015\n",
      "482      A60       1  2584386\n",
      "357      A47       1  2223221\n",
      "128      A22       1  2126633\n",
      "146      A24       1  2085558\n",
      "118      A21       1  2003871\n",
      "266      A38       1  1991223\n",
      "186      A29       1  1984668\n"
     ]
    }
   ],
   "source": [
    "print(df_first_month)"
   ]
  },
  {
   "cell_type": "code",
   "execution_count": 32,
   "id": "5e288e66-13f5-4d26-bb69-4c6d84ee90ee",
   "metadata": {},
   "outputs": [],
   "source": [
    "\n",
    "\n",
    "#for i in df_first_month['Month']:\n",
    " #   print(i)"
   ]
  },
  {
   "cell_type": "code",
   "execution_count": 33,
   "id": "80e6b61f-f87b-42f9-9639-c90c2844d02d",
   "metadata": {},
   "outputs": [
    {
     "data": {
      "text/plain": [
       "Text(0.5, 1.0, 'January')"
      ]
     },
     "execution_count": 33,
     "metadata": {},
     "output_type": "execute_result"
    },
    {
     "data": {
      "image/png": "[encoded data removed]",
      "text/plain": [
       "<Figure size 640x480 with 1 Axes>"
      ]
     },
     "metadata": {},
     "output_type": "display_data"
    }
   ],
   "source": [
    "sns.barplot(x='Customer',y='Amount', data=df_first_month)\n",
    "sns.set(rc={'figure.figsize':(10,10)})\n",
    "plt.title('January')"
   ]
  },
  {
   "cell_type": "code",
   "execution_count": 34,
   "id": "7967a56a-3533-4a49-9d7d-479d326bca60",
   "metadata": {},
   "outputs": [
    {
     "data": {
      "text/plain": [
       "Text(0.5, 1.0, 'February')"
      ]
     },
     "execution_count": 34,
     "metadata": {},
     "output_type": "execute_result"
    },
    {
     "data": {
      "image/png": "[encoded data removed]",
      "text/plain": [
       "<Figure size 1000x1000 with 1 Axes>"
      ]
     },
     "metadata": {},
     "output_type": "display_data"
    }
   ],
   "source": [
    "sns.barplot(x='Customer',y='Amount', data=df_second_month)\n",
    "sns.set(rc={'figure.figsize':(10,10)})\n",
    "plt.title('February')"
   ]
  },
  {
   "cell_type": "code",
   "execution_count": 35,
   "id": "d6b1a087-1d97-4fd2-80fd-4286be93414b",
   "metadata": {},
   "outputs": [
    {
     "name": "stdout",
     "output_type": "stream",
     "text": [
      "      Serial Number  Customer      Month         Amount\n",
      "0                  1       A1  12-Jan-04  331844.007400\n",
      "1                  2       A1  03-Jan-04  441139.807300\n",
      "2                  3       A1  15-Jan-04   32480.004010\n",
      "3                  4       A1  25-Jan-04   90636.966530\n",
      "4                  5       A1  17-Jan-05    1581.969829\n",
      "...              ...      ...        ...            ...\n",
      "1495            1496      A67  09-May-05  200288.874100\n",
      "1496            1497      A68  10-May-06  231194.702300\n",
      "1497            1498      A69  11-Jul-06  391195.615800\n",
      "1498            1499      A70  12-Aug-05  357629.618200\n",
      "1499            1500      A71  13-Sep-04  179771.745200\n",
      "\n",
      "[1500 rows x 4 columns]\n"
     ]
    }
   ],
   "source": [
    "print(df_Repayment)"
   ]
  },
  {
   "cell_type": "code",
   "execution_count": 36,
   "id": "035a87e8-2041-4db5-a319-f9608b030bfb",
   "metadata": {},
   "outputs": [],
   "source": [
    "df_Repayment.rename(columns={'Month ':'Month'},inplace= True)"
   ]
  },
  {
   "cell_type": "code",
   "execution_count": 37,
   "id": "f4daee68-8c39-4f0c-9e92-a9bb92f4c5cc",
   "metadata": {},
   "outputs": [],
   "source": [
    "date_col=pd.DatetimeIndex(df_Repayment['Month'])\n",
    "df_Repayment['Day']=date_col.day\n",
    "df_Repayment['Month']=date_col.month \n",
    "df_Repayment['Year']=date_col.year "
   ]
  },
  {
   "cell_type": "code",
   "execution_count": 38,
   "id": "0713d8bc-e89a-4a6a-bdfc-b8350e2108fe",
   "metadata": {},
   "outputs": [
    {
     "data": {
      "text/plain": [
       "Index(['Serial Number ', 'Customer', 'Month', 'Amount', 'Day', 'Year'], dtype='object')"
      ]
     },
     "execution_count": 38,
     "metadata": {},
     "output_type": "execute_result"
    }
   ],
   "source": [
    "df_Repayment.columns"
   ]
  },
  {
   "cell_type": "code",
   "execution_count": 39,
   "id": "9dc96659-07fd-409c-978d-c9fb8c94cccc",
   "metadata": {},
   "outputs": [],
   "source": [
    "date_col=pd.DatetimeIndex(df_Repayment['Month'])\n",
    "df_Repayment['Day']=date_col.day\n",
    "df_Repayment['Month']=date_col.month \n",
    "df_Repayment['Year']=date_col.year \n"
   ]
  },
  {
   "cell_type": "markdown",
   "id": "e04fbc23-b031-4cb6-8e07-acfd86200677",
   "metadata": {},
   "source": [
    "<<<<<<<<<<<<<<<<<<<<<<<<<<<<<<<<<<<<<<<<<<<<<<<<<<<<<<<<<<<<<<<<<<<<<<<<<<<<<<<<<<<<<<<<<<<<<<<<<<<<<<<<<<<<"
   ]
  },
  {
   "cell_type": "code",
   "execution_count": 40,
   "id": "d1c38542-37ce-4d11-a287-265652aa538b",
   "metadata": {},
   "outputs": [],
   "source": [
    "df_Repayment['Amount']= df_Repayment['Amount'].astype(int)"
   ]
  },
  {
   "cell_type": "markdown",
   "id": "90582418-f1c6-4976-a2a8-7d990c693db8",
   "metadata": {},
   "source": [
    "2 Question Answer<<<<<<<<<<<<<<<<<<<<<<<<<<<<<<<<<<<<<<<<<<<<<<<<<<<<<<<<<<<<<<<<<<<<<<<<<<<<<<<<<<<<<<<<<<<<<<<<<<<<<<<<<<<<<\n",
    "\n"
   ]
  },
  {
   "cell_type": "code",
   "execution_count": 41,
   "id": "54e0dff6-fe36-4da3-bac1-333352e2f2c6",
   "metadata": {},
   "outputs": [],
   "source": [
    "df_Repayment=pd.read_csv(\"Repayment.csv\")"
   ]
  },
  {
   "cell_type": "code",
   "execution_count": 42,
   "id": "a2bed656-ae42-4f89-8127-237dcb9e50aa",
   "metadata": {},
   "outputs": [
    {
     "name": "stdout",
     "output_type": "stream",
     "text": [
      "      Serial Number  Customer      Month         Amount\n",
      "0                  1       A1  12-Jan-04  331844.007400\n",
      "1                  2       A1  03-Jan-04  441139.807300\n",
      "2                  3       A1  15-Jan-04   32480.004010\n",
      "3                  4       A1  25-Jan-04   90636.966530\n",
      "4                  5       A1  17-Jan-05    1581.969829\n",
      "...              ...      ...        ...            ...\n",
      "1495            1496      A67  09-May-05  200288.874100\n",
      "1496            1497      A68  10-May-06  231194.702300\n",
      "1497            1498      A69  11-Jul-06  391195.615800\n",
      "1498            1499      A70  12-Aug-05  357629.618200\n",
      "1499            1500      A71  13-Sep-04  179771.745200\n",
      "\n",
      "[1500 rows x 4 columns]\n"
     ]
    }
   ],
   "source": [
    "print(df_Repayment)"
   ]
  },
  {
   "cell_type": "code",
   "execution_count": 43,
   "id": "20380d99-dea5-4af5-9dfe-73f2528e672d",
   "metadata": {},
   "outputs": [],
   "source": [
    "df_monthly_repayment = df_spend.groupby(['Customer','Month'], as_index=False)['Amount'].sum().sort_values(by='Amount',ascending=False)"
   ]
  },
  {
   "cell_type": "code",
   "execution_count": 44,
   "id": "a1639fd6-1988-469d-82c0-ffc0dba72ff1",
   "metadata": {},
   "outputs": [
    {
     "data": {
      "text/plain": [
       "Index(['Serial Number ', 'Customer', 'Month', 'Amount'], dtype='object')"
      ]
     },
     "execution_count": 44,
     "metadata": {},
     "output_type": "execute_result"
    }
   ],
   "source": [
    "df_Repayment.columns"
   ]
  },
  {
   "cell_type": "code",
   "execution_count": 45,
   "id": "255394e1-db4d-4638-bd92-750e332ad8c1",
   "metadata": {},
   "outputs": [],
   "source": [
    "df_monthly_Repayment= df_Repayment.groupby(['Customer','Month'], as_index= False)['Amount'].sum().sort_values(by='Amount',ascending= False)"
   ]
  },
  {
   "cell_type": "code",
   "execution_count": 46,
   "id": "43d2e68e-db9f-4e29-a97b-06433ce3684f",
   "metadata": {},
   "outputs": [
    {
     "data": {
      "text/plain": [
       "Index(['Customer', 'Month', 'Amount'], dtype='object')"
      ]
     },
     "execution_count": 46,
     "metadata": {},
     "output_type": "execute_result"
    }
   ],
   "source": [
    "df_monthly_Repayment.columns"
   ]
  },
  {
   "cell_type": "code",
   "execution_count": 47,
   "id": "c0ebf526-5138-475f-970e-692cc087c249",
   "metadata": {},
   "outputs": [
    {
     "name": "stdout",
     "output_type": "stream",
     "text": [
      "     Customer      Month        Amount\n",
      "718       A41  15-Jan-04  1.436591e+06\n",
      "657       A39  12-Jan-04  1.222803e+06\n",
      "948        A5  12-Jan-04  1.107831e+06\n",
      "711       A41  03-Jan-04  1.100656e+06\n",
      "1208       A7  15-Jan-04  1.087058e+06\n",
      "...       ...        ...           ...\n",
      "706       A40  27-May-05  1.284650e+03\n",
      "36        A11  05-Mar-06  1.129544e+03\n",
      "836       A46  02-Jun-05  8.022867e+02\n",
      "1042      A55  25-Apr-04  6.110436e+02\n",
      "919       A49  03-Aug-05  2.470986e+02\n",
      "\n",
      "[1281 rows x 3 columns]\n"
     ]
    }
   ],
   "source": [
    "print(df_monthly_Repayment)"
   ]
  },
  {
   "cell_type": "code",
   "execution_count": 48,
   "id": "da280167-a453-47a6-9bd6-03fe66586da4",
   "metadata": {},
   "outputs": [],
   "source": [
    "date_col=pd.DatetimeIndex(df_monthly_Repayment['Month'])\n",
    "df_monthly_Repayment['Day']=date_col.day\n",
    "df_monthly_Repayment['Month']=date_col.month \n",
    "df_monthly_Repayment['Year']=date_col.year "
   ]
  },
  {
   "cell_type": "code",
   "execution_count": 49,
   "id": "d2e53e51-87c7-4c38-b6cf-d9044de9b98f",
   "metadata": {},
   "outputs": [
    {
     "data": {
      "text/plain": [
       "Index(['Customer', 'Month', 'Amount', 'Day', 'Year'], dtype='object')"
      ]
     },
     "execution_count": 49,
     "metadata": {},
     "output_type": "execute_result"
    }
   ],
   "source": [
    "df_monthly_Repayment.columns"
   ]
  },
  {
   "cell_type": "code",
   "execution_count": 50,
   "id": "ac98e15c-d175-4dfa-ad4a-449b93fdced0",
   "metadata": {},
   "outputs": [
    {
     "name": "stdout",
     "output_type": "stream",
     "text": [
      "     Customer  Month        Amount  Day  Year\n",
      "718       A41      1  1.436591e+06   15  2004\n",
      "657       A39      1  1.222803e+06   12  2004\n",
      "948        A5      1  1.107831e+06   12  2004\n",
      "711       A41      1  1.100656e+06    3  2004\n",
      "1208       A7      1  1.087058e+06   15  2004\n",
      "...       ...    ...           ...  ...   ...\n",
      "706       A40      5  1.284650e+03   27  2005\n",
      "36        A11      3  1.129544e+03    5  2006\n",
      "836       A46      6  8.022867e+02    2  2005\n",
      "1042      A55      4  6.110436e+02   25  2004\n",
      "919       A49      8  2.470986e+02    3  2005\n",
      "\n",
      "[1281 rows x 5 columns]\n"
     ]
    }
   ],
   "source": [
    "print(df_monthly_Repayment)"
   ]
  },
  {
   "cell_type": "code",
   "execution_count": 51,
   "id": "abbb3ccc-86b6-44b1-b0a0-20879613c04f",
   "metadata": {},
   "outputs": [],
   "source": [
    "for i in df_monthly_Repayment['Month']:\n",
    "    #if df_monthly_spend['Month']== 1 :\n",
    "       df_first_month_Repayment = df_monthly_Repayment.loc[df_monthly_Repayment['Month']== 1].head(10)\n",
    "    "
   ]
  },
  {
   "cell_type": "code",
   "execution_count": 52,
   "id": "80bed044-6758-43eb-bb5a-a6b3e2165b88",
   "metadata": {},
   "outputs": [],
   "source": [
    "for i in df_monthly_Repayment['Month']:\n",
    "    #if df_monthly_spend['Month']== 1 :\n",
    "       df_second_month_Repayment = df_monthly_Repayment.loc[df_monthly_Repayment['Month']== 2].head(10)\n",
    "    "
   ]
  },
  {
   "cell_type": "code",
   "execution_count": 53,
   "id": "b3948b76-25f0-488f-bafe-206da8100969",
   "metadata": {},
   "outputs": [],
   "source": [
    "for i in df_monthly_Repayment['Month']:\n",
    "    #if df_monthly_spend['Month']== 1 :\n",
    "       df_third_month_Repayment = df_monthly_Repayment.loc[df_monthly_Repayment['Month']== 3].head(10)\n",
    "    "
   ]
  },
  {
   "cell_type": "code",
   "execution_count": 54,
   "id": "a7b88af1-2f8c-40ac-9044-b8970c5c757e",
   "metadata": {},
   "outputs": [],
   "source": [
    "for i in df_monthly_Repayment['Month']:\n",
    "    #if df_monthly_spend['Month']== 1 :\n",
    "       df_fourth_month_Repayment = df_monthly_Repayment.loc[df_monthly_Repayment['Month']== 4].head(10)\n",
    "    "
   ]
  },
  {
   "cell_type": "code",
   "execution_count": 55,
   "id": "a4c72904-743b-44e6-8b42-9827cf02d114",
   "metadata": {},
   "outputs": [],
   "source": [
    "for i in df_monthly_Repayment['Month']:\n",
    "    #if df_monthly_spend['Month']== 1 :\n",
    "       df_fifth_month_Repayment = df_monthly_Repayment.loc[df_monthly_Repayment['Month']== 5].head(10)\n",
    "    "
   ]
  },
  {
   "cell_type": "code",
   "execution_count": 56,
   "id": "78a4a0ab-1ef7-4d77-a0b8-e66738142b9d",
   "metadata": {},
   "outputs": [],
   "source": [
    "for i in df_monthly_Repayment['Month']:\n",
    "    #if df_monthly_spend['Month']== 1 :\n",
    "       df_sixth_month_Repayment = df_monthly_Repayment.loc[df_monthly_Repayment['Month']== 6].head(10)\n",
    "    "
   ]
  },
  {
   "cell_type": "code",
   "execution_count": 57,
   "id": "a237eb8a-79e9-4a3b-8c14-44682a83cf5d",
   "metadata": {},
   "outputs": [],
   "source": [
    "for i in df_monthly_Repayment['Month']:\n",
    "    #if df_monthly_spend['Month']== 1 :\n",
    "       df_seventh_month_Repayment = df_monthly_Repayment.loc[df_monthly_Repayment['Month']== 7].head(10)\n",
    "    "
   ]
  },
  {
   "cell_type": "code",
   "execution_count": 58,
   "id": "93645bd6-1056-47e7-af8f-fdc62899d545",
   "metadata": {},
   "outputs": [],
   "source": [
    "for i in df_monthly_Repayment['Month']:\n",
    "    #if df_monthly_spend['Month']== 1 :\n",
    "       df_eighth_month_Repayment = df_monthly_Repayment.loc[df_monthly_Repayment['Month']== 8].head(10)\n",
    "    "
   ]
  },
  {
   "cell_type": "code",
   "execution_count": 59,
   "id": "767cba21-f5bf-4cab-8c0b-ab268cf5e60b",
   "metadata": {},
   "outputs": [],
   "source": [
    "for i in df_monthly_Repayment['Month']:\n",
    "    #if df_monthly_spend['Month']== 1 :\n",
    "       df_nineth_month_Repayment = df_monthly_Repayment.loc[df_monthly_Repayment['Month']== 9].head(10)\n",
    "    "
   ]
  },
  {
   "cell_type": "code",
   "execution_count": 60,
   "id": "1021d736-e142-41dc-89af-d4add545c54c",
   "metadata": {},
   "outputs": [],
   "source": [
    "for i in df_monthly_Repayment['Month']:\n",
    "    #if df_monthly_spend['Month']== 1 :\n",
    "       df_tenth_month_Repayment = df_monthly_Repayment.loc[df_monthly_Repayment['Month']== 10].head(10)\n",
    "    "
   ]
  },
  {
   "cell_type": "code",
   "execution_count": 61,
   "id": "0db01fb7-0af5-4048-9a62-e9dbb0e50753",
   "metadata": {},
   "outputs": [],
   "source": [
    "for i in df_monthly_Repayment['Month']:\n",
    "    #if df_monthly_spend['Month']== 1 :\n",
    "       df_eleventh_month_Repayment = df_monthly_Repayment.loc[df_monthly_Repayment['Month']== 11].head(10)\n",
    "    "
   ]
  },
  {
   "cell_type": "code",
   "execution_count": 62,
   "id": "928b4069-1f05-4abe-8351-7ad211d5d06b",
   "metadata": {},
   "outputs": [],
   "source": [
    "for i in df_monthly_Repayment['Month']:\n",
    "    #if df_monthly_spend['Month']== 1 :\n",
    "       df_twelth_month_Repayment = df_monthly_Repayment.loc[df_monthly_Repayment['Month']== 12].head(10)\n",
    "    "
   ]
  },
  {
   "cell_type": "code",
   "execution_count": 63,
   "id": "b95abfb0-a7c7-4866-9151-58063f908cd2",
   "metadata": {},
   "outputs": [
    {
     "data": {
      "text/plain": [
       "Text(0.5, 1.0, 'January')"
      ]
     },
     "execution_count": 63,
     "metadata": {},
     "output_type": "execute_result"
    },
    {
     "data": {
      "image/png": "[encoded data removed]",
      "text/plain": [
       "<Figure size 1000x1000 with 1 Axes>"
      ]
     },
     "metadata": {},
     "output_type": "display_data"
    }
   ],
   "source": [
    "sns.barplot(x='Customer',y='Amount',data=df_first_month_Repayment)\n",
    "plt.title('January')"
   ]
  },
  {
   "cell_type": "code",
   "execution_count": 64,
   "id": "92478442-b497-461d-bf31-982124bba68b",
   "metadata": {},
   "outputs": [
    {
     "data": {
      "text/plain": [
       "Text(0.5, 1.0, 'Feburary')"
      ]
     },
     "execution_count": 64,
     "metadata": {},
     "output_type": "execute_result"
    },
    {
     "data": {
      "image/png": "[encoded data removed]",
      "text/plain": [
       "<Figure size 1000x1000 with 1 Axes>"
      ]
     },
     "metadata": {},
     "output_type": "display_data"
    }
   ],
   "source": [
    "sns.barplot(x='Customer',y='Amount',data=df_second_month_Repayment)\n",
    "plt.title('Feburary')"
   ]
  },
  {
   "cell_type": "code",
   "execution_count": 65,
   "id": "1ff60983-e5a1-4909-8433-51602d0387b8",
   "metadata": {},
   "outputs": [],
   "source": [
    "df_monthly_repayment = df_spend.groupby(['Customer','Month'], as_index=False)['Amount'].sum().sort_values(by='Amount',ascending=False)"
   ]
  },
  {
   "cell_type": "markdown",
   "id": "65536cb9-e73c-4f3e-ab73-c25855fe2341",
   "metadata": {},
   "source": [
    "<<<<<<<<<<<<<<<<<<<<<<<<<<<<<<<<<<<<<<<<<<<<<<<<<<<<<<<<<<<<<<<<<<<<<<<<<<<<<<<<<<<<<<<<<<<<<<<<<<<<<<<<<<<<<<<<<<<<<<<<<<<<"
   ]
  },
  {
   "cell_type": "code",
   "execution_count": 66,
   "id": "4f7bfd95-ada2-4950-aa17-4a12accc4681",
   "metadata": {},
   "outputs": [
    {
     "name": "stdout",
     "output_type": "stream",
     "text": [
      "276    False\n",
      "292    False\n",
      "256    False\n",
      "482    False\n",
      "357    False\n",
      "       ...  \n",
      "262    False\n",
      "383    False\n",
      "299    False\n",
      "519    False\n",
      "424    False\n",
      "Name: Customer, Length: 578, dtype: bool\n"
     ]
    }
   ],
   "source": [
    "print(df_monthly_spend['Customer']=='A1')"
   ]
  },
  {
   "cell_type": "code",
   "execution_count": 67,
   "id": "829edafc-9e32-49e6-99df-1253b3e5c0b2",
   "metadata": {},
   "outputs": [
    {
     "name": "stdout",
     "output_type": "stream",
     "text": [
      "      Sl No: Customer      Month        Type  Amount  Day  Monthh  Year  \\\n",
      "0          1       A1  12-Jan-04   JEWELLERY  473776   12       1  2004   \n",
      "1          2       A1  03-Jan-04       PETRO  335579    3       1  2004   \n",
      "2          3       A1  15-Jan-04     CLOTHES  371041   15       1  2004   \n",
      "3          4       A1  25-Jan-04        FOOD  141178   25       1  2004   \n",
      "4          5       A1  17-Jan-05      CAMERA  398404   17       1  2005   \n",
      "...      ...      ...        ...         ...     ...  ...     ...   ...   \n",
      "1495    1496      A67  04-Feb-06  BUS TICKET  195841    4       2  2006   \n",
      "1496    1497      A68  25-Mar-06  BUS TICKET  284263   25       3  2006   \n",
      "1497    1498      A69  31-Mar-06  BUS TICKET  206552   31       3  2006   \n",
      "1498    1499      A70  23-Mar-06  BUS TICKET   41025   23       3  2006   \n",
      "1499    1500      A71  24-Mar-06  BUS TICKET  101398   24       3  2006   \n",
      "\n",
      "      customer_spending  Month_num  \n",
      "0               4858295          1  \n",
      "1               4858295          1  \n",
      "2               4858295          1  \n",
      "3               4858295          1  \n",
      "4               4858295          1  \n",
      "...                 ...        ...  \n",
      "1495             599067          2  \n",
      "1496             721690          3  \n",
      "1497             392321          3  \n",
      "1498             202466          3  \n",
      "1499             525093          3  \n",
      "\n",
      "[1500 rows x 10 columns]\n"
     ]
    }
   ],
   "source": [
    "print(df_spend)"
   ]
  },
  {
   "cell_type": "code",
   "execution_count": 68,
   "id": "5b27a5c9-3a26-4889-beb0-66456bffafad",
   "metadata": {},
   "outputs": [],
   "source": [
    "df_Repayment=pd.read_csv(\"Repayment.csv\")"
   ]
  },
  {
   "cell_type": "markdown",
   "id": "6606a568-ed1c-4e7b-8bb3-6139e60371c5",
   "metadata": {},
   "source": [
    "3 Question Answer  <<<<<<<<<<<<<<<<<<<<<<<<<<<<<<<<<<<<<<<<<<<<<<<<<<<<<<<<<<<<<<<<<<<<<<<<<<<<<<<<<<<<<<<<<<<<<<<<<<<<<<<<<<<<<<<<<\n"
   ]
  },
  {
   "cell_type": "code",
   "execution_count": 69,
   "id": "39209010-ed1c-49fe-a14a-e71ecb1b966e",
   "metadata": {},
   "outputs": [
    {
     "name": "stdout",
     "output_type": "stream",
     "text": [
      "      Serial Number  Customer      Month         Amount\n",
      "0                  1       A1  12-Jan-04  331844.007400\n",
      "1                  2       A1  03-Jan-04  441139.807300\n",
      "2                  3       A1  15-Jan-04   32480.004010\n",
      "3                  4       A1  25-Jan-04   90636.966530\n",
      "4                  5       A1  17-Jan-05    1581.969829\n",
      "...              ...      ...        ...            ...\n",
      "1495            1496      A67  09-May-05  200288.874100\n",
      "1496            1497      A68  10-May-06  231194.702300\n",
      "1497            1498      A69  11-Jul-06  391195.615800\n",
      "1498            1499      A70  12-Aug-05  357629.618200\n",
      "1499            1500      A71  13-Sep-04  179771.745200\n",
      "\n",
      "[1500 rows x 4 columns]\n"
     ]
    }
   ],
   "source": [
    "print(df_Repayment)"
   ]
  },
  {
   "cell_type": "code",
   "execution_count": 70,
   "id": "e90a8fd3-0142-4f99-ba1c-8401b5d25753",
   "metadata": {},
   "outputs": [
    {
     "data": {
      "text/plain": [
       "Index(['Serial Number ', 'Customer', 'Month', 'Amount'], dtype='object')"
      ]
     },
     "execution_count": 70,
     "metadata": {},
     "output_type": "execute_result"
    }
   ],
   "source": [
    "df_Repayment.columns"
   ]
  },
  {
   "cell_type": "code",
   "execution_count": 71,
   "id": "4e1f6662-f5c2-4e13-845a-67b841165acb",
   "metadata": {},
   "outputs": [],
   "source": [
    "df_Repayment.rename(columns={'Month ':'Month'},inplace= True)"
   ]
  },
  {
   "cell_type": "code",
   "execution_count": 72,
   "id": "b1ab3c0d-e2ec-4050-a4f2-0cf58c0090ce",
   "metadata": {},
   "outputs": [],
   "source": [
    "date_col=pd.DatetimeIndex(df_Repayment['Month'])\n",
    "df_Repayment['Day']=date_col.day\n",
    "df_Repayment['Month']=date_col.month \n",
    "df_Repayment['Year']=date_col.year "
   ]
  },
  {
   "cell_type": "code",
   "execution_count": 73,
   "id": "a1f284a2-4a51-44de-a1dd-fbfead7e0c4c",
   "metadata": {},
   "outputs": [],
   "source": [
    "df_month_Repayment =df_Repayment.groupby(['Customer','Month'],as_index=False)['Amount'].sum().sort_values(by='Amount',ascending=False)"
   ]
  },
  {
   "cell_type": "code",
   "execution_count": 74,
   "id": "8e365fba-477b-4a9d-b3dd-5da2181612a0",
   "metadata": {},
   "outputs": [
    {
     "name": "stdout",
     "output_type": "stream",
     "text": [
      "    Customer  Month        Amount\n",
      "299      A41      1  3.424759e+06\n",
      "315      A43      1  2.714129e+06\n",
      "120      A22      1  2.709319e+06\n",
      "351      A47      2  2.673269e+06\n",
      "291      A40      1  2.496299e+06\n",
      "..       ...    ...           ...\n",
      "519      A72      2  1.470107e+04\n",
      "205      A30      6  1.269924e+04\n",
      "224      A33      8  6.654642e+03\n",
      "540      A87      3  4.530089e+03\n",
      "373      A49      8  2.470986e+02\n",
      "\n",
      "[558 rows x 3 columns]\n"
     ]
    }
   ],
   "source": [
    "print(df_month_Repayment)"
   ]
  },
  {
   "cell_type": "code",
   "execution_count": 75,
   "id": "af200912-cdf6-46a7-8b9e-0a11a9814ad0",
   "metadata": {},
   "outputs": [
    {
     "data": {
      "text/plain": [
       "Index(['Serial Number ', 'Customer', 'Month', 'Amount', 'Day', 'Year'], dtype='object')"
      ]
     },
     "execution_count": 75,
     "metadata": {},
     "output_type": "execute_result"
    }
   ],
   "source": [
    "df_Repayment.columns"
   ]
  },
  {
   "cell_type": "code",
   "execution_count": 76,
   "id": "69c8fc44-e4ac-4943-ac92-5649f4db7d5a",
   "metadata": {},
   "outputs": [],
   "source": [
    "for i in df_month_Repayment['Month']:\n",
    "    #if df_monthly_spend['Month']== 1 :\n",
    "       df_first_month_payment = df_month_Repayment.loc[df_month_Repayment['Month']== 1].head(10)"
   ]
  },
  {
   "cell_type": "code",
   "execution_count": 77,
   "id": "c63f5d21-f733-4005-948b-1db60be4cc2a",
   "metadata": {},
   "outputs": [],
   "source": [
    "for i in df_month_Repayment['Month']:\n",
    "    #if df_monthly_spend['Month']== 1 :\n",
    "       df_second_month_payment = df_month_Repayment.loc[df_month_Repayment['Month']== 2].head(10)"
   ]
  },
  {
   "cell_type": "code",
   "execution_count": 78,
   "id": "ef3d57b9-849b-4ab8-aa26-d7ca33f81555",
   "metadata": {},
   "outputs": [],
   "source": [
    "for i in df_month_Repayment['Month']:\n",
    "    #if df_monthly_spend['Month']== 1 :\n",
    "       df_third_month_payment = df_month_Repayment.loc[df_month_Repayment['Month']== 3].head(10)"
   ]
  },
  {
   "cell_type": "code",
   "execution_count": 79,
   "id": "14877d12-cd27-4535-8f70-d49f459511b3",
   "metadata": {},
   "outputs": [],
   "source": [
    "for i in df_month_Repayment['Month']:\n",
    "    #if df_monthly_spend['Month']== 1 :\n",
    "       df_fourh_month_payment = df_month_Repayment.loc[df_month_Repayment['Month']== 4].head(10)"
   ]
  },
  {
   "cell_type": "code",
   "execution_count": 80,
   "id": "f4b4a7ef-cd92-4087-894c-e1792d044248",
   "metadata": {},
   "outputs": [],
   "source": [
    "for i in df_month_Repayment['Month']:\n",
    "    #if df_monthly_spend['Month']== 1 :\n",
    "       df_fifth_month_payment = df_month_Repayment.loc[df_month_Repayment['Month']== 5].head(10)"
   ]
  },
  {
   "cell_type": "code",
   "execution_count": 81,
   "id": "559e6887-94fa-4490-b5ce-9fe1ecf9c62a",
   "metadata": {},
   "outputs": [],
   "source": [
    "for i in df_month_Repayment['Month']:\n",
    "    #if df_monthly_spend['Month']== 1 :\n",
    "       df_sixth_month_payment = df_month_Repayment.loc[df_month_Repayment['Month']== 6].head(10)"
   ]
  },
  {
   "cell_type": "code",
   "execution_count": 82,
   "id": "bcc4c7f9-d17e-4126-913e-ac5d0a0f5874",
   "metadata": {},
   "outputs": [],
   "source": [
    "for i in df_month_Repayment['Month']:\n",
    "    #if df_monthly_spend['Month']== 1 :\n",
    "       df_seventh_month_payment = df_month_Repayment.loc[df_month_Repayment['Month']== 7].head(10)"
   ]
  },
  {
   "cell_type": "code",
   "execution_count": 83,
   "id": "623ce032-afe6-462f-9b2f-c97d5376e6bc",
   "metadata": {},
   "outputs": [],
   "source": [
    "for i in df_month_Repayment['Month']:\n",
    "    #if df_monthly_spend['Month']== 1 :\n",
    "       df_eighth_month_payment = df_month_Repayment.loc[df_month_Repayment['Month']== 8].head(10)"
   ]
  },
  {
   "cell_type": "code",
   "execution_count": 84,
   "id": "cb498240-266f-4667-95e9-670e05cbce5d",
   "metadata": {},
   "outputs": [],
   "source": [
    "for i in df_month_Repayment['Month']:\n",
    "    #if df_monthly_spend['Month']== 1 :\n",
    "       df_nineth_month_payment = df_month_Repayment.loc[df_month_Repayment['Month']== 9].head(10)"
   ]
  },
  {
   "cell_type": "code",
   "execution_count": 85,
   "id": "0f367372-291c-45e9-899d-2e7fc25d8be9",
   "metadata": {},
   "outputs": [],
   "source": [
    "for i in df_month_Repayment['Month']:\n",
    "    #if df_monthly_spend['Month']== 1 :\n",
    "       df_tenth_month_payment = df_month_Repayment.loc[df_month_Repayment['Month']== 10].head(10)"
   ]
  },
  {
   "cell_type": "code",
   "execution_count": 86,
   "id": "47ef230d-1706-458a-9da1-772d63a2f3f2",
   "metadata": {},
   "outputs": [],
   "source": [
    "for i in df_month_Repayment['Month']:\n",
    "    #if df_monthly_spend['Month']== 1 :\n",
    "       df_eleventh_month_payment = df_month_Repayment.loc[df_month_Repayment['Month']== 11].head(10)"
   ]
  },
  {
   "cell_type": "code",
   "execution_count": 87,
   "id": "6cd8d654-478c-4cb8-8be9-7ea0a6132dbd",
   "metadata": {},
   "outputs": [],
   "source": [
    "for i in df_month_Repayment['Month']:\n",
    "    #if df_monthly_spend['Month']== 1 :\n",
    "       df_twelth_month_payment = df_month_Repayment.loc[df_month_Repayment['Month']== 12].head(10)"
   ]
  },
  {
   "cell_type": "code",
   "execution_count": 88,
   "id": "6716db82-9d5c-4a4f-b8a3-9dff03e1c4a9",
   "metadata": {},
   "outputs": [
    {
     "name": "stdout",
     "output_type": "stream",
     "text": [
      "    Customer  Month        Amount\n",
      "299      A41      1  3.424759e+06\n",
      "315      A43      1  2.714129e+06\n",
      "120      A22      1  2.709319e+06\n",
      "291      A40      1  2.496299e+06\n",
      "275      A39      1  2.386025e+06\n",
      "467      A60      1  2.259719e+06\n",
      "342      A46      1  2.159322e+06\n",
      "509       A7      1  2.101509e+06\n",
      "307      A42      1  1.947733e+06\n",
      "324      A44      1  1.945538e+06\n"
     ]
    }
   ],
   "source": [
    "print(df_first_month_payment)"
   ]
  },
  {
   "cell_type": "code",
   "execution_count": 89,
   "id": "d75205d6-d837-44c4-a2c0-8de1f66153ad",
   "metadata": {},
   "outputs": [
    {
     "data": {
      "text/plain": [
       "Text(0.5, 1.0, 'January')"
      ]
     },
     "execution_count": 89,
     "metadata": {},
     "output_type": "execute_result"
    },
    {
     "data": {
      "image/png": "[encoded data removed]",
      "text/plain": [
       "<Figure size 1000x1000 with 1 Axes>"
      ]
     },
     "metadata": {},
     "output_type": "display_data"
    }
   ],
   "source": [
    "sns.barplot(x='Customer',y='Amount',data=df_first_month_payment)\n",
    "plt.title('January')"
   ]
  },
  {
   "cell_type": "code",
   "execution_count": 90,
   "id": "f22ded97-bf39-4857-9170-d6ce89699d9e",
   "metadata": {},
   "outputs": [
    {
     "data": {
      "text/plain": [
       "Text(0.5, 1.0, 'February')"
      ]
     },
     "execution_count": 90,
     "metadata": {},
     "output_type": "execute_result"
    },
    {
     "data": {
      "image/png": "[encoded data removed]",
      "text/plain": [
       "<Figure size 1000x1000 with 1 Axes>"
      ]
     },
     "metadata": {},
     "output_type": "display_data"
    }
   ],
   "source": [
    "sns.barplot(x='Customer',y='Amount',data=df_second_month_payment)\n",
    "plt.title('February')"
   ]
  },
  {
   "cell_type": "markdown",
   "id": "eaec45df-f8bc-4d7e-aa6d-77a8de884ecc",
   "metadata": {},
   "source": [
    "<<<<<<<<<<<<<<<<<<<<<<<<<<<<<<<<<<<<<<<<<<<<<<<<<<<<<<<<<<<<<<<<<<<<<<<<<<<<<<<<<<<<<<<<<<<<<<<<<<<<<<<<<<<<<<<<<<<<<<<<<<<<<<<<<<<<<<<<<<<<<<<<<<<<<<<<"
   ]
  },
  {
   "cell_type": "code",
   "execution_count": 91,
   "id": "f547558e-c610-4272-9873-e8d4fc5e59c0",
   "metadata": {},
   "outputs": [],
   "source": [
    "df_highest_10 = df_Repayment.groupby(['Customer'], as_index=False)['Amount'].sum().sort_values(by='Amount',ascending=False).head(10)"
   ]
  },
  {
   "cell_type": "code",
   "execution_count": 92,
   "id": "c151acbb-807c-43c9-b551-fafc3b6e9afc",
   "metadata": {},
   "outputs": [
    {
     "name": "stdout",
     "output_type": "stream",
     "text": [
      "   Customer        Amount\n",
      "15      A22  9.767171e+06\n",
      "57      A60  9.262032e+06\n",
      "58      A61  8.807888e+06\n",
      "35      A40  8.805085e+06\n",
      "42      A47  8.529826e+06\n",
      "38      A43  8.458621e+06\n",
      "43      A48  8.432804e+06\n",
      "36      A41  8.374046e+06\n",
      "44      A49  8.259841e+06\n",
      "40      A45  8.115210e+06\n"
     ]
    }
   ],
   "source": [
    "print(df_highest_10)"
   ]
  },
  {
   "cell_type": "code",
   "execution_count": 93,
   "id": "b8e48ddd-6293-4af4-b4e5-eb21f4ec01aa",
   "metadata": {},
   "outputs": [
    {
     "data": {
      "text/plain": [
       "<Axes: xlabel='Customer', ylabel='Amount'>"
      ]
     },
     "execution_count": 93,
     "metadata": {},
     "output_type": "execute_result"
    },
    {
     "data": {
      "image/png": "[encoded data removed]",
      "text/plain": [
       "<Figure size 1000x1000 with 1 Axes>"
      ]
     },
     "metadata": {},
     "output_type": "display_data"
    }
   ],
   "source": [
    "sns.barplot(x='Customer',y='Amount',data=df_highest_10)"
   ]
  },
  {
   "cell_type": "markdown",
   "id": "1866dd08-11f0-4399-a35e-d0ef8231ca0c",
   "metadata": {},
   "source": [
    "4 Question Answer<<<<<<<<<<<<<<<<<<<<<<<<<<<<<<<<<<<<<<<<<<<<<<<<<<<<<<<<<<<<<<<<<<<<<<<<<<<<<<<<<<<<<<<<<<<<<\n"
   ]
  },
  {
   "cell_type": "code",
   "execution_count": 94,
   "id": "432b0734-5b94-4936-8480-daeafb648a7e",
   "metadata": {},
   "outputs": [],
   "source": [
    "df_merged = pd.merge(df_cus_aq,df_spend,on='Customer')"
   ]
  },
  {
   "cell_type": "code",
   "execution_count": 95,
   "id": "081c705c-d0ac-4039-8233-0ce5674a114e",
   "metadata": {},
   "outputs": [
    {
     "name": "stdout",
     "output_type": "stream",
     "text": [
      "      Sl No:_x Customer      Age        City Credit Card Product  \\\n",
      "0            1       A1   0.9285   BANGALORE                Gold   \n",
      "1            1       A1   0.9285   BANGALORE                Gold   \n",
      "2            1       A1   0.9285   BANGALORE                Gold   \n",
      "3            1       A1   0.9285   BANGALORE                Gold   \n",
      "4            1       A1   0.9285   BANGALORE                Gold   \n",
      "...        ...      ...      ...         ...                 ...   \n",
      "1495        96      A96  29.6316     CHENNAI              Silver   \n",
      "1496        97      A97  20.6118  TRIVANDRUM            Platimum   \n",
      "1497        98      A98  40.5390    CALCUTTA            Platimum   \n",
      "1498        99      A99  21.5887    CALCUTTA            Platimum   \n",
      "1499       100     A100  23.6076      COCHIN              Silver   \n",
      "\n",
      "               Limit Company        Segment  Sl No:_y      Month        Type  \\\n",
      "0     INR 500,000.00      C1  Self Employed         1  12-Jan-04   JEWELLERY   \n",
      "1     INR 500,000.00      C1  Self Employed         2  03-Jan-04       PETRO   \n",
      "2     INR 500,000.00      C1  Self Employed         3  15-Jan-04     CLOTHES   \n",
      "3     INR 500,000.00      C1  Self Employed         4  25-Jan-04        FOOD   \n",
      "4     INR 500,000.00      C1  Self Employed         5  17-Jan-05      CAMERA   \n",
      "...              ...     ...            ...       ...        ...         ...   \n",
      "1495  INR 100,000.00     C19   Salaried_Pvt        98  25-Jan-04        BIKE   \n",
      "1496   INR 10,000.00     C20           Govt        99  12-Jan-04        AUTO   \n",
      "1497   INR 10,001.00     C21  Normal Salary       100  03-Jan-04    SHOPPING   \n",
      "1498   INR 10,002.00     C22  Self Employed       101  15-Jan-04  AIR TICKET   \n",
      "1499  INR 100,000.00      C5   Salaried_MNC       102  25-Jan-04  BUS TICKET   \n",
      "\n",
      "      Amount  Day  Monthh  Year  customer_spending  Month_num  \n",
      "0     473776   12       1  2004            4858295          1  \n",
      "1     335579    3       1  2004            4858295          1  \n",
      "2     371041   15       1  2004            4858295          1  \n",
      "3     141178   25       1  2004            4858295          1  \n",
      "4     398404   17       1  2005            4858295          1  \n",
      "...      ...  ...     ...   ...                ...        ...  \n",
      "1495  320364   25       1  2004             320364          1  \n",
      "1496  164330   12       1  2004             164330          1  \n",
      "1497   87484    3       1  2004              87484          1  \n",
      "1498  476020   15       1  2004             476020          1  \n",
      "1499   42254   25       1  2004              42254          1  \n",
      "\n",
      "[1500 rows x 17 columns]\n"
     ]
    }
   ],
   "source": [
    "print(df_merged)"
   ]
  },
  {
   "cell_type": "code",
   "execution_count": 96,
   "id": "09607883-759f-4e0e-b6f5-2e643990a8ae",
   "metadata": {},
   "outputs": [
    {
     "name": "stdout",
     "output_type": "stream",
     "text": [
      "      Sl No:_x Customer      Age        City Credit Card Product  \\\n",
      "0            1       A1   0.9285   BANGALORE                Gold   \n",
      "1            1       A1   0.9285   BANGALORE                Gold   \n",
      "2            1       A1   0.9285   BANGALORE                Gold   \n",
      "3            1       A1   0.9285   BANGALORE                Gold   \n",
      "4            1       A1   0.9285   BANGALORE                Gold   \n",
      "...        ...      ...      ...         ...                 ...   \n",
      "1495        96      A96  29.6316     CHENNAI              Silver   \n",
      "1496        97      A97  20.6118  TRIVANDRUM            Platimum   \n",
      "1497        98      A98  40.5390    CALCUTTA            Platimum   \n",
      "1498        99      A99  21.5887    CALCUTTA            Platimum   \n",
      "1499       100     A100  23.6076      COCHIN              Silver   \n",
      "\n",
      "               Limit Company        Segment  Sl No:_y      Month        Type  \\\n",
      "0     INR 500,000.00      C1  Self Employed         1  12-Jan-04   JEWELLERY   \n",
      "1     INR 500,000.00      C1  Self Employed         2  03-Jan-04       PETRO   \n",
      "2     INR 500,000.00      C1  Self Employed         3  15-Jan-04     CLOTHES   \n",
      "3     INR 500,000.00      C1  Self Employed         4  25-Jan-04        FOOD   \n",
      "4     INR 500,000.00      C1  Self Employed         5  17-Jan-05      CAMERA   \n",
      "...              ...     ...            ...       ...        ...         ...   \n",
      "1495  INR 100,000.00     C19   Salaried_Pvt        98  25-Jan-04        BIKE   \n",
      "1496   INR 10,000.00     C20           Govt        99  12-Jan-04        AUTO   \n",
      "1497   INR 10,001.00     C21  Normal Salary       100  03-Jan-04    SHOPPING   \n",
      "1498   INR 10,002.00     C22  Self Employed       101  15-Jan-04  AIR TICKET   \n",
      "1499  INR 100,000.00      C5   Salaried_MNC       102  25-Jan-04  BUS TICKET   \n",
      "\n",
      "      Amount  Day  Monthh  Year  customer_spending  Month_num  \n",
      "0     473776   12       1  2004            4858295          1  \n",
      "1     335579    3       1  2004            4858295          1  \n",
      "2     371041   15       1  2004            4858295          1  \n",
      "3     141178   25       1  2004            4858295          1  \n",
      "4     398404   17       1  2005            4858295          1  \n",
      "...      ...  ...     ...   ...                ...        ...  \n",
      "1495  320364   25       1  2004             320364          1  \n",
      "1496  164330   12       1  2004             164330          1  \n",
      "1497   87484    3       1  2004              87484          1  \n",
      "1498  476020   15       1  2004             476020          1  \n",
      "1499   42254   25       1  2004              42254          1  \n",
      "\n",
      "[1500 rows x 17 columns]\n"
     ]
    }
   ],
   "source": [
    "print(df_cus_aq.merge(df_spend, on='Customer',how='left'))"
   ]
  },
  {
   "cell_type": "code",
   "execution_count": 97,
   "id": "931560e5-1824-4b0b-aee4-18d27261fa01",
   "metadata": {},
   "outputs": [
    {
     "name": "stdout",
     "output_type": "stream",
     "text": [
      "      Sl No:_x Customer      Age        City Credit Card Product  \\\n",
      "0            1       A1   0.9285   BANGALORE                Gold   \n",
      "1            1       A1   0.9285   BANGALORE                Gold   \n",
      "2            1       A1   0.9285   BANGALORE                Gold   \n",
      "3            1       A1   0.9285   BANGALORE                Gold   \n",
      "4            1       A1   0.9285   BANGALORE                Gold   \n",
      "...        ...      ...      ...         ...                 ...   \n",
      "1495        96      A96  29.6316     CHENNAI              Silver   \n",
      "1496        97      A97  20.6118  TRIVANDRUM            Platimum   \n",
      "1497        98      A98  40.5390    CALCUTTA            Platimum   \n",
      "1498        99      A99  21.5887    CALCUTTA            Platimum   \n",
      "1499       100     A100  23.6076      COCHIN              Silver   \n",
      "\n",
      "               Limit Company        Segment  Sl No:_y      Month        Type  \\\n",
      "0     INR 500,000.00      C1  Self Employed         1  12-Jan-04   JEWELLERY   \n",
      "1     INR 500,000.00      C1  Self Employed         2  03-Jan-04       PETRO   \n",
      "2     INR 500,000.00      C1  Self Employed         3  15-Jan-04     CLOTHES   \n",
      "3     INR 500,000.00      C1  Self Employed         4  25-Jan-04        FOOD   \n",
      "4     INR 500,000.00      C1  Self Employed         5  17-Jan-05      CAMERA   \n",
      "...              ...     ...            ...       ...        ...         ...   \n",
      "1495  INR 100,000.00     C19   Salaried_Pvt        98  25-Jan-04        BIKE   \n",
      "1496   INR 10,000.00     C20           Govt        99  12-Jan-04        AUTO   \n",
      "1497   INR 10,001.00     C21  Normal Salary       100  03-Jan-04    SHOPPING   \n",
      "1498   INR 10,002.00     C22  Self Employed       101  15-Jan-04  AIR TICKET   \n",
      "1499  INR 100,000.00      C5   Salaried_MNC       102  25-Jan-04  BUS TICKET   \n",
      "\n",
      "      Amount  Day  Monthh  Year  customer_spending  Month_num  \n",
      "0     473776   12       1  2004            4858295          1  \n",
      "1     335579    3       1  2004            4858295          1  \n",
      "2     371041   15       1  2004            4858295          1  \n",
      "3     141178   25       1  2004            4858295          1  \n",
      "4     398404   17       1  2005            4858295          1  \n",
      "...      ...  ...     ...   ...                ...        ...  \n",
      "1495  320364   25       1  2004             320364          1  \n",
      "1496  164330   12       1  2004             164330          1  \n",
      "1497   87484    3       1  2004              87484          1  \n",
      "1498  476020   15       1  2004             476020          1  \n",
      "1499   42254   25       1  2004              42254          1  \n",
      "\n",
      "[1500 rows x 17 columns]\n"
     ]
    }
   ],
   "source": [
    "print(df_merged)"
   ]
  },
  {
   "cell_type": "code",
   "execution_count": 98,
   "id": "31ee7bb2-d2b2-453c-83a5-fba7fbe6857a",
   "metadata": {},
   "outputs": [
    {
     "data": {
      "text/plain": [
       "Index(['Sl No:_x', 'Customer', 'Age', 'City', 'Credit Card Product', 'Limit',\n",
       "       'Company', 'Segment', 'Sl No:_y', 'Month', 'Type', 'Amount', 'Day',\n",
       "       'Monthh', 'Year', 'customer_spending', 'Month_num'],\n",
       "      dtype='object')"
      ]
     },
     "execution_count": 98,
     "metadata": {},
     "output_type": "execute_result"
    }
   ],
   "source": [
    "df_merged.columns"
   ]
  },
  {
   "cell_type": "code",
   "execution_count": 99,
   "id": "f69b14b3-949a-4ccd-ad3d-bf67d1eaa39b",
   "metadata": {},
   "outputs": [
    {
     "name": "stdout",
     "output_type": "stream",
     "text": [
      "[ 1  2  4 11  8 10  5  9 12  3  7  6]\n"
     ]
    }
   ],
   "source": [
    "print(df_merged['Monthh'].unique())"
   ]
  },
  {
   "cell_type": "code",
   "execution_count": 100,
   "id": "53b05e25-6c7a-45fb-b59a-9c9670bb22de",
   "metadata": {},
   "outputs": [
    {
     "name": "stdout",
     "output_type": "stream",
     "text": [
      "object\n"
     ]
    }
   ],
   "source": [
    "print(df_merged['Month'].dtypes)"
   ]
  },
  {
   "cell_type": "code",
   "execution_count": 101,
   "id": "a5b942d4-15fc-4d04-abfe-2f3278d023c9",
   "metadata": {},
   "outputs": [],
   "source": [
    "df_merged.rename(columns={'Month ':'month'},inplace= True)"
   ]
  },
  {
   "cell_type": "code",
   "execution_count": 102,
   "id": "816cd992-eef8-413f-86a8-334da2d421f1",
   "metadata": {},
   "outputs": [],
   "source": [
    "df_segment_spending=df_merged.groupby(['Segment'],as_index= False)['Amount'].sum().sort_values(by='Amount',ascending= False)"
   ]
  },
  {
   "cell_type": "code",
   "execution_count": 103,
   "id": "add6c42f-8e31-4ff2-9b94-ab8b8706d232",
   "metadata": {},
   "outputs": [],
   "source": [
    "df_segement_spending= df_merged.groupby(['Segment','Monthh'],as_index=False)['Amount'].sum().sort_values(by='Amount',ascending= False) "
   ]
  },
  {
   "cell_type": "markdown",
   "id": "c9d049b3-9723-4e25-b496-93e510151ee5",
   "metadata": {},
   "source": [
    "I want to group the month in the above code <<<<<'Doubt'>>>>>>>>>>"
   ]
  },
  {
   "cell_type": "code",
   "execution_count": 104,
   "id": "1f43e617-07f8-4e34-a1dd-2f361de43d5c",
   "metadata": {},
   "outputs": [
    {
     "name": "stdout",
     "output_type": "stream",
     "text": [
      "          Segment  Monthh    Amount\n",
      "12  Normal Salary       1  25391039\n",
      "14  Normal Salary       3  17710389\n",
      "36   Salaried_Pvt       1  16897019\n",
      "16  Normal Salary       5  16311834\n",
      "13  Normal Salary       2  15777061\n",
      "48  Self Employed       1  15293441\n",
      "0            Govt       1  14572538\n",
      "24   Salaried_MNC       1  14499911\n",
      "49  Self Employed       2  14312613\n",
      "28   Salaried_MNC       5  10995840\n",
      "1            Govt       2  10911280\n",
      "37   Salaried_Pvt       2  10429448\n",
      "4            Govt       5  10365033\n",
      "2            Govt       3  10169037\n",
      "50  Self Employed       3   9982564\n",
      "39   Salaried_Pvt       4   9845574\n",
      "15  Normal Salary       4   9831911\n",
      "26   Salaried_MNC       3   9674072\n",
      "52  Self Employed       5   9148506\n",
      "51  Self Employed       4   8714992\n",
      "25   Salaried_MNC       2   8612072\n",
      "38   Salaried_Pvt       3   8569018\n",
      "40   Salaried_Pvt       5   8548867\n",
      "22  Normal Salary      11   6178559\n",
      "27   Salaried_MNC       4   6105299\n",
      "3            Govt       4   5538621\n",
      "46   Salaried_Pvt      11   5375395\n",
      "58  Self Employed      11   4436883\n",
      "17  Normal Salary       6   3888481\n",
      "34   Salaried_MNC      11   3744426\n",
      "41   Salaried_Pvt       6   3467885\n",
      "10           Govt      11   3447536\n",
      "19  Normal Salary       8   3398538\n",
      "53  Self Employed       6   3395679\n",
      "5            Govt       6   3221539\n",
      "30   Salaried_MNC       7   2775971\n",
      "21  Normal Salary      10   2581228\n",
      "6            Govt       7   2510315\n",
      "43   Salaried_Pvt       8   2461845\n",
      "18  Normal Salary       7   2366340\n",
      "56  Self Employed       9   2321107\n",
      "32   Salaried_MNC       9   2255641\n",
      "44   Salaried_Pvt       9   2243182\n",
      "20  Normal Salary       9   2195333\n",
      "8            Govt       9   2170194\n",
      "23  Normal Salary      12   2076426\n",
      "42   Salaried_Pvt       7   2017364\n",
      "7            Govt       8   1962141\n",
      "35   Salaried_MNC      12   1654478\n",
      "55  Self Employed       8   1463297\n",
      "11           Govt      12   1440093\n",
      "29   Salaried_MNC       6   1284364\n",
      "33   Salaried_MNC      10   1280327\n",
      "54  Self Employed       7   1230564\n",
      "47   Salaried_Pvt      12   1184135\n",
      "9            Govt      10   1017300\n",
      "31   Salaried_MNC       8    757085\n",
      "57  Self Employed      10    675835\n",
      "45   Salaried_Pvt      10    664580\n"
     ]
    }
   ],
   "source": [
    "print(df_segement_spending)"
   ]
  },
  {
   "cell_type": "code",
   "execution_count": 105,
   "id": "c2488467-7709-4d7a-89c9-115a9a9342eb",
   "metadata": {},
   "outputs": [],
   "source": [
    "#for i in df_segment_spending['Segment']:\n",
    "    #if df_monthly_spend['Month']== 1 :\n",
    "#df_first_month_segment = df_segment_spending.loc[df_segment_spending['Monthh']== 1]"
   ]
  },
  {
   "cell_type": "code",
   "execution_count": 106,
   "id": "eb46aa1e-1f9c-4c78-8ae1-2446c93cf811",
   "metadata": {},
   "outputs": [],
   "source": [
    "#print(df_first_month_segment)"
   ]
  },
  {
   "cell_type": "code",
   "execution_count": 107,
   "id": "c57c891f-2a51-4441-83c3-c3cb0c64ab25",
   "metadata": {},
   "outputs": [],
   "source": [
    "#df_segment_spending['Month']=df_segment_spending['Monthh']"
   ]
  },
  {
   "cell_type": "code",
   "execution_count": 108,
   "id": "822a0e98-dbfa-47c0-b9f6-26985c66e811",
   "metadata": {},
   "outputs": [
    {
     "data": {
      "text/plain": [
       "Index(['Segment', 'Amount'], dtype='object')"
      ]
     },
     "execution_count": 108,
     "metadata": {},
     "output_type": "execute_result"
    }
   ],
   "source": [
    "df_segment_spending.columns"
   ]
  },
  {
   "cell_type": "code",
   "execution_count": 109,
   "id": "b77f8e1d-3f6f-410b-9ad8-7bae43d735d9",
   "metadata": {},
   "outputs": [],
   "source": [
    "#for i in df_segment_spending['Monthh']:\n",
    "    #if df_monthly_spend['Month']== 1 :\n",
    " #      df_first_month_spending_segment = df_segment_spending.loc[df_segment_spending['Monthh']== 1]"
   ]
  },
  {
   "cell_type": "code",
   "execution_count": 110,
   "id": "6def94a4-160c-4336-8235-ce51208a9ee5",
   "metadata": {},
   "outputs": [],
   "source": [
    "#print(df_normal_salary)"
   ]
  },
  {
   "cell_type": "code",
   "execution_count": 111,
   "id": "2fc0740a-08ee-4d42-a988-0689628ad643",
   "metadata": {},
   "outputs": [
    {
     "data": {
      "text/plain": [
       "<Axes: xlabel='Segment', ylabel='Amount'>"
      ]
     },
     "execution_count": 111,
     "metadata": {},
     "output_type": "execute_result"
    },
    {
     "data": {
      "image/png": "[encoded data removed]",
      "text/plain": [
       "<Figure size 1000x1000 with 1 Axes>"
      ]
     },
     "metadata": {},
     "output_type": "display_data"
    }
   ],
   "source": [
    "sns.barplot(x='Segment',y='Amount',data=df_segement_spending)"
   ]
  },
  {
   "cell_type": "markdown",
   "id": "68a11a15-7c09-4822-8030-85548c0b812e",
   "metadata": {},
   "source": [
    "5 Question Answer \n",
    "\n",
    "I want to make age group of different ages like if a person belongs to a particular age will come in some specific age group\n"
   ]
  },
  {
   "cell_type": "code",
   "execution_count": 112,
   "id": "365c6f05-c210-4e18-b7f5-f498a1c82de0",
   "metadata": {},
   "outputs": [],
   "source": [
    "df_age_group_spending=df_merged.groupby(['Age'],as_index=False)['Amount'].sum().sort_values(by='Amount',ascending=False)"
   ]
  },
  {
   "cell_type": "code",
   "execution_count": 113,
   "id": "1dcfa073-0aa2-419e-8da3-cfeba0444733",
   "metadata": {},
   "outputs": [],
   "source": [
    "df_age_group_spending['Age']=df_age_group_spending['Age'].astype(int)"
   ]
  },
  {
   "cell_type": "code",
   "execution_count": 114,
   "id": "65297921-9190-4b15-b174-fe809259a815",
   "metadata": {},
   "outputs": [
    {
     "name": "stdout",
     "output_type": "stream",
     "text": [
      "    Age   Amount\n",
      "44   36  9637821\n",
      "65   52  9595037\n",
      "94   74  9317672\n",
      "52   44  9148466\n",
      "98   78  9056652\n",
      "..  ...      ...\n",
      "49   40    87484\n",
      "76   62    83931\n",
      "85   68    65278\n",
      "69   57    56942\n",
      "29   23    42254\n",
      "\n",
      "[100 rows x 2 columns]\n"
     ]
    }
   ],
   "source": [
    "print(df_age_group_spending)"
   ]
  },
  {
   "cell_type": "code",
   "execution_count": null,
   "id": "8ce4b7f4-6259-4b30-8b4d-70b885dee793",
   "metadata": {},
   "outputs": [],
   "source": []
  },
  {
   "cell_type": "code",
   "execution_count": 115,
   "id": "6f55bb33-208f-4630-b598-9b2e994632f3",
   "metadata": {},
   "outputs": [
    {
     "name": "stdout",
     "output_type": "stream",
     "text": [
      "    Age   Amount\n",
      "44   36  9637821\n",
      "65   52  9595037\n",
      "94   74  9317672\n",
      "52   44  9148466\n",
      "98   78  9056652\n",
      "..  ...      ...\n",
      "49   40    87484\n",
      "76   62    83931\n",
      "85   68    65278\n",
      "69   57    56942\n",
      "29   23    42254\n",
      "\n",
      "[100 rows x 2 columns]\n"
     ]
    }
   ],
   "source": [
    "print(df_age_group_spending)"
   ]
  },
  {
   "cell_type": "code",
   "execution_count": 116,
   "id": "f27b9066-7579-40b2-b399-9c7460c1ef7a",
   "metadata": {},
   "outputs": [
    {
     "data": {
      "text/plain": [
       "<Axes: xlabel='Age', ylabel='Amount'>"
      ]
     },
     "execution_count": 116,
     "metadata": {},
     "output_type": "execute_result"
    },
    {
     "data": {
      "image/png": "[encoded data removed]",
      "text/plain": [
       "<Figure size 1000x1000 with 1 Axes>"
      ]
     },
     "metadata": {},
     "output_type": "display_data"
    }
   ],
   "source": [
    "sns.barplot(x='Age',y='Amount',data=df_age_group_spending)"
   ]
  },
  {
   "cell_type": "code",
   "execution_count": 117,
   "id": "e5f9fdaf-dc6f-45b2-a7f2-b0547db71960",
   "metadata": {},
   "outputs": [],
   "source": [
    "#df_age_spending "
   ]
  },
  {
   "cell_type": "code",
   "execution_count": 118,
   "id": "71467a0c-cf26-4989-8c15-a2f0dfd193da",
   "metadata": {},
   "outputs": [
    {
     "name": "stdout",
     "output_type": "stream",
     "text": [
      "23\n"
     ]
    }
   ],
   "source": [
    "#df_age_group= pd.DataFrame()\n",
    "for i in df_age_group_spending['Age']:\n",
    " if i<0 and i>20:\n",
    "   df_age_group =df_age_group.append(i) \n",
    "else:\n",
    "     print(i)\n",
    "    \n",
    "     "
   ]
  },
  {
   "cell_type": "markdown",
   "id": "48c619bc-9442-49d1-a041-7824d5f2ea31",
   "metadata": {},
   "source": [
    "6 Question Answer"
   ]
  },
  {
   "cell_type": "code",
   "execution_count": 119,
   "id": "6eb072dd-0f48-459a-a4d1-bc67ebea907d",
   "metadata": {},
   "outputs": [
    {
     "name": "stdout",
     "output_type": "stream",
     "text": [
      "    Sl No: Customer      Age        City Credit Card Product           Limit  \\\n",
      "0        1       A1   0.9285   BANGALORE                Gold  INR 500,000.00   \n",
      "1        2       A2  35.5346    CALCUTTA              Silver  INR 100,000.00   \n",
      "2        3       A3  11.5593      COCHIN            Platimum   INR 10,000.00   \n",
      "3        4       A4  45.8203      BOMBAY            Platimum   INR 10,001.00   \n",
      "4        5       A5  69.6639   BANGALORE            Platimum   INR 10,002.00   \n",
      "..     ...      ...      ...         ...                 ...             ...   \n",
      "95      96      A96  29.6316     CHENNAI              Silver  INR 100,000.00   \n",
      "96      97      A97  20.6118  TRIVANDRUM            Platimum   INR 10,000.00   \n",
      "97      98      A98  40.5390    CALCUTTA            Platimum   INR 10,001.00   \n",
      "98      99      A99  21.5887    CALCUTTA            Platimum   INR 10,002.00   \n",
      "99     100     A100  23.6076      COCHIN              Silver  INR 100,000.00   \n",
      "\n",
      "   Company        Segment  \n",
      "0       C1  Self Employed  \n",
      "1       C2   Salaried_MNC  \n",
      "2       C3   Salaried_Pvt  \n",
      "3       C4           Govt  \n",
      "4       C5  Normal Salary  \n",
      "..     ...            ...  \n",
      "95     C19   Salaried_Pvt  \n",
      "96     C20           Govt  \n",
      "97     C21  Normal Salary  \n",
      "98     C22  Self Employed  \n",
      "99      C5   Salaried_MNC  \n",
      "\n",
      "[100 rows x 8 columns]\n"
     ]
    }
   ],
   "source": [
    "print(df_cus_aq)"
   ]
  },
  {
   "cell_type": "code",
   "execution_count": 120,
   "id": "a3a7ff38-704b-4aa7-aab6-8f50ae7fd310",
   "metadata": {},
   "outputs": [
    {
     "data": {
      "text/plain": [
       "Index(['Sl No:', 'Customer', 'Age', 'City', 'Credit Card Product', 'Limit',\n",
       "       'Company', 'Segment'],\n",
       "      dtype='object')"
      ]
     },
     "execution_count": 120,
     "metadata": {},
     "output_type": "execute_result"
    }
   ],
   "source": [
    "df_cus_aq.columns"
   ]
  },
  {
   "cell_type": "code",
   "execution_count": 121,
   "id": "70b49fdb-ee83-43b0-989f-e74b6b03a602",
   "metadata": {},
   "outputs": [],
   "source": [
    "df_Gold= df_cus_aq.groupby(['Credit Card Product'])"
   ]
  },
  {
   "cell_type": "code",
   "execution_count": 122,
   "id": "48768b7c-973f-417b-a500-41d5f7907c09",
   "metadata": {},
   "outputs": [],
   "source": [
    "df_type = df_cus_aq.groupby(df_cus_aq.columns.tolist(), as_index=False).size()"
   ]
  },
  {
   "cell_type": "code",
   "execution_count": 123,
   "id": "13d97bb7-1e28-442c-a5fb-1492d8d63669",
   "metadata": {},
   "outputs": [
    {
     "name": "stdout",
     "output_type": "stream",
     "text": [
      "    Sl No: Customer      Age        City Credit Card Product           Limit  \\\n",
      "0        1       A1   0.9285   BANGALORE                Gold  INR 500,000.00   \n",
      "1        2       A2  35.5346    CALCUTTA              Silver  INR 100,000.00   \n",
      "2        3       A3  11.5593      COCHIN            Platimum   INR 10,000.00   \n",
      "3        4       A4  45.8203      BOMBAY            Platimum   INR 10,001.00   \n",
      "4        5       A5  69.6639   BANGALORE            Platimum   INR 10,002.00   \n",
      "..     ...      ...      ...         ...                 ...             ...   \n",
      "95      96      A96  29.6316     CHENNAI              Silver  INR 100,000.00   \n",
      "96      97      A97  20.6118  TRIVANDRUM            Platimum   INR 10,000.00   \n",
      "97      98      A98  40.5390    CALCUTTA            Platimum   INR 10,001.00   \n",
      "98      99      A99  21.5887    CALCUTTA            Platimum   INR 10,002.00   \n",
      "99     100     A100  23.6076      COCHIN              Silver  INR 100,000.00   \n",
      "\n",
      "   Company        Segment  size  \n",
      "0       C1  Self Employed     1  \n",
      "1       C2   Salaried_MNC     1  \n",
      "2       C3   Salaried_Pvt     1  \n",
      "3       C4           Govt     1  \n",
      "4       C5  Normal Salary     1  \n",
      "..     ...            ...   ...  \n",
      "95     C19   Salaried_Pvt     1  \n",
      "96     C20           Govt     1  \n",
      "97     C21  Normal Salary     1  \n",
      "98     C22  Self Employed     1  \n",
      "99      C5   Salaried_MNC     1  \n",
      "\n",
      "[100 rows x 9 columns]\n"
     ]
    }
   ],
   "source": [
    "print(df_type)"
   ]
  },
  {
   "cell_type": "code",
   "execution_count": 124,
   "id": "e6da41e2-32bb-41d3-9d09-7a0db40b9f25",
   "metadata": {},
   "outputs": [
    {
     "ename": "SyntaxError",
     "evalue": "cannot assign to literal (2537734208.py, line 1)",
     "output_type": "error",
     "traceback": [
      "\u001b[1;36m  Cell \u001b[1;32mIn[124], line 1\u001b[1;36m\u001b[0m\n\u001b[1;33m    df_most_credit_card['product'],['sum']=df_type.groupby(['Credit Card Product']),df_type['size'].sum()\u001b[0m\n\u001b[1;37m                                    ^\u001b[0m\n\u001b[1;31mSyntaxError\u001b[0m\u001b[1;31m:\u001b[0m cannot assign to literal\n"
     ]
    }
   ],
   "source": [
    "df_most_credit_card['product'],['sum']=df_type.groupby(['Credit Card Product']),df_type['size'].sum()"
   ]
  },
  {
   "cell_type": "code",
   "execution_count": null,
   "id": "916d312b-1c09-42fd-8e65-c97af107c22a",
   "metadata": {},
   "outputs": [],
   "source": [
    "#df_most_credit_card['sum']=df_type['size'].sum()"
   ]
  },
  {
   "cell_type": "code",
   "execution_count": null,
   "id": "b00fbc40-ef4e-4c9a-9008-1070addbea02",
   "metadata": {},
   "outputs": [],
   "source": [
    "print(df_most_credit_card)"
   ]
  },
  {
   "cell_type": "code",
   "execution_count": null,
   "id": "7558782c-ae8e-4e0c-bb63-d9469efd8ef8",
   "metadata": {},
   "outputs": [],
   "source": [
    "df_type['coount']= df_cus_aq.groupby(['Credit Card Product'])['Credit Card Product'].count()"
   ]
  },
  {
   "cell_type": "code",
   "execution_count": null,
   "id": "0e64a57c-63e4-44af-90e5-75ee85858a2f",
   "metadata": {},
   "outputs": [],
   "source": [
    "print(df_cus_aq)"
   ]
  },
  {
   "cell_type": "code",
   "execution_count": null,
   "id": "8f27569d-d738-4263-a617-27d58efda35d",
   "metadata": {},
   "outputs": [],
   "source": [
    "\n",
    "df_type.rename( columns={'size':'Count'}, inplace=True )"
   ]
  },
  {
   "cell_type": "code",
   "execution_count": null,
   "id": "9a77837c-032d-4d0f-bfed-1bb7c66db68a",
   "metadata": {},
   "outputs": [],
   "source": [
    "print(df_type)"
   ]
  },
  {
   "cell_type": "code",
   "execution_count": null,
   "id": "88dc0c8a-58a7-45d2-b3f5-4526d16b01ac",
   "metadata": {},
   "outputs": [],
   "source": [
    "df_type['count']=df_type['Count']"
   ]
  },
  {
   "cell_type": "code",
   "execution_count": null,
   "id": "f4a3c7dd-80d2-4087-bd59-505162e725d1",
   "metadata": {},
   "outputs": [],
   "source": [
    "print(df_merged)"
   ]
  },
  {
   "cell_type": "code",
   "execution_count": null,
   "id": "62ab561d-e32e-4f8f-adc3-4c0ddf2dbb22",
   "metadata": {},
   "outputs": [],
   "source": [
    "df_segment_spending_by_card=df_merged.groupby(['Credit Card Product','Month_num'],as_index=False)['Amount'].sum().sort_values(by='Amount')"
   ]
  },
  {
   "cell_type": "code",
   "execution_count": null,
   "id": "8fdbb1d9-334d-448e-8404-8f964139d65c",
   "metadata": {},
   "outputs": [],
   "source": [
    "print(df_segment_spending_by_card)"
   ]
  },
  {
   "cell_type": "code",
   "execution_count": null,
   "id": "402cc316-a343-4f3e-bc78-8e49674b0132",
   "metadata": {},
   "outputs": [],
   "source": [
    "df_due= pd.merge(df_monthly_spend,df_monthly_repayment,on=['Customer'],how='inner')"
   ]
  },
  {
   "cell_type": "code",
   "execution_count": null,
   "id": "3f8c7246-4ee9-42e5-bf50-7ff724c7378e",
   "metadata": {},
   "outputs": [],
   "source": [
    "print(df_due)"
   ]
  },
  {
   "cell_type": "code",
   "execution_count": null,
   "id": "ed8ec604-36f9-4977-a708-bf98cdbebd1a",
   "metadata": {},
   "outputs": [],
   "source": [
    "print(df_merged)"
   ]
  },
  {
   "cell_type": "code",
   "execution_count": null,
   "id": "0c52688a-f8a8-4445-943d-6de5f75fdab1",
   "metadata": {},
   "outputs": [],
   "source": [
    "print(df_type)"
   ]
  },
  {
   "cell_type": "code",
   "execution_count": null,
   "id": "d0799230-a12e-48c2-b499-6a8af3dcf3d2",
   "metadata": {},
   "outputs": [],
   "source": [
    "pd.df_card_type"
   ]
  },
  {
   "cell_type": "code",
   "execution_count": null,
   "id": "cfc499d4-1acf-42a5-837e-512e21401bf5",
   "metadata": {},
   "outputs": [],
   "source": [
    "df_card_type= df_type.groupby(['Credit Card Product'])['count'].sum()"
   ]
  },
  {
   "cell_type": "code",
   "execution_count": null,
   "id": "1c7d801f-52ea-402b-b0e0-2ee6e377b97e",
   "metadata": {},
   "outputs": [],
   "source": [
    "print(df_card_type)"
   ]
  },
  {
   "cell_type": "markdown",
   "id": "87d60f28-a789-4589-980a-f492690dfcd1",
   "metadata": {},
   "source": [
    "From above data we can see that the Gold card is the most profitable segement "
   ]
  },
  {
   "cell_type": "code",
   "execution_count": null,
   "id": "e3c78a3b-1d0a-4d19-92b5-adc872b8dbb1",
   "metadata": {},
   "outputs": [],
   "source": [
    "sns.countplot(x='Credit Card Product',data=df_type)"
   ]
  },
  {
   "cell_type": "code",
   "execution_count": null,
   "id": "1ca193b8-a5dd-40b6-ba90-7597f9cb40cf",
   "metadata": {},
   "outputs": [],
   "source": [
    "df_type['Count']= df_type['Count'].sum()"
   ]
  },
  {
   "cell_type": "code",
   "execution_count": null,
   "id": "a9f771fc-1d62-4705-8891-4a571ede76b9",
   "metadata": {},
   "outputs": [],
   "source": [
    "print(df_card_type)"
   ]
  },
  {
   "cell_type": "code",
   "execution_count": null,
   "id": "d697f232-68d3-4a6f-b371-3fabd338d4b2",
   "metadata": {},
   "outputs": [],
   "source": [
    "sns.countplot(x='Credit Card Product',data=df_card_type)"
   ]
  },
  {
   "cell_type": "code",
   "execution_count": null,
   "id": "068387c0-504a-4bff-a683-6f0cb91b595b",
   "metadata": {},
   "outputs": [],
   "source": [
    "sns.countplot(x='Credit Card Product',data=df_card_type =)"
   ]
  },
  {
   "cell_type": "code",
   "execution_count": null,
   "id": "320cee3f-8047-43f0-8e77-5c8351f0cec1",
   "metadata": {},
   "outputs": [],
   "source": [
    "for i in df_cus_aq['Credit Card Product']:\n",
    "    df_Gold= df_cus_aq.loc[df_cus_aq['Credit Card Product']== 'Gold']\n",
    "    "
   ]
  },
  {
   "cell_type": "code",
   "execution_count": null,
   "id": "a0e3b775-0cca-4d85-9054-30f54e967214",
   "metadata": {},
   "outputs": [],
   "source": [
    "print(df_Gold)"
   ]
  },
  {
   "cell_type": "code",
   "execution_count": null,
   "id": "4b58a67c-ffff-48ec-949e-c5f7a42c9497",
   "metadata": {},
   "outputs": [],
   "source": [
    "print(df_age_group_spending)"
   ]
  },
  {
   "cell_type": "code",
   "execution_count": null,
   "id": "301a899f-d9f2-48db-a5ab-3520f9ba392d",
   "metadata": {},
   "outputs": [],
   "source": [
    "date_col=pd.DatetimeIndex(df_Repayment['Month '])\n",
    "df_Repayment['Day']=date_col.day\n",
    "df_Repayment['Month']=date_col.month \n",
    "df_Repayment['Year']=date_col.year \n"
   ]
  },
  {
   "cell_type": "code",
   "execution_count": null,
   "id": "3f0e53be-fcc9-402e-ac16-9d268c5902c4",
   "metadata": {},
   "outputs": [],
   "source": [
    "print(df_Repayment['Month'])\n"
   ]
  },
  {
   "cell_type": "code",
   "execution_count": null,
   "id": "5962204b-41d9-4d46-aeed-6ae4b1084c9c",
   "metadata": {},
   "outputs": [],
   "source": [
    "df_Repayment['customer_Repayment'] = df_Repayment.groupby(['Customer','Month'])['Amount'].transform('sum')"
   ]
  },
  {
   "cell_type": "code",
   "execution_count": null,
   "id": "09a19e49-9e27-4bfb-afd1-e232b1bc54d9",
   "metadata": {},
   "outputs": [],
   "source": [
    "df_Repayment['customer_Repayment'] = df_Repayment.groupby(['Customer','Month'], as_index=False)['Amount'].transform('sum').sort_values(by='Amount',ascending=False).head(10)"
   ]
  },
  {
   "cell_type": "code",
   "execution_count": null,
   "id": "0b72d11c-f971-431e-b3b2-ca95574ee93f",
   "metadata": {},
   "outputs": [],
   "source": [
    "df_Repayment1 = df_Repayment.groupby(['Customer','Month'], as_index=False).sort_values(by='Amount',ascending=False),['Amount'].transform('sum').head(10)"
   ]
  },
  {
   "cell_type": "code",
   "execution_count": null,
   "id": "cd1ec181-434b-427d-8863-58a8f16eb414",
   "metadata": {},
   "outputs": [],
   "source": [
    "df_Repayment1 = df_Repayment.groupby(['Customer','Month'], as_index=False)['Amount'].sum().sort_values(by='Amount',ascending=False).head(20)"
   ]
  },
  {
   "cell_type": "code",
   "execution_count": null,
   "id": "3f15c3f7-ea28-42fb-86e0-b1dc4fe21f15",
   "metadata": {},
   "outputs": [],
   "source": [
    "print(df_Repayment1)"
   ]
  },
  {
   "cell_type": "code",
   "execution_count": null,
   "id": "44aefea9-7ae1-4b17-911a-aef030ddb73c",
   "metadata": {},
   "outputs": [],
   "source": [
    "sns.barplot(x)"
   ]
  },
  {
   "cell_type": "code",
   "execution_count": null,
   "id": "5155fa2c-1d94-4fa1-84ca-6474739c2ce4",
   "metadata": {},
   "outputs": [],
   "source": [
    "df_highest_10 = df_Repayment.groupby (['Customer'],as_index=False)['customer_Repayment'].sum().sort_values(by='customer_Repayment',ascending= False).head(10)"
   ]
  },
  {
   "cell_type": "code",
   "execution_count": null,
   "id": "07648092-76d2-49fc-97e6-cd6aad77e18f",
   "metadata": {},
   "outputs": [],
   "source": [
    "print(df_Repayment1)"
   ]
  },
  {
   "cell_type": "code",
   "execution_count": null,
   "id": "00b57bac-03ef-4572-9ec8-6f361cf0e620",
   "metadata": {},
   "outputs": [],
   "source": [
    "print(df_Repayment)"
   ]
  },
  {
   "cell_type": "code",
   "execution_count": null,
   "id": "36fd8a55-5f17-42fe-ba76-749f6439455d",
   "metadata": {},
   "outputs": [],
   "source": [
    "print(df_Repayment['customer_Repayment'].sort_values(ascending=False).head(20))"
   ]
  },
  {
   "cell_type": "code",
   "execution_count": null,
   "id": "c19f1cf3-ded1-493d-b776-fa7c891e4ae7",
   "metadata": {},
   "outputs": [],
   "source": [
    "print(df_Repayment)"
   ]
  },
  {
   "cell_type": "code",
   "execution_count": null,
   "id": "4d7e05aa-9cb0-4992-a88f-9034d0e038fc",
   "metadata": {},
   "outputs": [],
   "source": []
  },
  {
   "cell_type": "code",
   "execution_count": null,
   "id": "1a5eb4ce-2b36-490f-a774-9268ab53e5bf",
   "metadata": {},
   "outputs": [],
   "source": []
  },
  {
   "cell_type": "code",
   "execution_count": null,
   "id": "722b36cf-a968-4412-8edf-caaf7944360d",
   "metadata": {},
   "outputs": [],
   "source": [
    "sns.barplot(x='Customer',y='Amount',data=df_Repayment1)\n",
    "#sns.set(rc={'figure.figsize':(60,2)})\n",
    "\n",
    "plt.rcParams['font.size']=20\n",
    "plt.show()"
   ]
  },
  {
   "cell_type": "code",
   "execution_count": null,
   "id": "c40a1cbe-2029-40bf-99e1-502127cfc73c",
   "metadata": {},
   "outputs": [],
   "source": [
    "df_Repayment.groupby (['Customer'],as_index=False)['customer_Repayment'].sum().sort_values(by='customer_Repayment',ascending= False)"
   ]
  },
  {
   "cell_type": "code",
   "execution_count": null,
   "id": "6feaaa89-e07b-466e-9653-6f8f5cb07159",
   "metadata": {},
   "outputs": [],
   "source": [
    "df_highest_10 = df_Repayment.groupby (['Customer'],as_index=False)['customer_Repayment'].sum().sort_values(by='customer_Repayment',ascending= False).head(10)"
   ]
  },
  {
   "cell_type": "code",
   "execution_count": null,
   "id": "473c5a93-529d-403d-a7cc-1e65362dacac",
   "metadata": {},
   "outputs": [],
   "source": [
    "#df_highest_10.head(10)"
   ]
  },
  {
   "cell_type": "code",
   "execution_count": null,
   "id": "ba66a91d-5f04-4bfd-a1fb-e86821688fa5",
   "metadata": {},
   "outputs": [],
   "source": [
    "sns.barplot(x='Customer',y='customer_Repayment',data=df_highest_10)\n",
    "#plt.rcParams['font.size']= 20\n",
    "#plt.show().fontsize(\"20\")\n",
    "plt.rcParams[\"figure.figsize\"] = (10, 5)\n"
   ]
  },
  {
   "cell_type": "code",
   "execution_count": null,
   "id": "b893c2b6-7979-439e-8547-ec88a1959906",
   "metadata": {},
   "outputs": [],
   "source": [
    "df_spend.info()"
   ]
  },
  {
   "cell_type": "code",
   "execution_count": null,
   "id": "98af4850-8098-4451-ab3b-4a07e05dcb9b",
   "metadata": {},
   "outputs": [],
   "source": [
    "df_cus_aq.info()"
   ]
  },
  {
   "cell_type": "code",
   "execution_count": null,
   "id": "f9a415d2-6421-4f81-9fc2-8d3d6cbfb6ee",
   "metadata": {},
   "outputs": [],
   "source": [
    "print(df_merged)"
   ]
  },
  {
   "cell_type": "code",
   "execution_count": null,
   "id": "88064bfc-9d99-40df-9686-25c434f163f3",
   "metadata": {},
   "outputs": [],
   "source": [
    "df_merged['segment_spending'] = df_merged.groupby('Segment')['Amount'].transform('sum')"
   ]
  },
  {
   "cell_type": "code",
   "execution_count": null,
   "id": "0bbdef0b-77b2-400a-8446-d1b462b616e9",
   "metadata": {},
   "outputs": [],
   "source": [
    "print(df_merged)"
   ]
  },
  {
   "cell_type": "raw",
   "id": "8ea575de-85bc-4619-b408-ce6604e5ec66",
   "metadata": {},
   "source": [
    "sns.barplot(x='Segment',y='segment_spending',data=df_merged)\n",
    "plt.show().fontsize=\"20\""
   ]
  },
  {
   "cell_type": "code",
   "execution_count": null,
   "id": "9a0fd0b3-28b2-4ebd-a3ed-6f052b9bc54a",
   "metadata": {},
   "outputs": [],
   "source": [
    "sns.barplot(x='Segment',y='segment_spending',data=df_merged)\n",
    "\n",
    "plt.show()\n",
    "plt.rcParams['font.size']=10"
   ]
  },
  {
   "cell_type": "code",
   "execution_count": null,
   "id": "4fcb2c2d-1d70-4471-9d7a-36575df17c29",
   "metadata": {},
   "outputs": [],
   "source": [
    "#for i in df_merged['Age']:\n",
    " #   if df_merged['Age']==18:\n",
    "  #      print(i)\n",
    "#df_merged['Agee']=np.where(df_merged['Age']<18)\n",
    "df_merged.loc[df_merged['Age'] < 18, 'Age'] = 2"
   ]
  },
  {
   "cell_type": "code",
   "execution_count": null,
   "id": "24a8996e-03a7-41c6-9e20-9db47ffea35b",
   "metadata": {},
   "outputs": [],
   "source": [
    "df_merged.loc[df_merged['Age'] < 18, 'Age'] = 0"
   ]
  },
  {
   "cell_type": "code",
   "execution_count": null,
   "id": "6851f9c7-fa0c-4381-840e-428a1814f825",
   "metadata": {},
   "outputs": [],
   "source": [
    "print(df_merged)"
   ]
  },
  {
   "cell_type": "code",
   "execution_count": null,
   "id": "b58dcb1c-46bc-45aa-9b68-5ef0c451007d",
   "metadata": {},
   "outputs": [],
   "source": [
    "df_merged['Age']=df_merged['Age'].astype(int)"
   ]
  },
  {
   "cell_type": "code",
   "execution_count": null,
   "id": "281e126c-9f14-415d-afc8-4e96a8d7b320",
   "metadata": {},
   "outputs": [],
   "source": [
    "print(df_merged['Age'])"
   ]
  },
  {
   "cell_type": "code",
   "execution_count": null,
   "id": "e10d40a0-8401-4c85-b143-4c62b8dc886e",
   "metadata": {},
   "outputs": [],
   "source": [
    "df_merged.loc[df_merged['Age'] < 18, 'Age'] = 3"
   ]
  },
  {
   "cell_type": "code",
   "execution_count": null,
   "id": "f68228f0-d1b2-48b9-a1d6-f1fcf13f54a1",
   "metadata": {},
   "outputs": [],
   "source": []
  },
  {
   "cell_type": "code",
   "execution_count": null,
   "id": "3a03241d-a7e8-4305-bc4c-65aec7d43da4",
   "metadata": {},
   "outputs": [],
   "source": [
    "for i in df_merged['Age']:\n",
    "    if i == 2:\n",
    "        i.replace(0)\n",
    "    else:\n",
    "     print(i)"
   ]
  },
  {
   "cell_type": "code",
   "execution_count": null,
   "id": "65bda5c1-57a6-4a81-afde-672255ac909b",
   "metadata": {},
   "outputs": [],
   "source": [
    "df_merged['Age']=df_merged['Age'].astype(float)"
   ]
  },
  {
   "cell_type": "code",
   "execution_count": null,
   "id": "7eb0cfd4-d020-43b7-88b5-3707cbb3264d",
   "metadata": {},
   "outputs": [],
   "source": [
    "df_merged.loc[df_merged['Age'] < 18, 'Age'] = 40.541333"
   ]
  },
  {
   "cell_type": "code",
   "execution_count": null,
   "id": "20ea4a71-1b31-4240-8329-4da1e46f38a8",
   "metadata": {},
   "outputs": [],
   "source": [
    "print(df_merged['Age'])"
   ]
  },
  {
   "cell_type": "code",
   "execution_count": null,
   "id": "c0025bc2-5061-452f-afff-db903e0c5cd6",
   "metadata": {},
   "outputs": [],
   "source": [
    "#for i in df_merged['Age']: \n",
    " #   print(i)"
   ]
  },
  {
   "cell_type": "code",
   "execution_count": null,
   "id": "9192a993-feff-4d3b-abd5-63b51cca0377",
   "metadata": {},
   "outputs": [],
   "source": [
    "df_age_spending = df_merged.groupby(('Age'),('Amount'))"
   ]
  },
  {
   "cell_type": "code",
   "execution_count": null,
   "id": "60f016b1-0505-48e7-829b-6c9345345e5c",
   "metadata": {},
   "outputs": [],
   "source": [
    "print(df_age_spending)"
   ]
  },
  {
   "cell_type": "code",
   "execution_count": null,
   "id": "6ade8354-e320-41d2-820f-5ed2e9e6e239",
   "metadata": {},
   "outputs": [],
   "source": [
    "print(df_merged)"
   ]
  },
  {
   "cell_type": "code",
   "execution_count": null,
   "id": "3538bcbe-2ae2-4dc4-a688-ff73ce50e20e",
   "metadata": {},
   "outputs": [],
   "source": [
    "sns.barplot(x='Age',y='age_group_spending',data=df_merged)\n",
    "plt.show().fontsize=\"20\""
   ]
  },
  {
   "cell_type": "code",
   "execution_count": null,
   "id": "77469f16-e6ec-45d7-95cc-233dcf9a4491",
   "metadata": {},
   "outputs": [],
   "source": [
    "df_merged.describe()"
   ]
  },
  {
   "cell_type": "code",
   "execution_count": null,
   "id": "594735a1-945b-4b42-9686-5a622dea35f0",
   "metadata": {},
   "outputs": [],
   "source": [
    "print (df_merged['Amount'])"
   ]
  },
  {
   "cell_type": "code",
   "execution_count": null,
   "id": "87e6e249-acf4-4a5a-8936-8b086ae3e720",
   "metadata": {},
   "outputs": [],
   "source": [
    "print(df_merged)"
   ]
  },
  {
   "cell_type": "code",
   "execution_count": null,
   "id": "4a1b32c4-b74b-4f89-ab0d-e2823574b6b8",
   "metadata": {},
   "outputs": [],
   "source": [
    "df_merged.describe()"
   ]
  },
  {
   "cell_type": "code",
   "execution_count": null,
   "id": "29ac54ca-819f-4169-ac56-0bebcb802d43",
   "metadata": {},
   "outputs": [],
   "source": [
    "list_month=i.rsplit('-')"
   ]
  },
  {
   "cell_type": "code",
   "execution_count": null,
   "id": "e052ec8f-681d-4955-bb52-67698163100a",
   "metadata": {},
   "outputs": [],
   "source": [
    "print(i.rsplit('-'))"
   ]
  },
  {
   "cell_type": "code",
   "execution_count": null,
   "id": "03e0a10f-3b99-49a6-bc55-78948add95e6",
   "metadata": {},
   "outputs": [],
   "source": [
    "print(list_month)"
   ]
  },
  {
   "cell_type": "code",
   "execution_count": null,
   "id": "fa5a39c4-5d55-45f0-b575-ac4d81ac486f",
   "metadata": {},
   "outputs": [],
   "source": [
    "df.shape"
   ]
  },
  {
   "cell_type": "code",
   "execution_count": null,
   "id": "69f3c639-ae24-49ac-8b33-7b90aabe5721",
   "metadata": {},
   "outputs": [],
   "source": [
    "df.head()"
   ]
  },
  {
   "cell_type": "code",
   "execution_count": null,
   "id": "672853fb-fca7-4949-bd1d-3ec3aca0d27c",
   "metadata": {},
   "outputs": [],
   "source": [
    "df.info()"
   ]
  },
  {
   "cell_type": "code",
   "execution_count": null,
   "id": "9ae49474-6a7a-44df-b83a-439798306721",
   "metadata": {},
   "outputs": [],
   "source": [
    "pd.isnull(df)"
   ]
  },
  {
   "cell_type": "code",
   "execution_count": null,
   "id": "1fe69214-d3b2-4d04-80b2-32120aac288e",
   "metadata": {},
   "outputs": [],
   "source": [
    "pd.isnull(df).sum()"
   ]
  },
  {
   "cell_type": "code",
   "execution_count": null,
   "id": "141946ef-3514-4f5e-9dc5-abbebbe52276",
   "metadata": {},
   "outputs": [],
   "source": [
    "\n",
    "df['Age'].dtype"
   ]
  },
  {
   "cell_type": "code",
   "execution_count": null,
   "id": "5a1e9220-c392-4eb9-aa34-39a57656f727",
   "metadata": {},
   "outputs": [],
   "source": [
    "df['Age']=df['Age'].astype('int')"
   ]
  },
  {
   "cell_type": "code",
   "execution_count": null,
   "id": "273e235a-cb81-4ba4-805e-1b7669e4ed21",
   "metadata": {},
   "outputs": [],
   "source": [
    "df['Age'].dtype"
   ]
  },
  {
   "cell_type": "code",
   "execution_count": null,
   "id": "d254677e-9524-4409-a615-770c05cfa867",
   "metadata": {},
   "outputs": [],
   "source": [
    "df.info()"
   ]
  },
  {
   "cell_type": "code",
   "execution_count": null,
   "id": "67bce4e8-afac-4158-b851-051385a99c85",
   "metadata": {},
   "outputs": [],
   "source": [
    "df.rename(columns={'Limit':'Credit_Limit'}).inplace=True"
   ]
  },
  {
   "cell_type": "code",
   "execution_count": null,
   "id": "2c3eb15a-f8e9-47b9-bc47-7ee6dd965c19",
   "metadata": {},
   "outputs": [],
   "source": [
    "df.describe()"
   ]
  },
  {
   "cell_type": "code",
   "execution_count": null,
   "id": "ed9d34eb-d4cb-4a9a-b87d-54b9b54c3ef4",
   "metadata": {},
   "outputs": [],
   "source": [
    "df.columns"
   ]
  },
  {
   "cell_type": "code",
   "execution_count": null,
   "id": "98e244e0-d98a-4e86-8c7d-90e422568615",
   "metadata": {},
   "outputs": [],
   "source": [
    "df.rename(columns={'Sl No:':'Serial_No'})"
   ]
  },
  {
   "cell_type": "code",
   "execution_count": null,
   "id": "05df761f-0f0a-43eb-97e8-5c0e2272833e",
   "metadata": {},
   "outputs": [],
   "source": [
    "df.rename(columns={'Limit':'Credit_Limit'},inplace=True)"
   ]
  },
  {
   "cell_type": "code",
   "execution_count": null,
   "id": "c042244f-8440-4bc8-969f-cb3528fc6134",
   "metadata": {},
   "outputs": [],
   "source": [
    "df.columns"
   ]
  },
  {
   "cell_type": "code",
   "execution_count": null,
   "id": "27f88ed8-7a6f-47c4-b920-68a6b9d82c95",
   "metadata": {},
   "outputs": [],
   "source": [
    "df.rename(columns={'Sl No:': 'Serial_Number'},inplace=True)"
   ]
  },
  {
   "cell_type": "code",
   "execution_count": null,
   "id": "509c0c60-77bb-41ab-82ec-4d0805c7969a",
   "metadata": {},
   "outputs": [],
   "source": [
    "df.columns"
   ]
  },
  {
   "cell_type": "code",
   "execution_count": null,
   "id": "3712c4ef-2d83-4a2d-a4dc-c3def9320fb7",
   "metadata": {},
   "outputs": [],
   "source": [
    "df.rename(columns={'Credit Card Product':'Creadit_Card_Type'},inplace=True)"
   ]
  },
  {
   "cell_type": "code",
   "execution_count": null,
   "id": "12b5f6c5-bf34-4a3b-bad7-32bab7d7e790",
   "metadata": {},
   "outputs": [],
   "source": [
    "df.columns "
   ]
  },
  {
   "cell_type": "code",
   "execution_count": null,
   "id": "6d2942e0-b454-4124-b6e2-3827994d973f",
   "metadata": {},
   "outputs": [],
   "source": [
    "df.rename(columns={'Segment':'Employement_Type'},inplace=True)"
   ]
  },
  {
   "cell_type": "code",
   "execution_count": null,
   "id": "99719028-100d-435a-b77a-d951a94278a1",
   "metadata": {},
   "outputs": [],
   "source": [
    "df.columns"
   ]
  },
  {
   "cell_type": "code",
   "execution_count": null,
   "id": "d207ce7b-250c-48a7-8e29-82847fc73bfc",
   "metadata": {},
   "outputs": [],
   "source": [
    "df.describe"
   ]
  },
  {
   "cell_type": "code",
   "execution_count": null,
   "id": "cf44ccbf-5408-4bdb-8654-b7bca9f2f484",
   "metadata": {},
   "outputs": [],
   "source": [
    "df.describe()"
   ]
  },
  {
   "cell_type": "markdown",
   "id": "17ad2781-93c5-4162-acd9-6978dd5c791e",
   "metadata": {},
   "source": [
    "Data Analysis\n"
   ]
  },
  {
   "cell_type": "code",
   "execution_count": null,
   "id": "fd0e829d-2f76-4679-a31d-5a2be912a4ad",
   "metadata": {},
   "outputs": [],
   "source": [
    "df.columns"
   ]
  },
  {
   "cell_type": "code",
   "execution_count": null,
   "id": "a74a77ec-228f-44aa-a732-83bb99d0df9d",
   "metadata": {},
   "outputs": [],
   "source": [
    "ax= sns.countplot ((x ='Age' y='Credit_Limit'),data=df)\n",
    "#Below code is a doubt code\n",
    "#for bars in ax.containers:\n",
    "#ax.bars_label(bars)"
   ]
  },
  {
   "cell_type": "code",
   "execution_count": null,
   "id": "b244c3c2-2c97-4129-ae63-2332100213af",
   "metadata": {},
   "outputs": [],
   "source": [
    "sns.set(rc={'figure.figsize':(15,5)})"
   ]
  },
  {
   "cell_type": "code",
   "execution_count": null,
   "id": "f0206f0d-5f59-4754-b093-c9045138a812",
   "metadata": {},
   "outputs": [],
   "source": [
    "sns.barplot(x='Credit_Limit' ,y='Age' ,data=df)"
   ]
  },
  {
   "cell_type": "code",
   "execution_count": null,
   "id": "58714a3b-0e92-4abb-b2ca-3d510fb865d5",
   "metadata": {},
   "outputs": [],
   "source": [
    "df.columns"
   ]
  },
  {
   "cell_type": "code",
   "execution_count": null,
   "id": "cb17cb74-1dcb-41fe-9dda-d01a79869318",
   "metadata": {},
   "outputs": [],
   "source": [
    "ax=sns.countplot(x='Creadit_Card_Type',data=df)\n"
   ]
  },
  {
   "cell_type": "code",
   "execution_count": null,
   "id": "ea2b3d6e-dbc0-4699-8a01-22c02f82d7d9",
   "metadata": {},
   "outputs": [],
   "source": [
    "ax =sns.countplot(x='Creadit_Card_Type',hue='Employement_Type',data=df)"
   ]
  },
  {
   "cell_type": "code",
   "execution_count": null,
   "id": "fd52c9ac-1d1a-48ab-a6b5-96df0d6b995b",
   "metadata": {},
   "outputs": [],
   "source": [
    "#below code is a doubt \n",
    "for bars in ax.containers:\n",
    "    ax.bars_label(bars)"
   ]
  },
  {
   "cell_type": "code",
   "execution_count": null,
   "id": "d1b1e768-47e8-4512-a4b3-3025e87581c0",
   "metadata": {},
   "outputs": [],
   "source": [
    "df1 = pd.read_csv(r\"Spend.csv\",encoding='unicode_escape')"
   ]
  },
  {
   "cell_type": "code",
   "execution_count": null,
   "id": "1ad7d0c6-7d37-4ea4-8455-6fa524cce2e7",
   "metadata": {},
   "outputs": [],
   "source": []
  },
  {
   "cell_type": "code",
   "execution_count": null,
   "id": "89e21930-8ff1-4c73-ad33-bb1eba7054d8",
   "metadata": {},
   "outputs": [],
   "source": []
  },
  {
   "cell_type": "code",
   "execution_count": null,
   "id": "cfca2bd7-7c21-4935-b841-53ff2ca005f7",
   "metadata": {},
   "outputs": [],
   "source": []
  },
  {
   "cell_type": "code",
   "execution_count": null,
   "id": "6a410431-32ca-436d-9ffa-53f9726e20f6",
   "metadata": {},
   "outputs": [],
   "source": []
  },
  {
   "cell_type": "code",
   "execution_count": null,
   "id": "d5df16a0-f67d-428b-9e3f-85411aa26581",
   "metadata": {},
   "outputs": [],
   "source": []
  },
  {
   "cell_type": "code",
   "execution_count": null,
   "id": "bafb5275-5487-4b44-b4de-13ce4c022ebb",
   "metadata": {},
   "outputs": [],
   "source": []
  },
  {
   "cell_type": "code",
   "execution_count": null,
   "id": "77d841b8-cb85-4a02-9101-da8df7040738",
   "metadata": {},
   "outputs": [],
   "source": []
  },
  {
   "cell_type": "code",
   "execution_count": null,
   "id": "fd26f270-6abb-433f-9269-2e67b9f6bf34",
   "metadata": {},
   "outputs": [],
   "source": []
  },
  {
   "cell_type": "code",
   "execution_count": null,
   "id": "d095c348-c685-4532-acf2-f10cb9dada5e",
   "metadata": {},
   "outputs": [],
   "source": []
  },
  {
   "cell_type": "code",
   "execution_count": null,
   "id": "f5c687ab-b699-4722-a3ea-f94a27db9450",
   "metadata": {},
   "outputs": [],
   "source": []
  },
  {
   "cell_type": "code",
   "execution_count": null,
   "id": "a43699e9-eda1-4f02-968b-8a0c93777cd0",
   "metadata": {},
   "outputs": [],
   "source": []
  },
  {
   "cell_type": "code",
   "execution_count": null,
   "id": "a451bfc3-14b1-4f82-b30c-f7639cbaffe9",
   "metadata": {},
   "outputs": [],
   "source": []
  },
  {
   "cell_type": "code",
   "execution_count": null,
   "id": "27951b93-4f47-433c-9923-29e0700482d6",
   "metadata": {},
   "outputs": [],
   "source": []
  },
  {
   "cell_type": "code",
   "execution_count": null,
   "id": "719d3d87-d3cb-443a-8f61-3765808d6ba2",
   "metadata": {},
   "outputs": [],
   "source": []
  },
  {
   "cell_type": "code",
   "execution_count": null,
   "id": "9644ef61-6831-496e-80cb-d7447133f18a",
   "metadata": {},
   "outputs": [],
   "source": []
  },
  {
   "cell_type": "code",
   "execution_count": null,
   "id": "414bf7ac-288b-49f5-96c2-fd67d4c6389b",
   "metadata": {},
   "outputs": [],
   "source": []
  },
  {
   "cell_type": "code",
   "execution_count": null,
   "id": "db9e1ebf-090d-49c2-9c9d-fe1c27a1dfc1",
   "metadata": {},
   "outputs": [],
   "source": []
  },
  {
   "cell_type": "code",
   "execution_count": null,
   "id": "29ba7911-f64b-40c9-a8af-39a90976cd76",
   "metadata": {},
   "outputs": [],
   "source": []
  },
  {
   "cell_type": "code",
   "execution_count": null,
   "id": "76f61603-943c-4bfd-abad-bb1a86e1b139",
   "metadata": {},
   "outputs": [],
   "source": []
  },
  {
   "cell_type": "code",
   "execution_count": null,
   "id": "607a756c-066a-4d03-b6e7-9e51c834285e",
   "metadata": {},
   "outputs": [],
   "source": []
  },
  {
   "cell_type": "code",
   "execution_count": null,
   "id": "0ac68f6b-2506-4238-a0a5-f7b2346a8038",
   "metadata": {},
   "outputs": [],
   "source": []
  },
  {
   "cell_type": "code",
   "execution_count": null,
   "id": "35edcd29-1bed-402d-93e3-cba6d04bcca5",
   "metadata": {},
   "outputs": [],
   "source": []
  },
  {
   "cell_type": "code",
   "execution_count": null,
   "id": "067fbb29-3413-4d4a-82de-15297fbaaa59",
   "metadata": {},
   "outputs": [],
   "source": []
  }
 ],
 "metadata": {
  "kernelspec": {
   "display_name": "Python 3 (ipykernel)",
   "language": "python",
   "name": "python3"
  },
  "language_info": {
   "codemirror_mode": {
    "name": "ipython",
    "version": 3
   },
   "file_extension": ".py",
   "mimetype": "text/x-python",
   "name": "python",
   "nbconvert_exporter": "python",
   "pygments_lexer": "ipython3",
   "version": "3.12.1"
  }
 },
 "nbformat": 4,
 "nbformat_minor": 5
}
