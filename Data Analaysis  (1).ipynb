{
 "cells": [
  {
   "cell_type": "code",
   "execution_count": 1,
   "id": "d2c73014-fc79-4a35-8fe2-e93e43ff69c8",
   "metadata": {},
   "outputs": [],
   "source": [
    "import numpy as np \n",
    "import pandas as pd\n",
    "import matplotlib.pyplot as plt #visualizing data \n",
    "%matplotlib inline \n",
    "import seaborn as sns\n",
    "import openpyxl"
   ]
  },
  {
   "cell_type": "code",
   "execution_count": 2,
   "id": "59605a5c-9360-4c2a-95d9-3274237cf3aa",
   "metadata": {},
   "outputs": [],
   "source": [
    "df_cus_aq = pd.read_csv(\"Data_Analytics_Internship.csv\")\n",
    "df_spend = pd.read_csv(\"Spend.csv\", index_col=False)\n",
    "df_Repayment=pd.read_csv(\"Repayment.csv\")"
   ]
  },
  {
   "cell_type": "code",
   "execution_count": 3,
   "id": "da61aaa5-9730-4fb2-9b66-206b2324f102",
   "metadata": {},
   "outputs": [],
   "source": [
    "df_cus_aq['Age']=df_cus_aq['Age'].astype(int).astype(float)"
   ]
  },
  {
   "cell_type": "code",
   "execution_count": 4,
   "id": "4562e94e-c37b-4bf0-9ef5-e42b4dc0a911",
   "metadata": {},
   "outputs": [],
   "source": [
    "df_cus_aq.loc[df_cus_aq['Age'] < 18, 'Age'] = 38.08"
   ]
  },
  {
   "cell_type": "code",
   "execution_count": 5,
   "id": "ab5722e0-b484-41fd-adf4-be279f4630fe",
   "metadata": {},
   "outputs": [
    {
     "data": {
      "text/plain": [
       "46.4576"
      ]
     },
     "execution_count": 5,
     "metadata": {},
     "output_type": "execute_result"
    }
   ],
   "source": [
    "df_cus_aq['Age'].mean()"
   ]
  },
  {
   "cell_type": "code",
   "execution_count": 6,
   "id": "b6a25aff-f035-4a3f-8412-9ace65783502",
   "metadata": {},
   "outputs": [
    {
     "name": "stdout",
     "output_type": "stream",
     "text": [
      "[38.08 35.   45.   69.   52.   77.   18.   61.   40.   22.   70.   27.\n",
      " 36.   51.   72.   29.   26.   76.   71.   57.   19.   47.   49.   62.\n",
      " 68.   66.   59.   58.   78.   67.   25.   74.   44.   42.   28.   34.\n",
      " 33.   50.   39.   56.   37.   55.   20.   21.   23.  ]\n"
     ]
    }
   ],
   "source": [
    "print(df_cus_aq['Age'].unique())"
   ]
  },
  {
   "cell_type": "code",
   "execution_count": 7,
   "id": "cd87e096-6fd4-4211-9e65-28e7f43c3221",
   "metadata": {},
   "outputs": [
    {
     "name": "stdout",
     "output_type": "stream",
     "text": [
      "    Sl No: Customer    Age        City Credit Card Product           Limit  \\\n",
      "0        1       A1  38.08   BANGALORE                Gold  INR 500,000.00   \n",
      "1        2       A2  35.00    CALCUTTA              Silver  INR 100,000.00   \n",
      "2        3       A3  38.08      COCHIN            Platimum   INR 10,000.00   \n",
      "3        4       A4  45.00      BOMBAY            Platimum   INR 10,001.00   \n",
      "4        5       A5  69.00   BANGALORE            Platimum   INR 10,002.00   \n",
      "..     ...      ...    ...         ...                 ...             ...   \n",
      "95      96      A96  29.00     CHENNAI              Silver  INR 100,000.00   \n",
      "96      97      A97  20.00  TRIVANDRUM            Platimum   INR 10,000.00   \n",
      "97      98      A98  40.00    CALCUTTA            Platimum   INR 10,001.00   \n",
      "98      99      A99  21.00    CALCUTTA            Platimum   INR 10,002.00   \n",
      "99     100     A100  23.00      COCHIN              Silver  INR 100,000.00   \n",
      "\n",
      "   Company        Segment  \n",
      "0       C1  Self Employed  \n",
      "1       C2   Salaried_MNC  \n",
      "2       C3   Salaried_Pvt  \n",
      "3       C4           Govt  \n",
      "4       C5  Normal Salary  \n",
      "..     ...            ...  \n",
      "95     C19   Salaried_Pvt  \n",
      "96     C20           Govt  \n",
      "97     C21  Normal Salary  \n",
      "98     C22  Self Employed  \n",
      "99      C5   Salaried_MNC  \n",
      "\n",
      "[100 rows x 8 columns]\n"
     ]
    }
   ],
   "source": [
    "print(df_cus_aq)"
   ]
  },
  {
   "cell_type": "code",
   "execution_count": 8,
   "id": "641a7c7b-1991-417c-8563-e08cc323a71e",
   "metadata": {},
   "outputs": [
    {
     "name": "stdout",
     "output_type": "stream",
     "text": [
      "      Sl No: Customer      Month        Type  Amount\n",
      "0          1       A1  12-Jan-04   JEWELLERY  473776\n",
      "1          2       A1  03-Jan-04       PETRO  335579\n",
      "2          3       A1  15-Jan-04     CLOTHES  371041\n",
      "3          4       A1  25-Jan-04        FOOD  141178\n",
      "4          5       A1  17-Jan-05      CAMERA  398404\n",
      "...      ...      ...        ...         ...     ...\n",
      "1495    1496      A67  04-Feb-06  BUS TICKET  195841\n",
      "1496    1497      A68  25-Mar-06  BUS TICKET  284263\n",
      "1497    1498      A69  31-Mar-06  BUS TICKET  206552\n",
      "1498    1499      A70  23-Mar-06  BUS TICKET   41025\n",
      "1499    1500      A71  24-Mar-06  BUS TICKET  101398\n",
      "\n",
      "[1500 rows x 5 columns]\n"
     ]
    }
   ],
   "source": [
    "print(df_spend)"
   ]
  },
  {
   "cell_type": "code",
   "execution_count": 9,
   "id": "34049476-a5b6-42de-b17f-dabdc75ebeab",
   "metadata": {},
   "outputs": [],
   "source": [
    "df_Repayment['Amount']=df_Repayment['Amount'].astype(int)"
   ]
  },
  {
   "cell_type": "code",
   "execution_count": 10,
   "id": "918c55ad-4cdd-432b-b9f0-1f11c6d41cbc",
   "metadata": {},
   "outputs": [
    {
     "name": "stdout",
     "output_type": "stream",
     "text": [
      "      Serial Number  Customer      Month  Amount\n",
      "0                  1       A1  12-Jan-04  331844\n",
      "1                  2       A1  03-Jan-04  441139\n",
      "2                  3       A1  15-Jan-04   32480\n",
      "3                  4       A1  25-Jan-04   90636\n",
      "4                  5       A1  17-Jan-05    1581\n",
      "...              ...      ...        ...     ...\n",
      "1495            1496      A67  09-May-05  200288\n",
      "1496            1497      A68  10-May-06  231194\n",
      "1497            1498      A69  11-Jul-06  391195\n",
      "1498            1499      A70  12-Aug-05  357629\n",
      "1499            1500      A71  13-Sep-04  179771\n",
      "\n",
      "[1500 rows x 4 columns]\n"
     ]
    }
   ],
   "source": [
    "print(df_Repayment)"
   ]
  },
  {
   "cell_type": "code",
   "execution_count": 11,
   "id": "3ae8f2ae-a83f-47ec-a8b8-e07c08313bbe",
   "metadata": {},
   "outputs": [],
   "source": [
    "df_merged = pd.merge(df_cus_aq,df_spend,on='Customer')"
   ]
  },
  {
   "cell_type": "code",
   "execution_count": 12,
   "id": "53b933ab-57f9-4565-97dc-11e7270b302b",
   "metadata": {},
   "outputs": [],
   "source": [
    "date_col=pd.DatetimeIndex(df_merged['Month'])\n",
    "df_merged['Day']=date_col.day\n",
    "df_merged['Month_num']=date_col.month \n",
    "df_merged['Year']=date_col.year \n"
   ]
  },
  {
   "cell_type": "code",
   "execution_count": 13,
   "id": "83e5e515-97c6-4e5a-8b05-26e379baacc2",
   "metadata": {},
   "outputs": [],
   "source": [
    "df_merged['Limit'] = df_merged['Limit'].str.replace(r'[^\\d.]', '', regex=True)"
   ]
  },
  {
   "cell_type": "code",
   "execution_count": 14,
   "id": "1fb33495-611d-4f23-a259-5ae75648bb96",
   "metadata": {},
   "outputs": [],
   "source": [
    "df_merged['Limit']=df_merged['Limit'].astype(float).astype(int)"
   ]
  },
  {
   "cell_type": "code",
   "execution_count": 15,
   "id": "9814ceb4-dbc0-46b4-b7ed-a61980bf367f",
   "metadata": {},
   "outputs": [
    {
     "name": "stdout",
     "output_type": "stream",
     "text": [
      "      Sl No:_x Customer    Age        City Credit Card Product   Limit  \\\n",
      "0            1       A1  38.08   BANGALORE                Gold  500000   \n",
      "1            1       A1  38.08   BANGALORE                Gold  500000   \n",
      "2            1       A1  38.08   BANGALORE                Gold  500000   \n",
      "3            1       A1  38.08   BANGALORE                Gold  500000   \n",
      "4            1       A1  38.08   BANGALORE                Gold  500000   \n",
      "...        ...      ...    ...         ...                 ...     ...   \n",
      "1495        96      A96  29.00     CHENNAI              Silver  100000   \n",
      "1496        97      A97  20.00  TRIVANDRUM            Platimum   10000   \n",
      "1497        98      A98  40.00    CALCUTTA            Platimum   10001   \n",
      "1498        99      A99  21.00    CALCUTTA            Platimum   10002   \n",
      "1499       100     A100  23.00      COCHIN              Silver  100000   \n",
      "\n",
      "     Company        Segment  Sl No:_y      Month        Type  Amount  Day  \\\n",
      "0         C1  Self Employed         1  12-Jan-04   JEWELLERY  473776   12   \n",
      "1         C1  Self Employed         2  03-Jan-04       PETRO  335579    3   \n",
      "2         C1  Self Employed         3  15-Jan-04     CLOTHES  371041   15   \n",
      "3         C1  Self Employed         4  25-Jan-04        FOOD  141178   25   \n",
      "4         C1  Self Employed         5  17-Jan-05      CAMERA  398404   17   \n",
      "...      ...            ...       ...        ...         ...     ...  ...   \n",
      "1495     C19   Salaried_Pvt        98  25-Jan-04        BIKE  320364   25   \n",
      "1496     C20           Govt        99  12-Jan-04        AUTO  164330   12   \n",
      "1497     C21  Normal Salary       100  03-Jan-04    SHOPPING   87484    3   \n",
      "1498     C22  Self Employed       101  15-Jan-04  AIR TICKET  476020   15   \n",
      "1499      C5   Salaried_MNC       102  25-Jan-04  BUS TICKET   42254   25   \n",
      "\n",
      "      Month_num  Year  \n",
      "0             1  2004  \n",
      "1             1  2004  \n",
      "2             1  2004  \n",
      "3             1  2004  \n",
      "4             1  2005  \n",
      "...         ...   ...  \n",
      "1495          1  2004  \n",
      "1496          1  2004  \n",
      "1497          1  2004  \n",
      "1498          1  2004  \n",
      "1499          1  2004  \n",
      "\n",
      "[1500 rows x 15 columns]\n"
     ]
    }
   ],
   "source": [
    "print(df_merged)"
   ]
  },
  {
   "cell_type": "code",
   "execution_count": 16,
   "id": "b885d65c-7664-4af3-aa14-5cf12dd8bf68",
   "metadata": {},
   "outputs": [],
   "source": [
    "df_spend_more_than_limit=df_merged.groupby(['Customer','Month_num','Limit'], as_index=False)['Amount'].sum().sort_values(by='Amount',ascending=False)"
   ]
  },
  {
   "cell_type": "code",
   "execution_count": 17,
   "id": "24a93380-c809-44ca-b2b5-995f70ab506b",
   "metadata": {},
   "outputs": [],
   "source": [
    "df_spend_more_than_limit['spend_spend']=df_spend_more_than_limit['Limit'].sub(df_spend_more_than_limit['Amount'])"
   ]
  },
  {
   "cell_type": "code",
   "execution_count": 18,
   "id": "22307cd4-1dfe-43d2-adf0-b47304a8ec24",
   "metadata": {},
   "outputs": [
    {
     "name": "stdout",
     "output_type": "stream",
     "text": [
      "    Customer  Month_num   Limit   Amount  spend_spend\n",
      "276      A39          1  500000  2839184     -2339184\n",
      "292      A40          1  500000  2695912     -2195912\n",
      "256      A37          1  100003  2605015     -2505012\n",
      "482      A60          1  500000  2584386     -2084386\n",
      "357      A47          1   10000  2223221     -2213221\n",
      "..       ...        ...     ...      ...          ...\n",
      "262      A37          7  100003    12919        87084\n",
      "383      A49          9   10002    10872         -870\n",
      "299      A40          8  500000     8458       491542\n",
      "519      A66          2  500000      826       499174\n",
      "424      A53          7  100003      783        99220\n",
      "\n",
      "[578 rows x 5 columns]\n"
     ]
    }
   ],
   "source": [
    "print(df_spend_more_than_limit)"
   ]
  },
  {
   "cell_type": "code",
   "execution_count": 19,
   "id": "029e8e25-4b7a-4e0b-8bad-7f074c25be65",
   "metadata": {},
   "outputs": [],
   "source": [
    "df_spend_more_than_limit_cleaned = df_spend_more_than_limit[df_spend_more_than_limit['spend_spend'] < 0]"
   ]
  },
  {
   "cell_type": "code",
   "execution_count": 20,
   "id": "5e4712d5-b9d6-47f0-9d82-3d7117db441a",
   "metadata": {},
   "outputs": [],
   "source": [
    "#for i in df_spend_more_than_limit['spend_spend']:\n",
    " #   if i<0:\n",
    "  #      df_spend_more_than_limit_final['spend_more']=df_spend_more_than_limit.loc[df_spend_more_than_limit['spend_spend']]"
   ]
  },
  {
   "cell_type": "code",
   "execution_count": 21,
   "id": "1d497914-89c7-46d8-a1eb-59e5a6113159",
   "metadata": {},
   "outputs": [
    {
     "name": "stdout",
     "output_type": "stream",
     "text": [
      "    Customer  Month_num   Limit   Amount  spend_spend\n",
      "276      A39          1  500000  2839184     -2339184\n",
      "292      A40          1  500000  2695912     -2195912\n",
      "256      A37          1  100003  2605015     -2505012\n",
      "482      A60          1  500000  2584386     -2084386\n",
      "357      A47          1   10000  2223221     -2213221\n",
      "..       ...        ...     ...      ...          ...\n",
      "533      A70          3   10001    41025       -31024\n",
      "123      A21          6   10002    32881       -22879\n",
      "196       A3          3   10000    18155        -8155\n",
      "375      A48         11   10001    15038        -5037\n",
      "383      A49          9   10002    10872         -870\n",
      "\n",
      "[410 rows x 5 columns]\n"
     ]
    }
   ],
   "source": [
    "print(df_spend_more_than_limit_cleaned)"
   ]
  },
  {
   "cell_type": "markdown",
   "id": "21f070f1-4dac-4973-bda2-dc1c1a243a3a",
   "metadata": {},
   "source": [
    "Customer in column spend_spend has spend more than their limit"
   ]
  },
  {
   "cell_type": "markdown",
   "id": "e65b4b23-40dd-4b02-917f-12564209f47d",
   "metadata": {},
   "source": [
    "QUESTION NO 1"
   ]
  },
  {
   "cell_type": "code",
   "execution_count": 22,
   "id": "9f09eb92-5f6a-4cd1-9d8a-e97f502c6e70",
   "metadata": {},
   "outputs": [
    {
     "name": "stdout",
     "output_type": "stream",
     "text": [
      "      Sl No: Customer      Month        Type  Amount\n",
      "0          1       A1  12-Jan-04   JEWELLERY  473776\n",
      "1          2       A1  03-Jan-04       PETRO  335579\n",
      "2          3       A1  15-Jan-04     CLOTHES  371041\n",
      "3          4       A1  25-Jan-04        FOOD  141178\n",
      "4          5       A1  17-Jan-05      CAMERA  398404\n",
      "...      ...      ...        ...         ...     ...\n",
      "1495    1496      A67  04-Feb-06  BUS TICKET  195841\n",
      "1496    1497      A68  25-Mar-06  BUS TICKET  284263\n",
      "1497    1498      A69  31-Mar-06  BUS TICKET  206552\n",
      "1498    1499      A70  23-Mar-06  BUS TICKET   41025\n",
      "1499    1500      A71  24-Mar-06  BUS TICKET  101398\n",
      "\n",
      "[1500 rows x 5 columns]\n"
     ]
    }
   ],
   "source": [
    "print(df_spend)"
   ]
  },
  {
   "cell_type": "code",
   "execution_count": 23,
   "id": "3f6b57ef-883c-4967-8bd1-5c46f89650aa",
   "metadata": {},
   "outputs": [],
   "source": [
    "date_col=pd.DatetimeIndex(df_spend['Month'])\n",
    "df_spend['Day']=date_col.day\n",
    "df_spend['Month_num']=date_col.month \n",
    "df_spend['Year']=date_col.year \n"
   ]
  },
  {
   "cell_type": "code",
   "execution_count": 24,
   "id": "ae21bd3d-5743-4a9b-a7b5-e351a4b4bd96",
   "metadata": {},
   "outputs": [],
   "source": [
    "df_monthly_spend = df_merged.groupby(['Customer','Month_num','Limit'], as_index=False)['Amount'].sum().sort_values(by='Amount',ascending=False)"
   ]
  },
  {
   "cell_type": "code",
   "execution_count": 25,
   "id": "60bfac65-5fc6-4a7e-8d7c-3b6a75bee7b2",
   "metadata": {},
   "outputs": [
    {
     "name": "stdout",
     "output_type": "stream",
     "text": [
      "    Customer  Month_num   Limit   Amount\n",
      "276      A39          1  500000  2839184\n",
      "292      A40          1  500000  2695912\n",
      "256      A37          1  100003  2605015\n",
      "482      A60          1  500000  2584386\n",
      "357      A47          1   10000  2223221\n",
      "..       ...        ...     ...      ...\n",
      "262      A37          7  100003    12919\n",
      "383      A49          9   10002    10872\n",
      "299      A40          8  500000     8458\n",
      "519      A66          2  500000      826\n",
      "424      A53          7  100003      783\n",
      "\n",
      "[578 rows x 4 columns]\n"
     ]
    }
   ],
   "source": [
    "print(df_monthly_spend)"
   ]
  },
  {
   "cell_type": "code",
   "execution_count": 26,
   "id": "5f08bb38-de6e-49e4-b0ce-087b7027d6f7",
   "metadata": {},
   "outputs": [],
   "source": [
    "for i in df_monthly_spend['Month_num']:\n",
    "    #if df_monthly_spend['Month']== 1 :\n",
    "       df_first_month = df_monthly_spend.loc[df_monthly_spend['Month_num']== 1].head(10)\n",
    "    "
   ]
  },
  {
   "cell_type": "code",
   "execution_count": 27,
   "id": "d7b22aa5-a3de-42ea-afc0-fa1ce64aaa2b",
   "metadata": {},
   "outputs": [],
   "source": [
    "for i in df_monthly_spend['Month_num']:\n",
    "    #if df_monthly_spend['Month']== 1 :\n",
    "       df_second_month = df_monthly_spend.loc[df_monthly_spend['Month_num']== 2]\n",
    "    "
   ]
  },
  {
   "cell_type": "code",
   "execution_count": 28,
   "id": "112fc84d-f352-4ca8-8fde-c0913d439299",
   "metadata": {},
   "outputs": [],
   "source": [
    "for i in df_monthly_spend['Month_num']:\n",
    "    #if df_monthly_spend['Month']== 1 :\n",
    "       df_third_month = df_monthly_spend.loc[df_monthly_spend['Month_num']== 3]\n",
    "    "
   ]
  },
  {
   "cell_type": "code",
   "execution_count": 29,
   "id": "b1e7d37d-499e-44e7-a4eb-77ec54607d4e",
   "metadata": {},
   "outputs": [],
   "source": [
    "for i in df_monthly_spend['Month_num']:\n",
    "    #if df_monthly_spend['Month']== 1 :\n",
    "       df_fourth_month = df_monthly_spend.loc[df_monthly_spend['Month_num']== 4]\n",
    "    "
   ]
  },
  {
   "cell_type": "code",
   "execution_count": 30,
   "id": "35d2d198-e1a2-49b0-90b9-6c1f989412b9",
   "metadata": {},
   "outputs": [],
   "source": [
    "for i in df_monthly_spend['Month_num']:\n",
    "    #if df_monthly_spend['Month']== 1 :\n",
    "       df_fifth_month = df_monthly_spend.loc[df_monthly_spend['Month_num']== 5]\n",
    "    "
   ]
  },
  {
   "cell_type": "code",
   "execution_count": 31,
   "id": "0a2cca71-a79f-4ee0-ad49-8f2f3466eeca",
   "metadata": {},
   "outputs": [],
   "source": [
    "for i in df_monthly_spend['Month_num']:\n",
    "    #if df_monthly_spend['Month']== 1 :\n",
    "       df_sixth_month = df_monthly_spend.loc[df_monthly_spend['Month_num']== 6]\n",
    "    "
   ]
  },
  {
   "cell_type": "code",
   "execution_count": 32,
   "id": "47de5559-d8d4-4abb-bad0-051996205b2d",
   "metadata": {},
   "outputs": [],
   "source": [
    "for i in df_monthly_spend['Month_num']:\n",
    "    #if df_monthly_spend['Month']== 1 :\n",
    "       df_seventh_month = df_monthly_spend.loc[df_monthly_spend['Month_num']== 7]\n",
    "    "
   ]
  },
  {
   "cell_type": "code",
   "execution_count": 33,
   "id": "8a996939-0193-4f33-8507-90a7c2dc3f28",
   "metadata": {},
   "outputs": [],
   "source": [
    "for i in df_monthly_spend['Month_num']:\n",
    "    #if df_monthly_spend['Month']== 1 :\n",
    "       df_eighth_month = df_monthly_spend.loc[df_monthly_spend['Month_num']== 8]\n",
    "    "
   ]
  },
  {
   "cell_type": "code",
   "execution_count": 34,
   "id": "c782ec43-41f9-4fc0-ae26-6217eafd58d7",
   "metadata": {},
   "outputs": [],
   "source": [
    "for i in df_monthly_spend['Month_num']:\n",
    "    #if df_monthly_spend['Month']== 1 :\n",
    "       df_nineth_month = df_monthly_spend.loc[df_monthly_spend['Month_num']== 9]\n",
    "    "
   ]
  },
  {
   "cell_type": "code",
   "execution_count": 35,
   "id": "494be6f5-8b4d-4907-b345-30b3ffbff872",
   "metadata": {},
   "outputs": [],
   "source": [
    "for i in df_monthly_spend['Month_num']:\n",
    "    #if df_monthly_spend['Month']== 1 :\n",
    "       df_tenth_month = df_monthly_spend.loc[df_monthly_spend['Month_num']== 10]\n",
    "    "
   ]
  },
  {
   "cell_type": "code",
   "execution_count": 36,
   "id": "3ef590e6-466f-44fa-8a44-24eeac6f6d07",
   "metadata": {},
   "outputs": [],
   "source": [
    "for i in df_monthly_spend['Month_num']:\n",
    "    #if df_monthly_spend['Month']== 1 :\n",
    "       df_eleventh_month = df_monthly_spend.loc[df_monthly_spend['Month_num']== 11]\n",
    "    "
   ]
  },
  {
   "cell_type": "code",
   "execution_count": 37,
   "id": "c286b6cd-48fa-4150-9a38-f09b745f20f2",
   "metadata": {},
   "outputs": [],
   "source": [
    "for i in df_monthly_spend['Month_num']:\n",
    "    #if df_monthly_spend['Month']== 1 :\n",
    "       df_twelth_month = df_monthly_spend.loc[df_monthly_spend['Month_num']== 12]\n",
    "    "
   ]
  },
  {
   "cell_type": "code",
   "execution_count": 38,
   "id": "195efafe-e338-4d99-9acf-077fe6d4e1be",
   "metadata": {},
   "outputs": [],
   "source": [
    "with pd.ExcelWriter('Monthly spend.xlsx')as writer:\n",
    " df_first_month.to_excel(writer,sheet_name='First month Spend',index=False)\n",
    " df_second_month.to_excel(writer,sheet_name='Second month Spend',index=False)\n",
    " df_third_month.to_excel(writer,sheet_name='Third month Spend',index=False)\n",
    " df_fourth_month.to_excel(writer,sheet_name='Fourth month Spend',index=False)\n",
    " df_fifth_month.to_excel(writer,sheet_name='Fifth month Spend',index=False)\n",
    " df_sixth_month.to_excel(writer,sheet_name='Sixth month Spend',index=False)\n",
    " df_seventh_month.to_excel(writer,sheet_name='Seventh month Spend',index=False)\n",
    " df_eighth_month.to_excel(writer,sheet_name='Eighth month Spend',index=False)\n",
    " df_nineth_month.to_excel(writer,sheet_name='Nineth month Spend',index=False)\n",
    " df_tenth_month.to_excel(writer,sheet_name='Tenth month Spend',index=False)\n",
    " df_eleventh_month.to_excel(writer,sheet_name='Eleventh month Spend',index=False)\n",
    " df_twelth_month.to_excel(writer,sheet_name='Twelth month Spend',index=False)"
   ]
  },
  {
   "cell_type": "code",
   "execution_count": 39,
   "id": "9aaca508-9aa3-4115-9361-f501c9768d94",
   "metadata": {},
   "outputs": [],
   "source": [
    "df_first_month['more_than'] = np.where(df_first_month['Limit'] < df_first_month['Amount'], df_first_month['Limit'], np.nan)"
   ]
  },
  {
   "cell_type": "code",
   "execution_count": 40,
   "id": "b5027147-7831-4155-a30d-f22c5383489d",
   "metadata": {},
   "outputs": [
    {
     "name": "stdout",
     "output_type": "stream",
     "text": [
      "    Customer  Month_num   Limit   Amount  more_than\n",
      "276      A39          1  500000  2839184   500000.0\n",
      "292      A40          1  500000  2695912   500000.0\n",
      "256      A37          1  100003  2605015   100003.0\n",
      "482      A60          1  500000  2584386   500000.0\n",
      "357      A47          1   10000  2223221    10000.0\n",
      "128      A22          1  100000  2126633   100000.0\n",
      "146      A24          1  100002  2085558   100002.0\n",
      "118      A21          1   10002  2003871    10002.0\n",
      "266      A38          1  500000  1991223   500000.0\n",
      "186      A29          1  500000  1984668   500000.0\n"
     ]
    }
   ],
   "source": [
    "print(df_first_month)"
   ]
  },
  {
   "cell_type": "code",
   "execution_count": 41,
   "id": "212e45c3-1a72-4b60-a672-7fd14be10708",
   "metadata": {},
   "outputs": [
    {
     "data": {
      "text/plain": [
       "Text(0.5, 1.0, 'January')"
      ]
     },
     "execution_count": 41,
     "metadata": {},
     "output_type": "execute_result"
    },
    {
     "data": {
      "image/png": "[encoded data removed]",
      "text/plain": [
       "<Figure size 640x480 with 1 Axes>"
      ]
     },
     "metadata": {},
     "output_type": "display_data"
    }
   ],
   "source": [
    "sns.barplot(x='Customer',y='Amount', data=df_first_month)\n",
    "#sns.set(rc={'figure.figsize':(10,10)})\n",
    "plt.title('January')"
   ]
  },
  {
   "cell_type": "markdown",
   "id": "1b7d38b1-aea4-431d-b8be-3f3c688203f1",
   "metadata": {},
   "source": [
    "QUESTION NO 2"
   ]
  },
  {
   "cell_type": "code",
   "execution_count": 42,
   "id": "290e2bda-0136-4120-94e1-f30aee41de51",
   "metadata": {},
   "outputs": [
    {
     "name": "stdout",
     "output_type": "stream",
     "text": [
      "      Serial Number  Customer      Month  Amount\n",
      "0                  1       A1  12-Jan-04  331844\n",
      "1                  2       A1  03-Jan-04  441139\n",
      "2                  3       A1  15-Jan-04   32480\n",
      "3                  4       A1  25-Jan-04   90636\n",
      "4                  5       A1  17-Jan-05    1581\n",
      "...              ...      ...        ...     ...\n",
      "1495            1496      A67  09-May-05  200288\n",
      "1496            1497      A68  10-May-06  231194\n",
      "1497            1498      A69  11-Jul-06  391195\n",
      "1498            1499      A70  12-Aug-05  357629\n",
      "1499            1500      A71  13-Sep-04  179771\n",
      "\n",
      "[1500 rows x 4 columns]\n"
     ]
    }
   ],
   "source": [
    "print(df_Repayment)"
   ]
  },
  {
   "cell_type": "code",
   "execution_count": 43,
   "id": "d841ce21-eb1c-4dd1-a878-7a7c9982b857",
   "metadata": {},
   "outputs": [],
   "source": [
    "date_col=pd.DatetimeIndex(df_Repayment['Month'])\n",
    "df_Repayment['Day']=date_col.day\n",
    "df_Repayment['Month_num']=date_col.month \n",
    "df_Repayment['Year']=date_col.year \n"
   ]
  },
  {
   "cell_type": "code",
   "execution_count": 44,
   "id": "a96be30c-5c56-4372-82de-c9002dfa4676",
   "metadata": {},
   "outputs": [],
   "source": [
    "df_monthly_repayment = df_Repayment.groupby(['Customer','Month_num'], as_index=False)['Amount'].sum().sort_values(by='Amount',ascending=False)"
   ]
  },
  {
   "cell_type": "code",
   "execution_count": 45,
   "id": "75c7e911-a25d-4b07-aca0-fa1ad1b8524c",
   "metadata": {},
   "outputs": [
    {
     "name": "stdout",
     "output_type": "stream",
     "text": [
      "    Customer  Month_num   Amount\n",
      "299      A41          1  3424753\n",
      "315      A43          1  2714124\n",
      "120      A22          1  2709315\n",
      "351      A47          2  2673265\n",
      "291      A40          1  2496295\n",
      "..       ...        ...      ...\n",
      "519      A72          2    14701\n",
      "205      A30          6    12699\n",
      "224      A33          8     6654\n",
      "540      A87          3     4530\n",
      "373      A49          8      247\n",
      "\n",
      "[558 rows x 3 columns]\n"
     ]
    }
   ],
   "source": [
    "print(df_monthly_repayment)"
   ]
  },
  {
   "cell_type": "code",
   "execution_count": 46,
   "id": "82a695d6-d7b2-449a-8e7d-8f92a5057cd6",
   "metadata": {},
   "outputs": [],
   "source": [
    "for i in df_monthly_repayment['Month_num']:\n",
    "    #if df_monthly_spend['Month']== 1 :\n",
    "       df_first_month_repayment = df_monthly_repayment.loc[df_monthly_repayment['Month_num']== 1]\n",
    "    "
   ]
  },
  {
   "cell_type": "code",
   "execution_count": 47,
   "id": "c5dd0e6d-19b8-41d6-bc85-16009dfaa2cb",
   "metadata": {},
   "outputs": [],
   "source": [
    "for i in df_monthly_repayment['Month_num']:\n",
    "    #if df_monthly_spend['Month']== 1 :\n",
    "       df_second_month_repayment = df_monthly_repayment.loc[df_monthly_repayment['Month_num']== 2]\n",
    "    "
   ]
  },
  {
   "cell_type": "code",
   "execution_count": 48,
   "id": "ff56ff55-2304-4bf6-95a6-4eedc505c326",
   "metadata": {},
   "outputs": [],
   "source": [
    "for i in df_monthly_repayment['Month_num']:\n",
    "    #if df_monthly_spend['Month']== 1 :\n",
    "       df_third_month_repayment = df_monthly_repayment.loc[df_monthly_repayment['Month_num']== 3]\n",
    "    "
   ]
  },
  {
   "cell_type": "code",
   "execution_count": 49,
   "id": "ea673c20-dbbc-4e13-b0b9-cf7102b434cb",
   "metadata": {},
   "outputs": [],
   "source": [
    "for i in df_monthly_repayment['Month_num']:\n",
    "    #if df_monthly_spend['Month']== 1 :\n",
    "       df_fourth_month_repayment = df_monthly_repayment.loc[df_monthly_repayment['Month_num']== 4]\n",
    "    "
   ]
  },
  {
   "cell_type": "code",
   "execution_count": 50,
   "id": "798600de-6cad-4e8a-bec3-befbd4ffa705",
   "metadata": {},
   "outputs": [],
   "source": [
    "for i in df_monthly_repayment['Month_num']:\n",
    "    #if df_monthly_spend['Month']== 1 :\n",
    "       df_fifth_month_repayment = df_monthly_repayment.loc[df_monthly_repayment['Month_num']== 5]\n",
    "    "
   ]
  },
  {
   "cell_type": "code",
   "execution_count": 51,
   "id": "158e038b-fd49-4537-8af6-5ddd7f9380f0",
   "metadata": {},
   "outputs": [],
   "source": [
    "for i in df_monthly_repayment['Month_num']:\n",
    "    #if df_monthly_spend['Month']== 1 :\n",
    "       df_sixth_month_repayment = df_monthly_repayment.loc[df_monthly_repayment['Month_num']== 6]\n",
    "    "
   ]
  },
  {
   "cell_type": "code",
   "execution_count": 52,
   "id": "fa811901-ef03-49e4-98e6-5389479368f7",
   "metadata": {},
   "outputs": [],
   "source": [
    "for i in df_monthly_repayment['Month_num']:\n",
    "    #if df_monthly_spend['Month']== 1 :\n",
    "       df_seventh_month_repayment = df_monthly_repayment.loc[df_monthly_repayment['Month_num']== 7]\n",
    "    "
   ]
  },
  {
   "cell_type": "code",
   "execution_count": 53,
   "id": "f5819203-3650-4d81-9bef-2bce95ee5d4f",
   "metadata": {},
   "outputs": [],
   "source": [
    "for i in df_monthly_repayment['Month_num']:\n",
    "    #if df_monthly_spend['Month']== 1 :\n",
    "       df_eighth_month_repayment = df_monthly_repayment.loc[df_monthly_repayment['Month_num']== 8]\n",
    "    "
   ]
  },
  {
   "cell_type": "code",
   "execution_count": 54,
   "id": "33e9c4ca-c9b3-4d6d-8f5b-80138a83a915",
   "metadata": {},
   "outputs": [],
   "source": [
    "for i in df_monthly_repayment['Month_num']:\n",
    "    #if df_monthly_spend['Month']== 1 :\n",
    "       df_nineth_month_repayment = df_monthly_repayment.loc[df_monthly_repayment['Month_num']== 9]\n",
    "    "
   ]
  },
  {
   "cell_type": "code",
   "execution_count": 55,
   "id": "d549fc3e-a7bd-4daf-8a80-f80103777e13",
   "metadata": {},
   "outputs": [],
   "source": [
    "for i in df_monthly_repayment['Month_num']:\n",
    "    #if df_monthly_spend['Month']== 1 :\n",
    "       df_tenth_month_repayment = df_monthly_repayment.loc[df_monthly_repayment['Month_num']== 10]\n",
    "    "
   ]
  },
  {
   "cell_type": "code",
   "execution_count": 56,
   "id": "ba7d0568-e70b-4e8a-8c1e-a5e6032178e5",
   "metadata": {},
   "outputs": [],
   "source": [
    "for i in df_monthly_repayment['Month_num']:\n",
    "    #if df_monthly_spend['Month']== 1 :\n",
    "       df_eleventh_month_repayment = df_monthly_repayment.loc[df_monthly_repayment['Month_num']== 11]\n",
    "    "
   ]
  },
  {
   "cell_type": "code",
   "execution_count": 57,
   "id": "06024496-0f2f-4577-8836-5b5b92a48415",
   "metadata": {},
   "outputs": [],
   "source": [
    "for i in df_monthly_repayment['Month_num']:\n",
    "    #if df_monthly_spend['Month']== 1 :\n",
    "       df_twelth_month_repayment = df_monthly_repayment.loc[df_monthly_repayment['Month_num']== 12]\n",
    "    "
   ]
  },
  {
   "cell_type": "code",
   "execution_count": 58,
   "id": "f7a713c9-1f2a-4ca0-b280-8b8460d9dcdf",
   "metadata": {},
   "outputs": [],
   "source": [
    "with pd.ExcelWriter('Monthly Repayment.xlsx')as writer:\n",
    " df_first_month_repayment.to_excel(writer,sheet_name='First month Repayment',index=False)\n",
    " df_second_month_repayment.to_excel(writer,sheet_name='Second month Repayment',index=False)\n",
    " df_third_month_repayment.to_excel(writer,sheet_name='Third month Repayment',index=False)\n",
    " df_fourth_month_repayment.to_excel(writer,sheet_name='Fourth month Repayment',index=False)\n",
    " df_fifth_month_repayment.to_excel(writer,sheet_name='Fifth month Repayment',index=False)\n",
    " df_sixth_month_repayment.to_excel(writer,sheet_name='Sixth month Repayment',index=False)\n",
    " df_seventh_month_repayment.to_excel(writer,sheet_name='Seventh month Repayment',index=False)\n",
    " df_eighth_month_repayment.to_excel(writer,sheet_name='Eighth month Repayment',index=False)\n",
    " df_nineth_month_repayment.to_excel(writer,sheet_name='Nineth month Repayment',index=False)\n",
    " df_tenth_month_repayment.to_excel(writer,sheet_name='Tenth month Repayment',index=False)\n",
    " df_eleventh_month_repayment.to_excel(writer,sheet_name='Eleventh month Repayment',index=False)\n",
    " df_twelth_month_repayment.to_excel(writer,sheet_name='Twelth month Repayment',index=False)"
   ]
  },
  {
   "cell_type": "code",
   "execution_count": 59,
   "id": "78abdfaa-9dfb-44bf-8b92-f3927abeb888",
   "metadata": {},
   "outputs": [
    {
     "name": "stdout",
     "output_type": "stream",
     "text": [
      "    Customer  Month_num   Amount\n",
      "299      A41          1  3424753\n",
      "315      A43          1  2714124\n",
      "120      A22          1  2709315\n",
      "291      A40          1  2496295\n",
      "275      A39          1  2386020\n",
      "..       ...        ...      ...\n",
      "554      A96          1   110139\n",
      "556      A98          1    97802\n",
      "553      A95          1    75109\n",
      "551      A93          1    74576\n",
      "503      A67          1    37163\n",
      "\n",
      "[71 rows x 3 columns]\n"
     ]
    }
   ],
   "source": [
    "print(df_first_month_repayment)"
   ]
  },
  {
   "cell_type": "code",
   "execution_count": 60,
   "id": "aed51dbc-a554-4c3a-bfdc-9a73b7557118",
   "metadata": {},
   "outputs": [
    {
     "data": {
      "text/plain": [
       "Text(0.5, 1.0, 'January')"
      ]
     },
     "execution_count": 60,
     "metadata": {},
     "output_type": "execute_result"
    },
    {
     "data": {
      "image/png": "[encoded data removed]",
      "text/plain": [
       "<Figure size 640x480 with 1 Axes>"
      ]
     },
     "metadata": {},
     "output_type": "display_data"
    }
   ],
   "source": [
    "sns.barplot(x='Customer',y='Amount', data=df_first_month_repayment)\n",
    "#sns.set(rc={'figure.figsize':(10,10)})\n",
    "plt.title('January')"
   ]
  },
  {
   "cell_type": "markdown",
   "id": "9d7fedd3-f019-4b9d-a267-fc857831d247",
   "metadata": {},
   "source": [
    "QUESTION NO 3"
   ]
  },
  {
   "cell_type": "code",
   "execution_count": 61,
   "id": "a1c26383-63d3-4f14-904d-5fdca10aa7f4",
   "metadata": {},
   "outputs": [],
   "source": [
    "for i in df_monthly_repayment['Month_num']:\n",
    "    #if df_monthly_spend['Month']== 1 :\n",
    "       df_first_month_highest10 = df_monthly_repayment.loc[df_monthly_repayment['Month_num']== 1].head(10)\n",
    "    "
   ]
  },
  {
   "cell_type": "code",
   "execution_count": 62,
   "id": "2b202f8a-6863-4cb8-bfbe-38ab72a2b4c8",
   "metadata": {},
   "outputs": [],
   "source": [
    "for i in df_monthly_repayment['Month_num']:\n",
    "    #if df_monthly_spend['Month']== 1 :\n",
    "       df_second_month_highest10 = df_monthly_repayment.loc[df_monthly_repayment['Month_num']== 2].head(10)\n",
    "    "
   ]
  },
  {
   "cell_type": "code",
   "execution_count": 63,
   "id": "d084f8c7-7200-49b7-b560-62d3459ff5f0",
   "metadata": {},
   "outputs": [],
   "source": [
    "for i in df_monthly_repayment['Month_num']:\n",
    "    #if df_monthly_spend['Month']== 1 :\n",
    "       df_third_month_highest10 = df_monthly_repayment.loc[df_monthly_repayment['Month_num']== 3].head(10)\n",
    "    "
   ]
  },
  {
   "cell_type": "code",
   "execution_count": 64,
   "id": "882de2ae-2b37-4924-afb1-cf06c779df9d",
   "metadata": {},
   "outputs": [],
   "source": [
    "for i in df_monthly_repayment['Month_num']:\n",
    "    #if df_monthly_spend['Month']== 1 :\n",
    "       df_fourth_month_highest10 = df_monthly_repayment.loc[df_monthly_repayment['Month_num']== 4].head(10)\n",
    "    "
   ]
  },
  {
   "cell_type": "code",
   "execution_count": 65,
   "id": "fc8c5eb5-1bb6-4b5a-94af-59ec9ded0c08",
   "metadata": {},
   "outputs": [],
   "source": [
    "for i in df_monthly_repayment['Month_num']:\n",
    "    #if df_monthly_spend['Month']== 1 :\n",
    "       df_fifth_month_highest10 = df_monthly_repayment.loc[df_monthly_repayment['Month_num']== 5].head(10)\n",
    "    "
   ]
  },
  {
   "cell_type": "code",
   "execution_count": 66,
   "id": "f0ece2ba-d4db-4398-811e-a7dd5b8f562c",
   "metadata": {},
   "outputs": [],
   "source": [
    "for i in df_monthly_repayment['Month_num']:\n",
    "    #if df_monthly_spend['Month']== 1 :\n",
    "       df_sixth_month_highest10 = df_monthly_repayment.loc[df_monthly_repayment['Month_num']== 6].head(10)\n",
    "    "
   ]
  },
  {
   "cell_type": "code",
   "execution_count": 67,
   "id": "a1b8f982-f5cc-4bd6-8c28-12a657c4dc07",
   "metadata": {},
   "outputs": [],
   "source": [
    "for i in df_monthly_repayment['Month_num']:\n",
    "    #if df_monthly_spend['Month']== 1 :\n",
    "       df_seventh_month_highest10 = df_monthly_repayment.loc[df_monthly_repayment['Month_num']== 7].head(10)\n",
    "    "
   ]
  },
  {
   "cell_type": "code",
   "execution_count": 68,
   "id": "27a24ef5-5007-40c6-9d4e-4329b12bf6a2",
   "metadata": {},
   "outputs": [],
   "source": [
    "for i in df_monthly_repayment['Month_num']:\n",
    "    #if df_monthly_spend['Month']== 1 :\n",
    "       df_eighth_month_highest10 = df_monthly_repayment.loc[df_monthly_repayment['Month_num']== 8].head(10)\n",
    "    "
   ]
  },
  {
   "cell_type": "code",
   "execution_count": 69,
   "id": "4590043f-5e79-4356-b34c-fceb26163c59",
   "metadata": {},
   "outputs": [],
   "source": [
    "for i in df_monthly_repayment['Month_num']:\n",
    "    #if df_monthly_spend['Month']== 1 :\n",
    "       df_nineth_month_highest10 = df_monthly_repayment.loc[df_monthly_repayment['Month_num']== 9].head(10)\n",
    "    "
   ]
  },
  {
   "cell_type": "code",
   "execution_count": 70,
   "id": "bbec6c3d-639b-4238-8c9f-246e95be1b83",
   "metadata": {},
   "outputs": [],
   "source": [
    "for i in df_monthly_repayment['Month_num']:\n",
    "    #if df_monthly_spend['Month']== 1 :\n",
    "       df_tenth_month_highest10 = df_monthly_repayment.loc[df_monthly_repayment['Month_num']== 10].head(10)\n",
    "    "
   ]
  },
  {
   "cell_type": "code",
   "execution_count": 71,
   "id": "33e4496e-1ce9-41ab-a780-edbd0917c754",
   "metadata": {},
   "outputs": [],
   "source": [
    "for i in df_monthly_repayment['Month_num']:\n",
    "    #if df_monthly_spend['Month']== 1 :\n",
    "       df_eleventh_month_highest10 = df_monthly_repayment.loc[df_monthly_repayment['Month_num']== 11].head(10)\n",
    "    "
   ]
  },
  {
   "cell_type": "code",
   "execution_count": 72,
   "id": "09fac101-f83f-41a0-ac28-2f0fcf0e4ae6",
   "metadata": {},
   "outputs": [],
   "source": [
    "for i in df_monthly_repayment['Month_num']:\n",
    "    #if df_monthly_spend['Month']== 1 :\n",
    "       df_twelth_month_highest10 = df_monthly_repayment.loc[df_monthly_repayment['Month_num']== 12].head(10)\n",
    "    "
   ]
  },
  {
   "cell_type": "code",
   "execution_count": 73,
   "id": "8b608dd2-9e9c-4dd7-aa4e-0198fb2e7229",
   "metadata": {},
   "outputs": [],
   "source": [
    "with pd.ExcelWriter('monthly Highest 10.xlsx')as writer:\n",
    " df_first_month_highest10.to_excel(writer,sheet_name='First month Highest 10',index=False)\n",
    " df_second_month_highest10.to_excel(writer,sheet_name='Second month Highest 10',index=False)\n",
    " df_third_month_highest10.to_excel(writer,sheet_name='Third month Highest 10',index=False)\n",
    " df_fourth_month_highest10.to_excel(writer,sheet_name='Fourth month Highest 10',index=False)\n",
    " df_fifth_month_highest10.to_excel(writer,sheet_name='Fifth month Highest 10',index=False)\n",
    " df_sixth_month_highest10.to_excel(writer,sheet_name='Sixth month Highest 10',index=False)\n",
    " df_seventh_month_highest10.to_excel(writer,sheet_name='Seventh month Highest 10',index=False)\n",
    " df_eighth_month_highest10.to_excel(writer,sheet_name='Eighth month Highest 10',index=False)\n",
    " df_nineth_month_highest10.to_excel(writer,sheet_name='Nineth month Highest 10',index=False)\n",
    " df_tenth_month_highest10.to_excel(writer,sheet_name='Tenth month Highest 10',index=False)\n",
    " df_eleventh_month_highest10.to_excel(writer,sheet_name='Eleventh month Highest 10',index=False)\n",
    " df_twelth_month_highest10.to_excel(writer,sheet_name='Twelth month Highest 10',index=False)"
   ]
  },
  {
   "cell_type": "markdown",
   "id": "4c1b919f-7bc5-4ad4-af30-2538d217e77b",
   "metadata": {},
   "source": [
    "QUESTION NO 4"
   ]
  },
  {
   "cell_type": "code",
   "execution_count": 74,
   "id": "e6db7480-7eb3-4c12-9de0-980c3773dc09",
   "metadata": {},
   "outputs": [
    {
     "name": "stdout",
     "output_type": "stream",
     "text": [
      "      Sl No:_x Customer    Age        City Credit Card Product   Limit  \\\n",
      "0            1       A1  38.08   BANGALORE                Gold  500000   \n",
      "1            1       A1  38.08   BANGALORE                Gold  500000   \n",
      "2            1       A1  38.08   BANGALORE                Gold  500000   \n",
      "3            1       A1  38.08   BANGALORE                Gold  500000   \n",
      "4            1       A1  38.08   BANGALORE                Gold  500000   \n",
      "...        ...      ...    ...         ...                 ...     ...   \n",
      "1495        96      A96  29.00     CHENNAI              Silver  100000   \n",
      "1496        97      A97  20.00  TRIVANDRUM            Platimum   10000   \n",
      "1497        98      A98  40.00    CALCUTTA            Platimum   10001   \n",
      "1498        99      A99  21.00    CALCUTTA            Platimum   10002   \n",
      "1499       100     A100  23.00      COCHIN              Silver  100000   \n",
      "\n",
      "     Company        Segment  Sl No:_y      Month        Type  Amount  Day  \\\n",
      "0         C1  Self Employed         1  12-Jan-04   JEWELLERY  473776   12   \n",
      "1         C1  Self Employed         2  03-Jan-04       PETRO  335579    3   \n",
      "2         C1  Self Employed         3  15-Jan-04     CLOTHES  371041   15   \n",
      "3         C1  Self Employed         4  25-Jan-04        FOOD  141178   25   \n",
      "4         C1  Self Employed         5  17-Jan-05      CAMERA  398404   17   \n",
      "...      ...            ...       ...        ...         ...     ...  ...   \n",
      "1495     C19   Salaried_Pvt        98  25-Jan-04        BIKE  320364   25   \n",
      "1496     C20           Govt        99  12-Jan-04        AUTO  164330   12   \n",
      "1497     C21  Normal Salary       100  03-Jan-04    SHOPPING   87484    3   \n",
      "1498     C22  Self Employed       101  15-Jan-04  AIR TICKET  476020   15   \n",
      "1499      C5   Salaried_MNC       102  25-Jan-04  BUS TICKET   42254   25   \n",
      "\n",
      "      Month_num  Year  \n",
      "0             1  2004  \n",
      "1             1  2004  \n",
      "2             1  2004  \n",
      "3             1  2004  \n",
      "4             1  2005  \n",
      "...         ...   ...  \n",
      "1495          1  2004  \n",
      "1496          1  2004  \n",
      "1497          1  2004  \n",
      "1498          1  2004  \n",
      "1499          1  2004  \n",
      "\n",
      "[1500 rows x 15 columns]\n"
     ]
    }
   ],
   "source": [
    "print(df_merged)"
   ]
  },
  {
   "cell_type": "code",
   "execution_count": 75,
   "id": "89d8ec0c-b190-440f-bfc1-3afea25b3ed7",
   "metadata": {},
   "outputs": [],
   "source": [
    "df_segment_spending= df_merged.groupby(['Segment','Month_num'],as_index=False)['Amount'].sum().sort_values(by='Amount',ascending= False) "
   ]
  },
  {
   "cell_type": "code",
   "execution_count": 76,
   "id": "8058f5de-1ce5-4da4-aea3-31fb2e18e5c2",
   "metadata": {},
   "outputs": [
    {
     "name": "stdout",
     "output_type": "stream",
     "text": [
      "          Segment  Month_num    Amount\n",
      "12  Normal Salary          1  25391039\n",
      "14  Normal Salary          3  17710389\n",
      "36   Salaried_Pvt          1  16897019\n",
      "16  Normal Salary          5  16311834\n",
      "13  Normal Salary          2  15777061\n",
      "48  Self Employed          1  15293441\n",
      "0            Govt          1  14572538\n",
      "24   Salaried_MNC          1  14499911\n",
      "49  Self Employed          2  14312613\n",
      "28   Salaried_MNC          5  10995840\n",
      "1            Govt          2  10911280\n",
      "37   Salaried_Pvt          2  10429448\n",
      "4            Govt          5  10365033\n",
      "2            Govt          3  10169037\n",
      "50  Self Employed          3   9982564\n",
      "39   Salaried_Pvt          4   9845574\n",
      "15  Normal Salary          4   9831911\n",
      "26   Salaried_MNC          3   9674072\n",
      "52  Self Employed          5   9148506\n",
      "51  Self Employed          4   8714992\n",
      "25   Salaried_MNC          2   8612072\n",
      "38   Salaried_Pvt          3   8569018\n",
      "40   Salaried_Pvt          5   8548867\n",
      "22  Normal Salary         11   6178559\n",
      "27   Salaried_MNC          4   6105299\n",
      "3            Govt          4   5538621\n",
      "46   Salaried_Pvt         11   5375395\n",
      "58  Self Employed         11   4436883\n",
      "17  Normal Salary          6   3888481\n",
      "34   Salaried_MNC         11   3744426\n",
      "41   Salaried_Pvt          6   3467885\n",
      "10           Govt         11   3447536\n",
      "19  Normal Salary          8   3398538\n",
      "53  Self Employed          6   3395679\n",
      "5            Govt          6   3221539\n",
      "30   Salaried_MNC          7   2775971\n",
      "21  Normal Salary         10   2581228\n",
      "6            Govt          7   2510315\n",
      "43   Salaried_Pvt          8   2461845\n",
      "18  Normal Salary          7   2366340\n",
      "56  Self Employed          9   2321107\n",
      "32   Salaried_MNC          9   2255641\n",
      "44   Salaried_Pvt          9   2243182\n",
      "20  Normal Salary          9   2195333\n",
      "8            Govt          9   2170194\n",
      "23  Normal Salary         12   2076426\n",
      "42   Salaried_Pvt          7   2017364\n",
      "7            Govt          8   1962141\n",
      "35   Salaried_MNC         12   1654478\n",
      "55  Self Employed          8   1463297\n",
      "11           Govt         12   1440093\n",
      "29   Salaried_MNC          6   1284364\n",
      "33   Salaried_MNC         10   1280327\n",
      "54  Self Employed          7   1230564\n",
      "47   Salaried_Pvt         12   1184135\n",
      "9            Govt         10   1017300\n",
      "31   Salaried_MNC          8    757085\n",
      "57  Self Employed         10    675835\n",
      "45   Salaried_Pvt         10    664580\n"
     ]
    }
   ],
   "source": [
    "print(df_segment_spending)"
   ]
  },
  {
   "cell_type": "code",
   "execution_count": 77,
   "id": "fe0f5066-6bfc-42f4-bd9a-f4610e42afe3",
   "metadata": {},
   "outputs": [],
   "source": [
    "for i in df_segment_spending['Month_num']:\n",
    "    #if df_monthly_spend['Month']== 1 :\n",
    "       df_first_month_segment = df_segment_spending.loc[df_segment_spending['Month_num']== 1]\n",
    "    "
   ]
  },
  {
   "cell_type": "code",
   "execution_count": 78,
   "id": "de032ae6-cf5a-424f-96a8-e1b48ee0b925",
   "metadata": {},
   "outputs": [],
   "source": [
    "for i in df_segment_spending['Month_num']:\n",
    "    #if df_monthly_spend['Month']== 1 :\n",
    "       df_second_month_segment = df_segment_spending.loc[df_segment_spending['Month_num']== 2]\n",
    "    "
   ]
  },
  {
   "cell_type": "code",
   "execution_count": 79,
   "id": "ac218d99-f0a4-4cff-8890-12ce94084331",
   "metadata": {},
   "outputs": [],
   "source": [
    "for i in df_segment_spending['Month_num']:\n",
    "    #if df_monthly_spend['Month']== 1 :\n",
    "       df_third_month_segment = df_segment_spending.loc[df_segment_spending['Month_num']== 3]\n",
    "    "
   ]
  },
  {
   "cell_type": "code",
   "execution_count": 80,
   "id": "2c429026-125e-4f4d-ad5b-a9736586ecab",
   "metadata": {},
   "outputs": [],
   "source": [
    "for i in df_segment_spending['Month_num']:\n",
    "    #if df_monthly_spend['Month']== 1 :\n",
    "       df_fourth_month_segment = df_segment_spending.loc[df_segment_spending['Month_num']== 4]\n",
    "    "
   ]
  },
  {
   "cell_type": "code",
   "execution_count": 81,
   "id": "ac5a2b8e-3d7d-4f79-872f-ec2b21459454",
   "metadata": {},
   "outputs": [],
   "source": [
    "for i in df_segment_spending['Month_num']:\n",
    "    #if df_monthly_spend['Month']== 1 :\n",
    "       df_fifth_month_segment = df_segment_spending.loc[df_segment_spending['Month_num']== 5]\n",
    "    "
   ]
  },
  {
   "cell_type": "code",
   "execution_count": 82,
   "id": "747c354c-e823-4d42-9f9c-f2784d6ee35c",
   "metadata": {},
   "outputs": [],
   "source": [
    "for i in df_segment_spending['Month_num']:\n",
    "    #if df_monthly_spend['Month']== 1 :\n",
    "       df_sixth_month_segment = df_segment_spending.loc[df_segment_spending['Month_num']== 6]\n",
    "    "
   ]
  },
  {
   "cell_type": "code",
   "execution_count": 83,
   "id": "0af06642-a885-4421-93a0-f1c7533b36a2",
   "metadata": {},
   "outputs": [],
   "source": [
    "for i in df_segment_spending['Month_num']:\n",
    "    #if df_monthly_spend['Month']== 1 :\n",
    "       df_seventh_month_segment = df_segment_spending.loc[df_segment_spending['Month_num']== 7]\n",
    "    "
   ]
  },
  {
   "cell_type": "code",
   "execution_count": 84,
   "id": "f917f7be-5b31-4f37-9059-9f528cca2afa",
   "metadata": {},
   "outputs": [],
   "source": [
    "for i in df_segment_spending['Month_num']:\n",
    "    #if df_monthly_spend['Month']== 1 :\n",
    "       df_eighth_month_segment = df_segment_spending.loc[df_segment_spending['Month_num']== 8]\n",
    "    "
   ]
  },
  {
   "cell_type": "code",
   "execution_count": 85,
   "id": "2bc6be93-865d-438c-8d11-d093ca0bdf87",
   "metadata": {},
   "outputs": [],
   "source": [
    "for i in df_segment_spending['Month_num']:\n",
    "    #if df_monthly_spend['Month']== 1 :\n",
    "       df_nineth_month_segment = df_segment_spending.loc[df_segment_spending['Month_num']== 9]\n",
    "    "
   ]
  },
  {
   "cell_type": "code",
   "execution_count": 86,
   "id": "601a6020-0751-4de3-9b55-c71c65cd0543",
   "metadata": {},
   "outputs": [],
   "source": [
    "for i in df_segment_spending['Month_num']:\n",
    "    #if df_monthly_spend['Month']== 1 :\n",
    "       df_tenth_month_segment = df_segment_spending.loc[df_segment_spending['Month_num']== 10]\n",
    "    "
   ]
  },
  {
   "cell_type": "code",
   "execution_count": 87,
   "id": "0af24967-3146-4fd6-a52a-0b35d6d3dc18",
   "metadata": {},
   "outputs": [],
   "source": [
    "for i in df_segment_spending['Month_num']:\n",
    "    #if df_monthly_spend['Month']== 1 :\n",
    "       df_eleventh_month_segment = df_segment_spending.loc[df_segment_spending['Month_num']== 11]\n",
    "    "
   ]
  },
  {
   "cell_type": "code",
   "execution_count": 88,
   "id": "008660eb-ced9-4e78-b367-d986556b8de2",
   "metadata": {},
   "outputs": [],
   "source": [
    "for i in df_segment_spending['Month_num']:\n",
    "    #if df_monthly_spend['Month']== 1 :\n",
    "       df_twelth_month_segment = df_segment_spending.loc[df_segment_spending['Month_num']== 12]\n",
    "    "
   ]
  },
  {
   "cell_type": "code",
   "execution_count": 89,
   "id": "ee7ca42c-a3c9-4033-acfc-5389339fb789",
   "metadata": {},
   "outputs": [],
   "source": [
    "with pd.ExcelWriter('Monthly profitable segment.xlsx')as writer:\n",
    " df_first_month_segment.to_excel(writer,sheet_name='First month segment',index=False)\n",
    " df_second_month_segment.to_excel(writer,sheet_name='Second month segment',index=False)\n",
    " df_third_month_segment.to_excel(writer,sheet_name='Third month segment',index=False)\n",
    " df_fourth_month_segment.to_excel(writer,sheet_name='Fourth month segment',index=False)\n",
    " df_fifth_month_segment.to_excel(writer,sheet_name='Fifth month segment',index=False)\n",
    " df_sixth_month_segment.to_excel(writer,sheet_name='Sixth month segment',index=False)\n",
    " df_seventh_month_segment.to_excel(writer,sheet_name='Seventh month segment',index=False)\n",
    " df_eighth_month_segment.to_excel(writer,sheet_name='Eighth month segment',index=False)\n",
    " df_nineth_month_segment.to_excel(writer,sheet_name='Nineth month segment',index=False)\n",
    " df_tenth_month_segment.to_excel(writer,sheet_name='Tenth month segment',index=False)\n",
    " df_eleventh_month_segment.to_excel(writer,sheet_name='Eleventh month segment',index=False)\n",
    " df_twelth_month_segment.to_excel(writer,sheet_name='Twelth month segment',index=False)"
   ]
  },
  {
   "cell_type": "code",
   "execution_count": 90,
   "id": "4720651f-61f2-4efe-8b24-96c515373f39",
   "metadata": {},
   "outputs": [
    {
     "name": "stdout",
     "output_type": "stream",
     "text": [
      "          Segment  Month_num    Amount\n",
      "12  Normal Salary          1  25391039\n",
      "36   Salaried_Pvt          1  16897019\n",
      "48  Self Employed          1  15293441\n",
      "0            Govt          1  14572538\n",
      "24   Salaried_MNC          1  14499911\n"
     ]
    }
   ],
   "source": [
    "print(df_first_month_segment)"
   ]
  },
  {
   "cell_type": "markdown",
   "id": "3446bdca-40c5-4ec7-819d-406d05f32160",
   "metadata": {},
   "source": [
    "QUESTION NO 5"
   ]
  },
  {
   "cell_type": "code",
   "execution_count": 91,
   "id": "476d76b8-c544-44f0-9855-b4057250ad46",
   "metadata": {},
   "outputs": [
    {
     "name": "stdout",
     "output_type": "stream",
     "text": [
      "      Sl No:_x Customer    Age        City Credit Card Product   Limit  \\\n",
      "0            1       A1  38.08   BANGALORE                Gold  500000   \n",
      "1            1       A1  38.08   BANGALORE                Gold  500000   \n",
      "2            1       A1  38.08   BANGALORE                Gold  500000   \n",
      "3            1       A1  38.08   BANGALORE                Gold  500000   \n",
      "4            1       A1  38.08   BANGALORE                Gold  500000   \n",
      "...        ...      ...    ...         ...                 ...     ...   \n",
      "1495        96      A96  29.00     CHENNAI              Silver  100000   \n",
      "1496        97      A97  20.00  TRIVANDRUM            Platimum   10000   \n",
      "1497        98      A98  40.00    CALCUTTA            Platimum   10001   \n",
      "1498        99      A99  21.00    CALCUTTA            Platimum   10002   \n",
      "1499       100     A100  23.00      COCHIN              Silver  100000   \n",
      "\n",
      "     Company        Segment  Sl No:_y      Month        Type  Amount  Day  \\\n",
      "0         C1  Self Employed         1  12-Jan-04   JEWELLERY  473776   12   \n",
      "1         C1  Self Employed         2  03-Jan-04       PETRO  335579    3   \n",
      "2         C1  Self Employed         3  15-Jan-04     CLOTHES  371041   15   \n",
      "3         C1  Self Employed         4  25-Jan-04        FOOD  141178   25   \n",
      "4         C1  Self Employed         5  17-Jan-05      CAMERA  398404   17   \n",
      "...      ...            ...       ...        ...         ...     ...  ...   \n",
      "1495     C19   Salaried_Pvt        98  25-Jan-04        BIKE  320364   25   \n",
      "1496     C20           Govt        99  12-Jan-04        AUTO  164330   12   \n",
      "1497     C21  Normal Salary       100  03-Jan-04    SHOPPING   87484    3   \n",
      "1498     C22  Self Employed       101  15-Jan-04  AIR TICKET  476020   15   \n",
      "1499      C5   Salaried_MNC       102  25-Jan-04  BUS TICKET   42254   25   \n",
      "\n",
      "      Month_num  Year  \n",
      "0             1  2004  \n",
      "1             1  2004  \n",
      "2             1  2004  \n",
      "3             1  2004  \n",
      "4             1  2005  \n",
      "...         ...   ...  \n",
      "1495          1  2004  \n",
      "1496          1  2004  \n",
      "1497          1  2004  \n",
      "1498          1  2004  \n",
      "1499          1  2004  \n",
      "\n",
      "[1500 rows x 15 columns]\n"
     ]
    }
   ],
   "source": [
    "print(df_merged)"
   ]
  },
  {
   "cell_type": "code",
   "execution_count": 92,
   "id": "79d2d555-dea5-4758-a5ad-6b21783dcfbb",
   "metadata": {},
   "outputs": [],
   "source": [
    "df_age_group_spending=df_merged.groupby(['Age','Month_num'],as_index=False)['Amount'].sum().sort_values(by='Amount',ascending=False)"
   ]
  },
  {
   "cell_type": "code",
   "execution_count": 93,
   "id": "330f30e7-9dd2-45d2-b0be-a95c775613bf",
   "metadata": {},
   "outputs": [
    {
     "name": "stdout",
     "output_type": "stream",
     "text": [
      "       Age  Month_num    Amount\n",
      "84   38.08          1  21343179\n",
      "85   38.08          2  17350720\n",
      "86   38.08          3  12942591\n",
      "88   38.08          5  12829069\n",
      "87   38.08          4   7657973\n",
      "..     ...        ...       ...\n",
      "80   36.00          7     27819\n",
      "14   19.00         11     25564\n",
      "179  57.00          8     22417\n",
      "167  52.00          8      8458\n",
      "110  42.00          2       826\n",
      "\n",
      "[318 rows x 3 columns]\n"
     ]
    }
   ],
   "source": [
    "print(df_age_group_spending)"
   ]
  },
  {
   "cell_type": "code",
   "execution_count": 94,
   "id": "12ed91d8-a365-414e-9750-9bf38e6c2d64",
   "metadata": {},
   "outputs": [],
   "source": [
    "for i in df_age_group_spending['Month_num']:\n",
    "    #if df_monthly_spend['Month']== 1 :\n",
    "       df_first_month_age_spending = df_age_group_spending.loc[df_age_group_spending['Month_num']== 1]\n",
    "    "
   ]
  },
  {
   "cell_type": "code",
   "execution_count": 95,
   "id": "766bb624-3706-4bfe-8ee8-f20aa6c3bbcd",
   "metadata": {},
   "outputs": [],
   "source": [
    "for i in df_age_group_spending['Month_num']:\n",
    "    #if df_monthly_spend['Month']== 1 :\n",
    "       df_second_month_age_spending = df_age_group_spending.loc[df_age_group_spending['Month_num']== 2]\n",
    "    "
   ]
  },
  {
   "cell_type": "code",
   "execution_count": 96,
   "id": "6f17084f-4135-4161-ab9f-cf835d63006b",
   "metadata": {},
   "outputs": [],
   "source": [
    "for i in df_age_group_spending['Month_num']:\n",
    "    #if df_monthly_spend['Month']== 1 :\n",
    "       df_third_month_age_spending = df_age_group_spending.loc[df_age_group_spending['Month_num']== 3]\n",
    "    "
   ]
  },
  {
   "cell_type": "code",
   "execution_count": 97,
   "id": "1ccbb507-2852-4205-9527-968fe6179f86",
   "metadata": {},
   "outputs": [],
   "source": [
    "for i in df_age_group_spending['Month_num']:\n",
    "    #if df_monthly_spend['Month']== 1 :\n",
    "       df_fourth_month_age_spending = df_age_group_spending.loc[df_age_group_spending['Month_num']== 4]\n",
    "    "
   ]
  },
  {
   "cell_type": "code",
   "execution_count": 98,
   "id": "ed0e42f5-ae02-4392-8c20-2f228ab477c7",
   "metadata": {},
   "outputs": [],
   "source": [
    "for i in df_age_group_spending['Month_num']:\n",
    "    #if df_monthly_spend['Month']== 1 :\n",
    "       df_fifth_month_age_spending = df_age_group_spending.loc[df_age_group_spending['Month_num']== 5]\n",
    "    "
   ]
  },
  {
   "cell_type": "code",
   "execution_count": 99,
   "id": "a5293001-1ba0-47b5-aae0-1d5ac9c40a84",
   "metadata": {},
   "outputs": [],
   "source": [
    "for i in df_age_group_spending['Month_num']:\n",
    "    #if df_monthly_spend['Month']== 1 :\n",
    "       df_sixth_month_age_spending = df_age_group_spending.loc[df_age_group_spending['Month_num']== 6]\n",
    "    "
   ]
  },
  {
   "cell_type": "code",
   "execution_count": 100,
   "id": "af15f107-8546-4bb7-9e6b-741eb0a2fe06",
   "metadata": {},
   "outputs": [],
   "source": [
    "for i in df_age_group_spending['Month_num']:\n",
    "    #if df_monthly_spend['Month']== 1 :\n",
    "       df_seventh_month_age_spending = df_age_group_spending.loc[df_age_group_spending['Month_num']== 7]\n",
    "    "
   ]
  },
  {
   "cell_type": "code",
   "execution_count": 101,
   "id": "10ff8eb4-eec5-4425-abd9-ebe442ff97e9",
   "metadata": {},
   "outputs": [],
   "source": [
    "for i in df_age_group_spending['Month_num']:\n",
    "    #if df_monthly_spend['Month']== 1 :\n",
    "       df_eighth_month_age_spending = df_age_group_spending.loc[df_age_group_spending['Month_num']== 8]\n",
    "    "
   ]
  },
  {
   "cell_type": "code",
   "execution_count": 102,
   "id": "0c8574b7-1e04-4ebe-928a-8f1c7af81d7d",
   "metadata": {},
   "outputs": [],
   "source": [
    "for i in df_age_group_spending['Month_num']:\n",
    "    #if df_monthly_spend['Month']== 1 :\n",
    "       df_nineth_month_age_spending = df_age_group_spending.loc[df_age_group_spending['Month_num']== 9]\n",
    "    "
   ]
  },
  {
   "cell_type": "code",
   "execution_count": 103,
   "id": "6f19eb7d-873b-440e-a1c2-da4c8e5008a6",
   "metadata": {},
   "outputs": [],
   "source": [
    "for i in df_age_group_spending['Month_num']:\n",
    "    #if df_monthly_spend['Month']== 1 :\n",
    "       df_tenth_month_age_spending = df_age_group_spending.loc[df_age_group_spending['Month_num']== 10]\n",
    "    "
   ]
  },
  {
   "cell_type": "code",
   "execution_count": 104,
   "id": "b4ac525a-c730-442b-999b-a26d51a8af60",
   "metadata": {},
   "outputs": [],
   "source": [
    "for i in df_age_group_spending['Month_num']:\n",
    "    #if df_monthly_spend['Month']== 1 :\n",
    "       df_eleventh_month_age_spending = df_age_group_spending.loc[df_age_group_spending['Month_num']== 11]\n",
    "    "
   ]
  },
  {
   "cell_type": "code",
   "execution_count": 105,
   "id": "93c026ae-b381-4683-8e69-2b93304ca985",
   "metadata": {},
   "outputs": [],
   "source": [
    "for i in df_age_group_spending['Month_num']:\n",
    "    #if df_monthly_spend['Month']== 1 :\n",
    "       df_twelth_month_age_spending = df_age_group_spending.loc[df_age_group_spending['Month_num']== 12]\n",
    "    "
   ]
  },
  {
   "cell_type": "code",
   "execution_count": 106,
   "id": "ad1f7307-cbf7-404e-bce1-921cee4f5892",
   "metadata": {},
   "outputs": [
    {
     "name": "stdout",
     "output_type": "stream",
     "text": [
      "       Age  Month_num    Amount\n",
      "84   38.08          1  21343179\n",
      "214  66.00          1   5827411\n",
      "160  52.00          1   4361981\n",
      "234  68.00          1   3435889\n",
      "261  71.00          1   3428153\n",
      "148  51.00          1   2819022\n",
      "97   40.00          1   2725017\n",
      "244  69.00          1   2637566\n",
      "17   22.00          1   2613106\n",
      "282  74.00          1   2584386\n",
      "306  78.00          1   2233357\n",
      "181  58.00          1   2223221\n",
      "111  44.00          1   2144558\n",
      "74   36.00          1   2126633\n",
      "123  45.00          1   2121038\n",
      "273  72.00          1   2085558\n",
      "56   29.00          1   2025063\n",
      "299  77.00          1   1700769\n",
      "67   35.00          1   1634244\n",
      "190  59.00          1   1532867\n",
      "292  76.00          1   1494497\n",
      "0    18.00          1   1461937\n",
      "133  47.00          1   1411484\n",
      "7    19.00          1   1294500\n",
      "37   26.00          1   1195833\n",
      "29   25.00          1   1062077\n",
      "253  70.00          1   1037959\n",
      "45   27.00          1   1018212\n",
      "173  57.00          1    865498\n",
      "199  61.00          1    819545\n",
      "208  62.00          1    640171\n",
      "226  67.00          1    592404\n",
      "16   21.00          1    476020\n",
      "141  49.00          1    461909\n",
      "54   28.00          1    403226\n",
      "171  55.00          1    321836\n",
      "109  42.00          1    287238\n",
      "15   20.00          1    164330\n",
      "28   23.00          1     42254\n"
     ]
    }
   ],
   "source": [
    "print(df_first_month_age_spending)"
   ]
  },
  {
   "cell_type": "code",
   "execution_count": 107,
   "id": "43ff28a8-082e-48e0-94c4-bb824027ed68",
   "metadata": {},
   "outputs": [],
   "source": [
    "with pd.ExcelWriter('Age group spending.xlsx')as writer:\n",
    " df_first_month_age_spending.to_excel(writer,sheet_name='First month age spending',index=False)\n",
    " df_second_month_age_spending.to_excel(writer,sheet_name='Second month age spending',index=False)\n",
    " df_third_month_age_spending.to_excel(writer,sheet_name='Third month age spending',index=False)\n",
    " df_fourth_month_age_spending.to_excel(writer,sheet_name='Fourth month age spending',index=False)\n",
    " df_fifth_month_age_spending.to_excel(writer,sheet_name='Fifth month age spending',index=False)\n",
    " df_sixth_month_age_spending.to_excel(writer,sheet_name='Sixth month age spending',index=False)\n",
    " df_seventh_month_age_spending.to_excel(writer,sheet_name='Seventh month age spending',index=False)\n",
    " df_eighth_month_age_spending.to_excel(writer,sheet_name='Eighth month age spending',index=False)\n",
    " df_nineth_month_age_spending.to_excel(writer,sheet_name='Nineth month age spending',index=False)\n",
    " df_tenth_month_age_spending.to_excel(writer,sheet_name='Tenth month age spending',index=False)\n",
    " df_eleventh_month_age_spending.to_excel(writer,sheet_name='Eleventh month age spending',index=False)\n",
    " df_twelth_month_age_spending.to_excel(writer,sheet_name='Twelth month age spending',index=False)"
   ]
  },
  {
   "cell_type": "markdown",
   "id": "01dfd128-f6c8-4407-ae90-e770f9069c74",
   "metadata": {},
   "source": [
    "QUESTION NO 6 "
   ]
  },
  {
   "cell_type": "code",
   "execution_count": 108,
   "id": "74e68eac-62f0-48f4-8141-eaaec8640c0b",
   "metadata": {},
   "outputs": [
    {
     "name": "stdout",
     "output_type": "stream",
     "text": [
      "    Sl No: Customer    Age        City Credit Card Product           Limit  \\\n",
      "0        1       A1  38.08   BANGALORE                Gold  INR 500,000.00   \n",
      "1        2       A2  35.00    CALCUTTA              Silver  INR 100,000.00   \n",
      "2        3       A3  38.08      COCHIN            Platimum   INR 10,000.00   \n",
      "3        4       A4  45.00      BOMBAY            Platimum   INR 10,001.00   \n",
      "4        5       A5  69.00   BANGALORE            Platimum   INR 10,002.00   \n",
      "..     ...      ...    ...         ...                 ...             ...   \n",
      "95      96      A96  29.00     CHENNAI              Silver  INR 100,000.00   \n",
      "96      97      A97  20.00  TRIVANDRUM            Platimum   INR 10,000.00   \n",
      "97      98      A98  40.00    CALCUTTA            Platimum   INR 10,001.00   \n",
      "98      99      A99  21.00    CALCUTTA            Platimum   INR 10,002.00   \n",
      "99     100     A100  23.00      COCHIN              Silver  INR 100,000.00   \n",
      "\n",
      "   Company        Segment  \n",
      "0       C1  Self Employed  \n",
      "1       C2   Salaried_MNC  \n",
      "2       C3   Salaried_Pvt  \n",
      "3       C4           Govt  \n",
      "4       C5  Normal Salary  \n",
      "..     ...            ...  \n",
      "95     C19   Salaried_Pvt  \n",
      "96     C20           Govt  \n",
      "97     C21  Normal Salary  \n",
      "98     C22  Self Employed  \n",
      "99      C5   Salaried_MNC  \n",
      "\n",
      "[100 rows x 8 columns]\n"
     ]
    }
   ],
   "source": [
    "print(df_cus_aq)"
   ]
  },
  {
   "cell_type": "code",
   "execution_count": 109,
   "id": "0480629c-1ad4-47ca-926f-631b13b7346d",
   "metadata": {},
   "outputs": [],
   "source": [
    "df_cus_aq=df_cus_aq.rename(columns={'Credit Card Product':'Credit_Card_product'})"
   ]
  },
  {
   "cell_type": "code",
   "execution_count": 110,
   "id": "138b64a9-e1ca-4a0e-9216-3f6ae47e62bb",
   "metadata": {},
   "outputs": [],
   "source": [
    "df_highest_selling_card=df_cus_aq.Credit_Card_product.value_counts()"
   ]
  },
  {
   "cell_type": "code",
   "execution_count": 111,
   "id": "14b9100c-9ee3-42e4-9c34-928ee05aa41a",
   "metadata": {},
   "outputs": [
    {
     "name": "stdout",
     "output_type": "stream",
     "text": [
      "Credit_Card_product\n",
      "Gold        38\n",
      "Platimum    32\n",
      "Silver      30\n",
      "Name: count, dtype: int64\n"
     ]
    }
   ],
   "source": [
    "print(df_highest_selling_card)"
   ]
  },
  {
   "cell_type": "code",
   "execution_count": 112,
   "id": "be9f30b6-e19e-4cd2-9672-7a4b64c07b89",
   "metadata": {},
   "outputs": [
    {
     "name": "stdout",
     "output_type": "stream",
     "text": [
      "    Sl No: Customer    Age        City Credit_Card_product           Limit  \\\n",
      "0        1       A1  38.08   BANGALORE                Gold  INR 500,000.00   \n",
      "1        2       A2  35.00    CALCUTTA              Silver  INR 100,000.00   \n",
      "2        3       A3  38.08      COCHIN            Platimum   INR 10,000.00   \n",
      "3        4       A4  45.00      BOMBAY            Platimum   INR 10,001.00   \n",
      "4        5       A5  69.00   BANGALORE            Platimum   INR 10,002.00   \n",
      "..     ...      ...    ...         ...                 ...             ...   \n",
      "95      96      A96  29.00     CHENNAI              Silver  INR 100,000.00   \n",
      "96      97      A97  20.00  TRIVANDRUM            Platimum   INR 10,000.00   \n",
      "97      98      A98  40.00    CALCUTTA            Platimum   INR 10,001.00   \n",
      "98      99      A99  21.00    CALCUTTA            Platimum   INR 10,002.00   \n",
      "99     100     A100  23.00      COCHIN              Silver  INR 100,000.00   \n",
      "\n",
      "   Company        Segment  \n",
      "0       C1  Self Employed  \n",
      "1       C2   Salaried_MNC  \n",
      "2       C3   Salaried_Pvt  \n",
      "3       C4           Govt  \n",
      "4       C5  Normal Salary  \n",
      "..     ...            ...  \n",
      "95     C19   Salaried_Pvt  \n",
      "96     C20           Govt  \n",
      "97     C21  Normal Salary  \n",
      "98     C22  Self Employed  \n",
      "99      C5   Salaried_MNC  \n",
      "\n",
      "[100 rows x 8 columns]\n"
     ]
    }
   ],
   "source": [
    "print(df_cus_aq)"
   ]
  },
  {
   "cell_type": "code",
   "execution_count": 113,
   "id": "fe025410-e4d2-44b6-a5f4-509f82e93666",
   "metadata": {},
   "outputs": [],
   "source": [
    "#df_cus_aq['Count']=df_cus_aq['Credit Card Product'].size()"
   ]
  },
  {
   "cell_type": "code",
   "execution_count": 114,
   "id": "a80a6bb3-00be-45d9-aeea-6ad13ba1ede2",
   "metadata": {},
   "outputs": [],
   "source": [
    "#df_cus_aq['Count'] = df_cus_aq.groupby(df_cus_aq.columns.tolist(), as_index=False).size()"
   ]
  },
  {
   "cell_type": "code",
   "execution_count": 115,
   "id": "96efc280-b3f5-4043-8a2b-02bbe55e7d1c",
   "metadata": {},
   "outputs": [],
   "source": [
    "#df_cus_aq['Count'] = df_cus_aq.groupby(df_cus_aq.columns.tolist(), as_index=False).size()"
   ]
  },
  {
   "cell_type": "code",
   "execution_count": 116,
   "id": "9fc3c728-e064-4084-a21c-e0467c71e2cb",
   "metadata": {},
   "outputs": [
    {
     "name": "stdout",
     "output_type": "stream",
     "text": [
      "    Sl No: Customer    Age        City Credit_Card_product           Limit  \\\n",
      "0        1       A1  38.08   BANGALORE                Gold  INR 500,000.00   \n",
      "1        2       A2  35.00    CALCUTTA              Silver  INR 100,000.00   \n",
      "2        3       A3  38.08      COCHIN            Platimum   INR 10,000.00   \n",
      "3        4       A4  45.00      BOMBAY            Platimum   INR 10,001.00   \n",
      "4        5       A5  69.00   BANGALORE            Platimum   INR 10,002.00   \n",
      "..     ...      ...    ...         ...                 ...             ...   \n",
      "95      96      A96  29.00     CHENNAI              Silver  INR 100,000.00   \n",
      "96      97      A97  20.00  TRIVANDRUM            Platimum   INR 10,000.00   \n",
      "97      98      A98  40.00    CALCUTTA            Platimum   INR 10,001.00   \n",
      "98      99      A99  21.00    CALCUTTA            Platimum   INR 10,002.00   \n",
      "99     100     A100  23.00      COCHIN              Silver  INR 100,000.00   \n",
      "\n",
      "   Company        Segment  \n",
      "0       C1  Self Employed  \n",
      "1       C2   Salaried_MNC  \n",
      "2       C3   Salaried_Pvt  \n",
      "3       C4           Govt  \n",
      "4       C5  Normal Salary  \n",
      "..     ...            ...  \n",
      "95     C19   Salaried_Pvt  \n",
      "96     C20           Govt  \n",
      "97     C21  Normal Salary  \n",
      "98     C22  Self Employed  \n",
      "99      C5   Salaried_MNC  \n",
      "\n",
      "[100 rows x 8 columns]\n"
     ]
    }
   ],
   "source": [
    "print(df_cus_aq)"
   ]
  },
  {
   "cell_type": "code",
   "execution_count": 117,
   "id": "58d44374-578a-4cce-9ddc-14542d86a237",
   "metadata": {},
   "outputs": [],
   "source": [
    "with pd.ExcelWriter('Highest selling card.xlsx')as writer:\n",
    " df_highest_selling_card.to_excel(writer,sheet_name='Highest selling card',index=False)"
   ]
  },
  {
   "cell_type": "markdown",
   "id": "e51e703d-81ef-453b-a57e-6271975f516a",
   "metadata": {},
   "source": [
    "QUESTION NO 7"
   ]
  },
  {
   "cell_type": "code",
   "execution_count": 118,
   "id": "37f29d02-ad91-48f3-9a44-1692541bf922",
   "metadata": {},
   "outputs": [
    {
     "name": "stdout",
     "output_type": "stream",
     "text": [
      "      Sl No:_x Customer    Age        City Credit Card Product   Limit  \\\n",
      "0            1       A1  38.08   BANGALORE                Gold  500000   \n",
      "1            1       A1  38.08   BANGALORE                Gold  500000   \n",
      "2            1       A1  38.08   BANGALORE                Gold  500000   \n",
      "3            1       A1  38.08   BANGALORE                Gold  500000   \n",
      "4            1       A1  38.08   BANGALORE                Gold  500000   \n",
      "...        ...      ...    ...         ...                 ...     ...   \n",
      "1495        96      A96  29.00     CHENNAI              Silver  100000   \n",
      "1496        97      A97  20.00  TRIVANDRUM            Platimum   10000   \n",
      "1497        98      A98  40.00    CALCUTTA            Platimum   10001   \n",
      "1498        99      A99  21.00    CALCUTTA            Platimum   10002   \n",
      "1499       100     A100  23.00      COCHIN              Silver  100000   \n",
      "\n",
      "     Company        Segment  Sl No:_y      Month        Type  Amount  Day  \\\n",
      "0         C1  Self Employed         1  12-Jan-04   JEWELLERY  473776   12   \n",
      "1         C1  Self Employed         2  03-Jan-04       PETRO  335579    3   \n",
      "2         C1  Self Employed         3  15-Jan-04     CLOTHES  371041   15   \n",
      "3         C1  Self Employed         4  25-Jan-04        FOOD  141178   25   \n",
      "4         C1  Self Employed         5  17-Jan-05      CAMERA  398404   17   \n",
      "...      ...            ...       ...        ...         ...     ...  ...   \n",
      "1495     C19   Salaried_Pvt        98  25-Jan-04        BIKE  320364   25   \n",
      "1496     C20           Govt        99  12-Jan-04        AUTO  164330   12   \n",
      "1497     C21  Normal Salary       100  03-Jan-04    SHOPPING   87484    3   \n",
      "1498     C22  Self Employed       101  15-Jan-04  AIR TICKET  476020   15   \n",
      "1499      C5   Salaried_MNC       102  25-Jan-04  BUS TICKET   42254   25   \n",
      "\n",
      "      Month_num  Year  \n",
      "0             1  2004  \n",
      "1             1  2004  \n",
      "2             1  2004  \n",
      "3             1  2004  \n",
      "4             1  2005  \n",
      "...         ...   ...  \n",
      "1495          1  2004  \n",
      "1496          1  2004  \n",
      "1497          1  2004  \n",
      "1498          1  2004  \n",
      "1499          1  2004  \n",
      "\n",
      "[1500 rows x 15 columns]\n"
     ]
    }
   ],
   "source": [
    "print(df_merged)"
   ]
  },
  {
   "cell_type": "code",
   "execution_count": 119,
   "id": "84f1462d-3c50-44ce-91da-c8cfae6696bd",
   "metadata": {},
   "outputs": [],
   "source": [
    "df_segment_spending_by_card=df_merged.groupby(['Credit Card Product','Month_num'],as_index=False)['Amount'].sum().sort_values(by='Amount')"
   ]
  },
  {
   "cell_type": "code",
   "execution_count": 120,
   "id": "95ed80a5-d7f8-45ba-b1dd-89cead530510",
   "metadata": {},
   "outputs": [
    {
     "name": "stdout",
     "output_type": "stream",
     "text": [
      "   Credit Card Product  Month_num    Amount\n",
      "33              Silver         10    567980\n",
      "35              Silver         12   1439462\n",
      "31              Silver          8   1696512\n",
      "11                Gold         12   2285637\n",
      "21            Platimum         10   2509397\n",
      "23            Platimum         12   2630033\n",
      "32              Silver          9   2677161\n",
      "18            Platimum          7   2933829\n",
      "30              Silver          7   3125489\n",
      "9                 Gold         10   3141893\n",
      "19            Platimum          8   3370307\n",
      "20            Platimum          9   3631322\n",
      "34              Silver         11   3715202\n",
      "17            Platimum          6   3946738\n",
      "6                 Gold          7   4841236\n",
      "29              Silver          6   4859279\n",
      "8                 Gold          9   4876974\n",
      "7                 Gold          8   4976087\n",
      "5                 Gold          6   6451931\n",
      "10                Gold         11   9507472\n",
      "22            Platimum         11   9960125\n",
      "27              Silver          4  10101860\n",
      "25              Silver          2  10214820\n",
      "28              Silver          5  11089262\n",
      "3                 Gold          4  13923843\n",
      "26              Silver          3  15676651\n",
      "15            Platimum          4  16010694\n",
      "16            Platimum          5  19849702\n",
      "2                 Gold          3  20190577\n",
      "14            Platimum          3  20237852\n",
      "24              Silver          1  20851935\n",
      "13            Platimum          2  23516051\n",
      "4                 Gold          5  24431116\n",
      "1                 Gold          2  26311603\n",
      "0                 Gold          1  30277318\n",
      "12            Platimum          1  35524695\n"
     ]
    }
   ],
   "source": [
    "print(df_segment_spending_by_card)"
   ]
  },
  {
   "cell_type": "code",
   "execution_count": 121,
   "id": "64b24a16-56f7-4522-99ea-5c111eb9c90f",
   "metadata": {},
   "outputs": [],
   "source": [
    "for i in df_segment_spending_by_card['Month_num']:\n",
    "    #if df_monthly_spend['Month']== 1 :\n",
    "       df_first_month_card_spending = df_segment_spending_by_card.loc[df_segment_spending_by_card['Month_num']== 1].sort_values(by='Amount',ascending=False)\n",
    "    "
   ]
  },
  {
   "cell_type": "code",
   "execution_count": 122,
   "id": "9398aaab-350a-460b-b67d-a11c2acaa8c7",
   "metadata": {},
   "outputs": [],
   "source": [
    "for i in df_segment_spending_by_card['Month_num']:\n",
    "    #if df_monthly_spend['Month']== 1 :\n",
    "       df_second_month_card_spending = df_segment_spending_by_card.loc[df_segment_spending_by_card['Month_num']== 2].sort_values(by='Amount',ascending=False)\n",
    "    "
   ]
  },
  {
   "cell_type": "code",
   "execution_count": 123,
   "id": "acfaa5d7-14fd-40d2-b5d4-001c251f2742",
   "metadata": {},
   "outputs": [],
   "source": [
    "for i in df_segment_spending_by_card['Month_num']:\n",
    "    #if df_monthly_spend['Month']== 1 :\n",
    "       df_third_month_card_spending = df_segment_spending_by_card.loc[df_segment_spending_by_card['Month_num']== 3].sort_values(by='Amount',ascending=False)\n",
    "    "
   ]
  },
  {
   "cell_type": "code",
   "execution_count": 124,
   "id": "bd6d6c59-5630-4347-893d-e22978f129fa",
   "metadata": {},
   "outputs": [],
   "source": [
    "for i in df_segment_spending_by_card['Month_num']:\n",
    "    #if df_monthly_spend['Month']== 1 :\n",
    "       df_fourth_month_card_spending = df_segment_spending_by_card.loc[df_segment_spending_by_card['Month_num']== 4].sort_values(by='Amount',ascending=False)\n",
    "    "
   ]
  },
  {
   "cell_type": "code",
   "execution_count": 125,
   "id": "4a01d364-b5be-4cc1-85aa-95546abfd662",
   "metadata": {},
   "outputs": [],
   "source": [
    "for i in df_segment_spending_by_card['Month_num']:\n",
    "    #if df_monthly_spend['Month']== 1 :\n",
    "       df_fifth_month_card_spending = df_segment_spending_by_card.loc[df_segment_spending_by_card['Month_num']== 5].sort_values(by='Amount',ascending=False)\n",
    "    "
   ]
  },
  {
   "cell_type": "code",
   "execution_count": 126,
   "id": "7e77498a-9dc0-4e7d-b795-f8477ea36dbf",
   "metadata": {},
   "outputs": [],
   "source": [
    "for i in df_segment_spending_by_card['Month_num']:\n",
    "    #if df_monthly_spend['Month']== 1 :\n",
    "       df_sixth_month_card_spending = df_segment_spending_by_card.loc[df_segment_spending_by_card['Month_num']== 6].sort_values(by='Amount',ascending=False)\n",
    "    "
   ]
  },
  {
   "cell_type": "code",
   "execution_count": 127,
   "id": "14a87579-8cb8-4021-b199-46524ef22db5",
   "metadata": {},
   "outputs": [],
   "source": [
    "for i in df_segment_spending_by_card['Month_num']:\n",
    "    #if df_monthly_spend['Month']== 1 :\n",
    "       df_seventh_month_card_spending = df_segment_spending_by_card.loc[df_segment_spending_by_card['Month_num']== 7].sort_values(by='Amount',ascending=False)\n",
    "    "
   ]
  },
  {
   "cell_type": "code",
   "execution_count": 128,
   "id": "ba1fe9d5-e2a0-4724-a1db-17b9d73e3a2e",
   "metadata": {},
   "outputs": [],
   "source": [
    "for i in df_segment_spending_by_card['Month_num']:\n",
    "    #if df_monthly_spend['Month']== 1 :\n",
    "       df_eighth_month_card_spending = df_segment_spending_by_card.loc[df_segment_spending_by_card['Month_num']== 8].sort_values(by='Amount',ascending=False)\n",
    "    "
   ]
  },
  {
   "cell_type": "code",
   "execution_count": 129,
   "id": "a7b4e44d-7434-4644-bcb3-fccceefa48bd",
   "metadata": {},
   "outputs": [],
   "source": [
    "for i in df_segment_spending_by_card['Month_num']:\n",
    "    #if df_monthly_spend['Month']== 1 :\n",
    "       df_nineth_month_card_spending = df_segment_spending_by_card.loc[df_segment_spending_by_card['Month_num']== 9].sort_values(by='Amount',ascending=False)\n",
    "    "
   ]
  },
  {
   "cell_type": "code",
   "execution_count": 130,
   "id": "7f4c8267-1955-46b5-9290-570fdc075767",
   "metadata": {},
   "outputs": [],
   "source": [
    "for i in df_segment_spending_by_card['Month_num']:\n",
    "    #if df_monthly_spend['Month']== 1 :\n",
    "       df_tenth_month_card_spending = df_segment_spending_by_card.loc[df_segment_spending_by_card['Month_num']== 10].sort_values(by='Amount',ascending=False)\n",
    "    "
   ]
  },
  {
   "cell_type": "code",
   "execution_count": 131,
   "id": "53552b49-0e7a-482c-a25f-39530d6be61a",
   "metadata": {},
   "outputs": [],
   "source": [
    "for i in df_segment_spending_by_card['Month_num']:\n",
    "    #if df_monthly_spend['Month']== 1 :\n",
    "       df_eleventh_month_card_spending = df_segment_spending_by_card.loc[df_segment_spending_by_card['Month_num']== 11].sort_values(by='Amount',ascending=False)\n",
    "    "
   ]
  },
  {
   "cell_type": "code",
   "execution_count": 132,
   "id": "a965b37c-d604-42b4-9726-1484e877de1a",
   "metadata": {},
   "outputs": [],
   "source": [
    "for i in df_segment_spending_by_card['Month_num']:\n",
    "    #if df_monthly_spend['Month']== 1 :\n",
    "       df_twelth_month_card_spending = df_segment_spending_by_card.loc[df_segment_spending_by_card['Month_num']== 12].sort_values(by='Amount',ascending=False)\n",
    "    "
   ]
  },
  {
   "cell_type": "code",
   "execution_count": 133,
   "id": "fd764d49-0d3e-4e15-b96e-52918f517825",
   "metadata": {},
   "outputs": [
    {
     "name": "stdout",
     "output_type": "stream",
     "text": [
      "   Credit Card Product  Month_num    Amount\n",
      "12            Platimum          1  35524695\n",
      "0                 Gold          1  30277318\n",
      "24              Silver          1  20851935\n"
     ]
    }
   ],
   "source": [
    "print(df_first_month_card_spending)"
   ]
  },
  {
   "cell_type": "code",
   "execution_count": 134,
   "id": "2fb73ccb-a3d4-41e2-a79b-4b636829ac9d",
   "metadata": {},
   "outputs": [
    {
     "data": {
      "text/plain": [
       "Text(0.5, 1.0, 'January')"
      ]
     },
     "execution_count": 134,
     "metadata": {},
     "output_type": "execute_result"
    },
    {
     "data": {
      "image/png": "[encoded data removed]",
      "text/plain": [
       "<Figure size 640x480 with 1 Axes>"
      ]
     },
     "metadata": {},
     "output_type": "display_data"
    }
   ],
   "source": [
    "sns.barplot(x='Credit Card Product',y='Amount',data=df_first_month_card_spending)\n",
    "plt.title('January')"
   ]
  },
  {
   "cell_type": "code",
   "execution_count": 135,
   "id": "e04a4b07-42fe-4783-a30c-128825767dfa",
   "metadata": {},
   "outputs": [],
   "source": [
    "with pd.ExcelWriter('Monthly card spending.xlsx')as writer:\n",
    " df_first_month_card_spending.to_excel(writer,sheet_name='First month card spending',index=False)\n",
    " df_second_month_card_spending.to_excel(writer,sheet_name='Second month card spending',index=False)\n",
    " df_third_month_card_spending.to_excel(writer,sheet_name='Third month card spending',index=False)\n",
    " df_fourth_month_card_spending.to_excel(writer,sheet_name='Fourth month card spending',index=False)\n",
    " df_fifth_month_card_spending.to_excel(writer,sheet_name='Fifth month card spending',index=False)\n",
    " df_sixth_month_card_spending.to_excel(writer,sheet_name='Sixth month card spending',index=False)\n",
    " df_seventh_month_card_spending.to_excel(writer,sheet_name='Seventh month card spending',index=False)\n",
    " df_eighth_month_card_spending.to_excel(writer,sheet_name='Eighth month card spending',index=False)\n",
    " df_nineth_month_card_spending.to_excel(writer,sheet_name='Nineth month card spending',index=False)\n",
    " df_tenth_month_card_spending.to_excel(writer,sheet_name='Tenth month card spending',index=False)\n",
    " df_eleventh_month_card_spending.to_excel(writer,sheet_name='Eleventh month card spending',index=False)\n",
    " df_twelth_month_card_spending.to_excel(writer,sheet_name='Twelth month card spending',index=False)"
   ]
  },
  {
   "cell_type": "markdown",
   "id": "883f3194-3bd4-498a-8d80-19c7cc1b7fc0",
   "metadata": {},
   "source": [
    "QUESTION NO 8"
   ]
  },
  {
   "cell_type": "code",
   "execution_count": 136,
   "id": "8cbf4bc2-8ab8-4daa-a829-7c11fc669714",
   "metadata": {},
   "outputs": [],
   "source": [
    "df_due= pd.merge(df_monthly_spend,df_monthly_repayment,on=['Customer','Month_num'],how='inner')"
   ]
  },
  {
   "cell_type": "code",
   "execution_count": 137,
   "id": "099ca741-6a2d-48c5-b2b8-756ce961b15b",
   "metadata": {},
   "outputs": [
    {
     "name": "stdout",
     "output_type": "stream",
     "text": [
      "    Customer  Month_num   Limit  Amount_x  Amount_y\n",
      "0        A39          1  500000   2839184   2386020\n",
      "1        A40          1  500000   2695912   2496295\n",
      "2        A37          1  100003   2605015    834712\n",
      "3        A60          1  500000   2584386   2259716\n",
      "4        A47          1   10000   2223221   1167106\n",
      "..       ...        ...     ...       ...       ...\n",
      "449      A37          4  100003     24652    654153\n",
      "450      A41          8  500000     23730    190057\n",
      "451      A48         11   10001     15038    865344\n",
      "452      A53          8  100003     14918     30235\n",
      "453      A40          8  500000      8458    162088\n",
      "\n",
      "[454 rows x 5 columns]\n"
     ]
    }
   ],
   "source": [
    "print(df_due)"
   ]
  },
  {
   "cell_type": "code",
   "execution_count": 138,
   "id": "94733ae6-dd04-49aa-830c-ab8fd995eb40",
   "metadata": {},
   "outputs": [],
   "source": [
    "for i in df_due['Month_num']:\n",
    "    #if df_monthly_spend['Month']== 1 :\n",
    "       df_first_month_due = df_due.loc[df_due['Month_num']==1].sort_values(by='Amount_x',ascending=False)\n",
    "    "
   ]
  },
  {
   "cell_type": "code",
   "execution_count": 139,
   "id": "264a5e48-85ed-48d7-bbcc-a178d026d794",
   "metadata": {},
   "outputs": [],
   "source": [
    "df_first_month_due['Due']=df_first_month_due['Amount_x'].sub(df_first_month_due['Amount_y'])\n",
    "df_first_month_due['2.5%_of_due_amount']=(df_first_month_due['Due']*2.5*1/100)\n",
    "df_first_month_due['Amount_with_interest']=df_first_month_due['Due']+df_first_month_due['2.5%_of_due_amount']"
   ]
  },
  {
   "cell_type": "code",
   "execution_count": 140,
   "id": "8b8b6fa2-7524-41fe-b0e2-4f1268f712cb",
   "metadata": {},
   "outputs": [],
   "source": [
    "for i in df_due['Month_num']:\n",
    "    #if df_monthly_spend['Month']== 1 :\n",
    "       df_second_month_due = df_due.loc[df_due['Month_num']==2].sort_values(by='Amount_x',ascending=False)\n",
    "    "
   ]
  },
  {
   "cell_type": "code",
   "execution_count": 141,
   "id": "dcee4717-680b-4d3d-800a-73cfa65bfdad",
   "metadata": {},
   "outputs": [],
   "source": [
    "df_second_month_due['Due']=df_second_month_due['Amount_x'].sub(df_second_month_due['Amount_y'])\n",
    "df_second_month_due['2.5%_of_due_amount']=(df_second_month_due['Due']*2.5*1/100)\n",
    "df_second_month_due['Amount_with_interest']=df_second_month_due['Due']+df_second_month_due['2.5%_of_due_amount']"
   ]
  },
  {
   "cell_type": "code",
   "execution_count": 142,
   "id": "9ae983b3-5247-4868-88bc-84ee6f1d0ca2",
   "metadata": {},
   "outputs": [],
   "source": [
    "for i in df_due['Month_num']:\n",
    "    #if df_monthly_spend['Month']== 1 :\n",
    "       df_third_month_due = df_due.loc[df_due['Month_num']==3].sort_values(by='Amount_x',ascending=False)\n",
    "    "
   ]
  },
  {
   "cell_type": "code",
   "execution_count": 143,
   "id": "8af449d1-bc47-4c8e-9a2d-b2eeb97db63e",
   "metadata": {},
   "outputs": [],
   "source": [
    "df_third_month_due['Due']=df_third_month_due['Amount_x'].sub(df_third_month_due['Amount_y'])\n",
    "df_third_month_due['2.5%_of_due_amount']=(df_third_month_due['Due']*2.5*1/100)\n",
    "df_third_month_due['Amount_with_interest']=df_third_month_due['Due']+df_third_month_due['2.5%_of_due_amount']"
   ]
  },
  {
   "cell_type": "code",
   "execution_count": 144,
   "id": "4fae19ab-c022-480b-af3e-c523995a664b",
   "metadata": {},
   "outputs": [],
   "source": [
    "for i in df_due['Month_num']:\n",
    "    #if df_monthly_spend['Month']== 1 :\n",
    "       df_fourth_month_due = df_due.loc[df_due['Month_num']==4].sort_values(by='Amount_x',ascending=False)\n",
    "    "
   ]
  },
  {
   "cell_type": "code",
   "execution_count": 145,
   "id": "3201801d-0cdf-49eb-ae71-bc291088b7f5",
   "metadata": {},
   "outputs": [],
   "source": [
    "df_fourth_month_due['Due']=df_fourth_month_due['Amount_x'].sub(df_fourth_month_due['Amount_y'])\n",
    "df_fourth_month_due['2.5%_of_due_amount']=(df_fourth_month_due['Due']*2.5*1/100)\n",
    "df_fourth_month_due['Amount_with_interest']=df_fourth_month_due['Due']+df_fourth_month_due['2.5%_of_due_amount']"
   ]
  },
  {
   "cell_type": "code",
   "execution_count": 146,
   "id": "51566f74-d666-4e12-9cc4-6a2477bb96cd",
   "metadata": {},
   "outputs": [],
   "source": [
    "for i in df_due['Month_num']:\n",
    "    #if df_monthly_spend['Month']== 1 :\n",
    "       df_fifth_month_due = df_due.loc[df_due['Month_num']==5].sort_values(by='Amount_x',ascending=False)\n",
    "    "
   ]
  },
  {
   "cell_type": "code",
   "execution_count": 147,
   "id": "c4f8462e-0627-4650-9091-dfacb8df2403",
   "metadata": {},
   "outputs": [],
   "source": [
    "df_fifth_month_due['Due']=df_fifth_month_due['Amount_x'].sub(df_fifth_month_due['Amount_y'])\n",
    "df_fifth_month_due['2.5%_of_due_amount']=(df_fifth_month_due['Due']*2.5*1/100)\n",
    "df_fifth_month_due['Amount_with_interest']=df_fifth_month_due['Due']+df_fifth_month_due['2.5%_of_due_amount']"
   ]
  },
  {
   "cell_type": "code",
   "execution_count": 148,
   "id": "75b12652-3083-48a7-8422-ea86e462522f",
   "metadata": {},
   "outputs": [],
   "source": [
    "for i in df_due['Month_num']:\n",
    "    #if df_monthly_spend['Month']== 1 :\n",
    "       df_sixth_month_due = df_due.loc[df_due['Month_num']==6].sort_values(by='Amount_x',ascending=False)\n",
    "    "
   ]
  },
  {
   "cell_type": "code",
   "execution_count": 149,
   "id": "b5f329ab-0259-400c-8e56-97efc6835d99",
   "metadata": {},
   "outputs": [],
   "source": [
    "df_sixth_month_due['Due']=df_sixth_month_due['Amount_x'].sub(df_sixth_month_due['Amount_y'])\n",
    "df_sixth_month_due['2.5%_of_due_amount']=(df_sixth_month_due['Due']*2.5*1/100)\n",
    "df_sixth_month_due['Amount_with_interest']=df_sixth_month_due['Due']+df_sixth_month_due['2.5%_of_due_amount']"
   ]
  },
  {
   "cell_type": "code",
   "execution_count": 150,
   "id": "4efaa865-5342-4efe-a6e0-bae9c76efa29",
   "metadata": {},
   "outputs": [],
   "source": [
    "for i in df_due['Month_num']:\n",
    "    #if df_monthly_spend['Month']== 1 :\n",
    "       df_seventh_month_due = df_due.loc[df_due['Month_num']==7].sort_values(by='Amount_x',ascending=False)\n",
    "    "
   ]
  },
  {
   "cell_type": "code",
   "execution_count": 151,
   "id": "ec7066e7-9a7d-4863-8598-4b61f2dcfdbd",
   "metadata": {},
   "outputs": [],
   "source": [
    "df_seventh_month_due['Due']=df_seventh_month_due['Amount_x'].sub(df_seventh_month_due['Amount_y'])\n",
    "df_seventh_month_due['2.5%_of_due_amount']=(df_seventh_month_due['Due']*2.5*1/100)\n",
    "df_seventh_month_due['Amount_with_interest']=df_seventh_month_due['Due']+df_seventh_month_due['2.5%_of_due_amount']"
   ]
  },
  {
   "cell_type": "code",
   "execution_count": 152,
   "id": "3fe47533-4ea3-4872-bd88-a3d056353312",
   "metadata": {},
   "outputs": [],
   "source": [
    "for i in df_due['Month_num']:\n",
    "    #if df_monthly_spend['Month']== 1 :\n",
    "       df_eighth_month_due = df_due.loc[df_due['Month_num']==8].sort_values(by='Amount_x',ascending=False)\n",
    "    "
   ]
  },
  {
   "cell_type": "code",
   "execution_count": 153,
   "id": "e74e6737-5dc6-4221-9db4-282ead0cfc94",
   "metadata": {},
   "outputs": [],
   "source": [
    "df_eighth_month_due['Due']=df_eighth_month_due['Amount_x'].sub(df_eighth_month_due['Amount_y'])\n",
    "df_eighth_month_due['2.5%_of_due_amount']=(df_eighth_month_due['Due']*2.5*1/100)\n",
    "df_eighth_month_due['Amount_with_interest']=df_eighth_month_due['Due']+df_eighth_month_due['2.5%_of_due_amount']"
   ]
  },
  {
   "cell_type": "code",
   "execution_count": 154,
   "id": "bb107da8-4c71-46bd-a8f7-58ade6c82a52",
   "metadata": {},
   "outputs": [],
   "source": [
    "for i in df_due['Month_num']:\n",
    "    #if df_monthly_spend['Month']== 1 :\n",
    "       df_nineth_month_due = df_due.loc[df_due['Month_num']==9].sort_values(by='Amount_x',ascending=False)\n",
    "    "
   ]
  },
  {
   "cell_type": "code",
   "execution_count": 155,
   "id": "41967c0a-d2ec-453a-9f80-b639eaf2c929",
   "metadata": {},
   "outputs": [],
   "source": [
    "df_nineth_month_due['Due']=df_nineth_month_due['Amount_x'].sub(df_nineth_month_due['Amount_y'])\n",
    "df_nineth_month_due['2.5%_of_due_amount']=(df_nineth_month_due['Due']*2.5*1/100)\n",
    "df_nineth_month_due['Amount_with_interest']=df_nineth_month_due['Due']+df_nineth_month_due['2.5%_of_due_amount']"
   ]
  },
  {
   "cell_type": "code",
   "execution_count": 156,
   "id": "eff3868b-afd0-46d5-95ae-3aa6a2016daa",
   "metadata": {},
   "outputs": [],
   "source": [
    "for i in df_due['Month_num']:\n",
    "    #if df_monthly_spend['Month']== 1 :\n",
    "       df_tenth_month_due = df_due.loc[df_due['Month_num']==10].sort_values(by='Amount_x',ascending=False)\n",
    "    "
   ]
  },
  {
   "cell_type": "code",
   "execution_count": 157,
   "id": "ff9a5128-a736-462c-9e25-529d02702dfd",
   "metadata": {},
   "outputs": [],
   "source": [
    "df_tenth_month_due['Due']=df_tenth_month_due['Amount_x'].sub(df_tenth_month_due['Amount_y'])\n",
    "df_tenth_month_due['2.5%_of_due_amount']=(df_tenth_month_due['Due']*2.5*1/100)\n",
    "df_tenth_month_due['Amount_with_interest']=df_tenth_month_due['Due']+df_tenth_month_due['2.5%_of_due_amount']"
   ]
  },
  {
   "cell_type": "code",
   "execution_count": 158,
   "id": "cdbb7ce7-874e-42ab-87a4-724720cf4e49",
   "metadata": {},
   "outputs": [],
   "source": [
    "for i in df_due['Month_num']:\n",
    "    #if df_monthly_spend['Month']== 1 :\n",
    "       df_eleventh_month_due = df_due.loc[df_due['Month_num']==11].sort_values(by='Amount_x',ascending=False)\n",
    "    "
   ]
  },
  {
   "cell_type": "code",
   "execution_count": 159,
   "id": "2153749d-be9b-46bf-a719-de0fe32ac10b",
   "metadata": {},
   "outputs": [],
   "source": [
    "df_eleventh_month_due['Due']=df_eleventh_month_due['Amount_x'].sub(df_eleventh_month_due['Amount_y'])\n",
    "df_eleventh_month_due['2.5%_of_due_amount']=(df_eleventh_month_due['Due']*2.5*1/100)\n",
    "df_eleventh_month_due['Amount_with_interest']=df_eleventh_month_due['Due']+df_eleventh_month_due['2.5%_of_due_amount']"
   ]
  },
  {
   "cell_type": "code",
   "execution_count": 160,
   "id": "9145101f-65be-48df-a37b-2e8780f9b264",
   "metadata": {},
   "outputs": [],
   "source": [
    "for i in df_due['Month_num']:\n",
    "    #if df_monthly_spend['Month']== 1 :\n",
    "       df_twelth_month_due = df_due.loc[df_due['Month_num']==12].sort_values(by='Amount_x',ascending=False)\n",
    "    "
   ]
  },
  {
   "cell_type": "code",
   "execution_count": 161,
   "id": "7e36a310-7f4d-4378-b856-dd6bb9185f8b",
   "metadata": {},
   "outputs": [],
   "source": [
    "df_twelth_month_due['Due']=df_twelth_month_due['Amount_x'].sub(df_twelth_month_due['Amount_y'])\n",
    "df_twelth_month_due['2.5%_of_due_amount']=(df_twelth_month_due['Due']*2.5*1/100)\n",
    "df_twelth_month_due['Amount_with_interest']=df_twelth_month_due['Due']+df_twelth_month_due['2.5%_of_due_amount']"
   ]
  },
  {
   "cell_type": "code",
   "execution_count": 162,
   "id": "32143dc1-1035-4c0d-8976-816ff26843e7",
   "metadata": {},
   "outputs": [
    {
     "name": "stdout",
     "output_type": "stream",
     "text": [
      "    Customer  Month_num   Limit  Amount_x  Amount_y     Due  \\\n",
      "262      A21         12   10002    487363     36303  451060   \n",
      "291      A14         12  500000    439357    218088  221269   \n",
      "333      A44         12  500000    352764    476157 -123393   \n",
      "345      A45         12  500000    332819    260353   72466   \n",
      "377      A36         12  100002    255209    311014  -55805   \n",
      "381      A54         12  500000    242934    125570  117364   \n",
      "385      A28         12  500000    230681    323231  -92550   \n",
      "399      A53         12  100003    187340    458488 -271148   \n",
      "424      A39         12  500000    127838    136117   -8279   \n",
      "427      A64         12  500000    111388    355797 -244409   \n",
      "444      A56         12  500000     45335    443880 -398545   \n",
      "\n",
      "     2.5%_of_due_amount  Amount_with_interest  \n",
      "262           11276.500            462336.500  \n",
      "291            5531.725            226800.725  \n",
      "333           -3084.825           -126477.825  \n",
      "345            1811.650             74277.650  \n",
      "377           -1395.125            -57200.125  \n",
      "381            2934.100            120298.100  \n",
      "385           -2313.750            -94863.750  \n",
      "399           -6778.700           -277926.700  \n",
      "424            -206.975             -8485.975  \n",
      "427           -6110.225           -250519.225  \n",
      "444           -9963.625           -408508.625  \n"
     ]
    }
   ],
   "source": [
    "print(df_twelth_month_due)"
   ]
  },
  {
   "cell_type": "code",
   "execution_count": 163,
   "id": "41b22650-02e2-4548-aa3f-d2262ad0b625",
   "metadata": {},
   "outputs": [],
   "source": [
    "with pd.ExcelWriter('Monthly due of customers.xlsx')as writer:\n",
    " df_first_month_due.to_excel(writer,sheet_name='First month due',index=False)\n",
    " df_second_month_due.to_excel(writer,sheet_name='Second month due',index=False)\n",
    " df_third_month_due.to_excel(writer,sheet_name='Third month due',index=False)\n",
    " df_fourth_month_due.to_excel(writer,sheet_name='Fourth month due',index=False)\n",
    " df_fifth_month_due.to_excel(writer,sheet_name='Fifth month due',index=False)\n",
    " df_sixth_month_due.to_excel(writer,sheet_name='Sixth month due',index=False)\n",
    " df_seventh_month_due.to_excel(writer,sheet_name='Seventh month due',index=False)\n",
    " df_eighth_month_due.to_excel(writer,sheet_name='Eighth month due',index=False)\n",
    " df_nineth_month_due.to_excel(writer,sheet_name='Nineth month due',index=False)\n",
    " df_tenth_month_due.to_excel(writer,sheet_name='Tenth month due',index=False)\n",
    " df_eleventh_month_due.to_excel(writer,sheet_name='Eleventh month due',index=False)\n",
    " df_twelth_month_due.to_excel(writer,sheet_name='Twelth month due',index=False)"
   ]
  },
  {
   "cell_type": "markdown",
   "id": "eec1036a-ef53-4322-8bc7-0151b53cd2cc",
   "metadata": {},
   "source": [
    "QUESTION NO 9"
   ]
  },
  {
   "cell_type": "code",
   "execution_count": 164,
   "id": "34eedeb0-d9d8-401c-8274-52f293f27675",
   "metadata": {},
   "outputs": [],
   "source": [
    "df_jan_month_profit = df_first_month_due[df_first_month_due['2.5%_of_due_amount'] > 0].sum()"
   ]
  },
  {
   "cell_type": "code",
   "execution_count": 165,
   "id": "62c06c71-66e2-41d8-ae43-a3c1ad7fa77d",
   "metadata": {},
   "outputs": [
    {
     "name": "stdout",
     "output_type": "stream",
     "text": [
      "Customer                A39A40A37A60A47A24A21A38A29A1A36A23A59A54A25A4...\n",
      "Month_num                                                              38\n",
      "Limit                                                            10770030\n",
      "Amount_x                                                         50637778\n",
      "Amount_y                                                         32793365\n",
      "Due                                                              17844413\n",
      "2.5%_of_due_amount                                             446110.325\n",
      "Amount_with_interest                                         18290523.325\n",
      "dtype: object\n"
     ]
    }
   ],
   "source": [
    "print(df_jan_month_profit)"
   ]
  },
  {
   "cell_type": "markdown",
   "id": "d92d151e-ba2b-4d95-930a-f4d582434c12",
   "metadata": {},
   "source": [
    "2.5%_of_due_amount is the January profit of Bank which is 446110.325"
   ]
  },
  {
   "cell_type": "code",
   "execution_count": 166,
   "id": "0a9ee79c-5ebc-4e65-ba5c-94305e5a7b5c",
   "metadata": {},
   "outputs": [],
   "source": [
    "df_feb_month_profit = df_second_month_due[df_second_month_due['2.5%_of_due_amount'] > 0].sum()"
   ]
  },
  {
   "cell_type": "code",
   "execution_count": 167,
   "id": "bd2c24e6-9a0d-4367-93bd-62a783cd86e0",
   "metadata": {},
   "outputs": [
    {
     "name": "stdout",
     "output_type": "stream",
     "text": [
      "Customer                A13A48A41A40A14A28A12A42A27A1A37A55A56A9A20A43...\n",
      "Month_num                                                              74\n",
      "Limit                                                            10760022\n",
      "Amount_x                                                         39143125\n",
      "Amount_y                                                         26202382\n",
      "Due                                                              12940743\n",
      "2.5%_of_due_amount                                             323518.575\n",
      "Amount_with_interest                                         13264261.575\n",
      "dtype: object\n"
     ]
    }
   ],
   "source": [
    "print(df_feb_month_profit)"
   ]
  },
  {
   "cell_type": "markdown",
   "id": "8f277327-94d3-44b4-ac7e-bf3bc7e60432",
   "metadata": {},
   "source": [
    "2.5%_of_due_amount is the february profit of Bank which is 323518.575"
   ]
  },
  {
   "cell_type": "code",
   "execution_count": 168,
   "id": "c6970ba0-2fb4-4a6f-8920-97b819ab7deb",
   "metadata": {},
   "outputs": [],
   "source": [
    "df_mar_month_profit = df_third_month_due[df_third_month_due['2.5%_of_due_amount'] > 0].sum()"
   ]
  },
  {
   "cell_type": "code",
   "execution_count": 169,
   "id": "c0226107-d239-4611-9665-1d4395418017",
   "metadata": {},
   "outputs": [
    {
     "name": "stdout",
     "output_type": "stream",
     "text": [
      "Customer                A21A45A17A16A18A22A48A23A42A49A46A52A5A37A43A3...\n",
      "Month_num                                                             117\n",
      "Limit                                                             9760033\n",
      "Amount_x                                                         40518670\n",
      "Amount_y                                                         23650658\n",
      "Due                                                              16868012\n",
      "2.5%_of_due_amount                                               421700.3\n",
      "Amount_with_interest                                           17289712.3\n",
      "dtype: object\n"
     ]
    }
   ],
   "source": [
    "print(df_mar_month_profit)"
   ]
  },
  {
   "cell_type": "markdown",
   "id": "d4295fe6-d06e-4f79-9f28-2bab5b3fbe22",
   "metadata": {},
   "source": [
    "2.5%_of_due_amount is the march profit of Bank which is 421700.3"
   ]
  },
  {
   "cell_type": "code",
   "execution_count": 170,
   "id": "5f58665d-5262-4983-a135-bc91a755f7a8",
   "metadata": {},
   "outputs": [],
   "source": [
    "df_apr_month_profit = df_fourth_month_due[df_fourth_month_due['2.5%_of_due_amount'] > 0].sum()"
   ]
  },
  {
   "cell_type": "code",
   "execution_count": 171,
   "id": "1756de70-579a-4afa-ad88-6754503b9717",
   "metadata": {},
   "outputs": [
    {
     "name": "stdout",
     "output_type": "stream",
     "text": [
      "Customer                A22A24A48A50A26A41A27A21A49A23A25A42A57A43A13A...\n",
      "Month_num                                                             124\n",
      "Limit                                                             8650022\n",
      "Amount_x                                                         27341996\n",
      "Amount_y                                                         14692614\n",
      "Due                                                              12649382\n",
      "2.5%_of_due_amount                                              316234.55\n",
      "Amount_with_interest                                          12965616.55\n",
      "dtype: object\n"
     ]
    }
   ],
   "source": [
    "print(df_apr_month_profit)"
   ]
  },
  {
   "cell_type": "markdown",
   "id": "8c8d6a81-916b-40ad-a45a-a3aac14809d4",
   "metadata": {},
   "source": [
    "2.5%_of_due_amount is the april profit of Bank which is 316234.55"
   ]
  },
  {
   "cell_type": "code",
   "execution_count": 172,
   "id": "cac85f96-f66d-4306-b4b1-9d769d3ef6e7",
   "metadata": {},
   "outputs": [],
   "source": [
    "df_may_month_profit = df_fifth_month_due[df_fifth_month_due['2.5%_of_due_amount'] > 0].sum()"
   ]
  },
  {
   "cell_type": "code",
   "execution_count": 173,
   "id": "51a9e63f-8340-4292-a849-23324a766edd",
   "metadata": {},
   "outputs": [
    {
     "name": "stdout",
     "output_type": "stream",
     "text": [
      "Customer                A28A44A61A58A10A37A36A13A21A60A5A15A54A59A51A4...\n",
      "Month_num                                                             110\n",
      "Limit                                                             6240020\n",
      "Amount_x                                                         22617180\n",
      "Amount_y                                                         15015616\n",
      "Due                                                               7601564\n",
      "2.5%_of_due_amount                                               190039.1\n",
      "Amount_with_interest                                            7791603.1\n",
      "dtype: object\n"
     ]
    }
   ],
   "source": [
    "print(df_may_month_profit)"
   ]
  },
  {
   "cell_type": "markdown",
   "id": "a41b75c6-362e-4ae5-800b-16ab56934dad",
   "metadata": {},
   "source": [
    "2.5%_of_due_amount is the may profit of Bank which is 190039.1\n"
   ]
  },
  {
   "cell_type": "code",
   "execution_count": 174,
   "id": "e7a51fd9-a361-44bc-bbcb-a43025923f3e",
   "metadata": {},
   "outputs": [],
   "source": [
    "df_june_month_profit = df_sixth_month_due[df_sixth_month_due['2.5%_of_due_amount'] > 0].sum()"
   ]
  },
  {
   "cell_type": "code",
   "execution_count": 175,
   "id": "3301e5d7-932e-423c-9fb4-3e604cbc7f10",
   "metadata": {},
   "outputs": [
    {
     "name": "stdout",
     "output_type": "stream",
     "text": [
      "Customer                A22A46A45A12A15A59A36A39A30A16\n",
      "Month_num                                           60\n",
      "Limit                                          3400005\n",
      "Amount_x                                       7686028\n",
      "Amount_y                                       2938488\n",
      "Due                                            4747540\n",
      "2.5%_of_due_amount                            118688.5\n",
      "Amount_with_interest                         4866228.5\n",
      "dtype: object\n"
     ]
    }
   ],
   "source": [
    "print(df_june_month_profit)"
   ]
  },
  {
   "cell_type": "markdown",
   "id": "5eef833a-3120-46c5-a17b-30454b97b1d1",
   "metadata": {},
   "source": [
    "2.5%_of_due_amount is the june profit of Bank which is 118688.5\n"
   ]
  },
  {
   "cell_type": "code",
   "execution_count": 176,
   "id": "c32d5895-e081-4357-8825-9bf76abcdf12",
   "metadata": {},
   "outputs": [],
   "source": [
    "df_july_month_profit = df_seventh_month_due[df_seventh_month_due['2.5%_of_due_amount'] > 0].sum()"
   ]
  },
  {
   "cell_type": "code",
   "execution_count": 177,
   "id": "5bbd0d26-9134-452b-b47d-a34388e36ab5",
   "metadata": {},
   "outputs": [
    {
     "name": "stdout",
     "output_type": "stream",
     "text": [
      "Customer                A16A23A48A14A25A13A39A60A59A40A36\n",
      "Month_num                                              77\n",
      "Limit                                             3410010\n",
      "Amount_x                                          5662820\n",
      "Amount_y                                          2453411\n",
      "Due                                               3209409\n",
      "2.5%_of_due_amount                              80235.225\n",
      "Amount_with_interest                          3289644.225\n",
      "dtype: object\n"
     ]
    }
   ],
   "source": [
    "print(df_july_month_profit)"
   ]
  },
  {
   "cell_type": "markdown",
   "id": "a18a7521-e370-4ba4-9a56-69d0b1e9b5c9",
   "metadata": {},
   "source": [
    "2.5%_of_due_amount is the july profit of Bank which is 80235.225\n"
   ]
  },
  {
   "cell_type": "code",
   "execution_count": 178,
   "id": "c6ff4935-9066-47ff-9d32-b26b30519c75",
   "metadata": {},
   "outputs": [],
   "source": [
    "df_aug_month_profit = df_eighth_month_due[df_eighth_month_due['2.5%_of_due_amount'] > 0].sum()"
   ]
  },
  {
   "cell_type": "code",
   "execution_count": 179,
   "id": "a670c660-f625-4ef4-a64a-5a9032ce9199",
   "metadata": {},
   "outputs": [
    {
     "name": "stdout",
     "output_type": "stream",
     "text": [
      "Customer                A61A24A26A50A37A11A49A17A20A14\n",
      "Month_num                                           80\n",
      "Limit                                          2820008\n",
      "Amount_x                                       4672933\n",
      "Amount_y                                       1875756\n",
      "Due                                            2797177\n",
      "2.5%_of_due_amount                           69929.425\n",
      "Amount_with_interest                       2867106.425\n",
      "dtype: object\n"
     ]
    }
   ],
   "source": [
    "print(df_aug_month_profit)"
   ]
  },
  {
   "cell_type": "markdown",
   "id": "2aff03ba-8a9b-44ed-8949-802d7f4f0ce8",
   "metadata": {},
   "source": [
    "2.5%_of_due_amount is the august profit of Bank which is 69929.425\n"
   ]
  },
  {
   "cell_type": "code",
   "execution_count": 180,
   "id": "46c93132-4184-4a8a-8fc7-774cdb1aa3fe",
   "metadata": {},
   "outputs": [],
   "source": [
    "df_sep_month_profit = df_nineth_month_due[df_nineth_month_due['2.5%_of_due_amount'] > 0].sum()"
   ]
  },
  {
   "cell_type": "code",
   "execution_count": 181,
   "id": "b2a30316-1ec0-4fdc-92da-8eeb68663138",
   "metadata": {},
   "outputs": [
    {
     "name": "stdout",
     "output_type": "stream",
     "text": [
      "Customer                A60A18A25A41A50A42A24A16A33A51\n",
      "Month_num                                           90\n",
      "Limit                                          2510008\n",
      "Amount_x                                       4863585\n",
      "Amount_y                                       2771249\n",
      "Due                                            2092336\n",
      "2.5%_of_due_amount                             52308.4\n",
      "Amount_with_interest                         2144644.4\n",
      "dtype: object\n"
     ]
    }
   ],
   "source": [
    "print(df_sep_month_profit)"
   ]
  },
  {
   "cell_type": "markdown",
   "id": "c35f4f18-4018-4320-b175-27dbe04d8bd1",
   "metadata": {},
   "source": [
    "2.5%_of_due_amount is the september profit of Bank which is 52308.4\n"
   ]
  },
  {
   "cell_type": "code",
   "execution_count": 182,
   "id": "6e393054-d5f1-43f9-bab0-7859bc3a5c0e",
   "metadata": {},
   "outputs": [],
   "source": [
    "df_oct_month_profit = df_tenth_month_due[df_tenth_month_due['2.5%_of_due_amount'] > 0].sum()"
   ]
  },
  {
   "cell_type": "code",
   "execution_count": 183,
   "id": "5fde7df1-0ec8-400a-9efc-47d16dd11bcc",
   "metadata": {},
   "outputs": [
    {
     "name": "stdout",
     "output_type": "stream",
     "text": [
      "Customer                A61A37A43A26A51A42\n",
      "Month_num                               60\n",
      "Limit                              2200004\n",
      "Amount_x                           2303175\n",
      "Amount_y                           1103050\n",
      "Due                                1200125\n",
      "2.5%_of_due_amount               30003.125\n",
      "Amount_with_interest           1230128.125\n",
      "dtype: object\n"
     ]
    }
   ],
   "source": [
    "print(df_oct_month_profit)"
   ]
  },
  {
   "cell_type": "markdown",
   "id": "c82c38c6-4a54-4a59-a32d-7525687e9ff0",
   "metadata": {},
   "source": [
    "2.5%_of_due_amount is the october profit of Bank which is 30003.125\n"
   ]
  },
  {
   "cell_type": "code",
   "execution_count": 184,
   "id": "5584bf1e-78d7-4eae-b36e-17a3f4b5e969",
   "metadata": {},
   "outputs": [],
   "source": [
    "df_nov_month_profit = df_eleventh_month_due[df_eleventh_month_due['2.5%_of_due_amount'] > 0].sum()"
   ]
  },
  {
   "cell_type": "code",
   "execution_count": 185,
   "id": "31fb2e26-87c7-4809-aea1-dc923165db29",
   "metadata": {},
   "outputs": [
    {
     "name": "stdout",
     "output_type": "stream",
     "text": [
      "Customer                A22A34A62A13A63A27A41A42A52A35A60A25A1A24A55A4...\n",
      "Month_num                                                             198\n",
      "Limit                                                             6110010\n",
      "Amount_x                                                         11727462\n",
      "Amount_y                                                          4440071\n",
      "Due                                                               7287391\n",
      "2.5%_of_due_amount                                             182184.775\n",
      "Amount_with_interest                                          7469575.775\n",
      "dtype: object\n"
     ]
    }
   ],
   "source": [
    "print(df_nov_month_profit)"
   ]
  },
  {
   "cell_type": "markdown",
   "id": "92faf870-2e95-4e02-ae8b-1432cc69370a",
   "metadata": {},
   "source": [
    "2.5%_of_due_amount is the november profit of Bank which is 182184.775\n"
   ]
  },
  {
   "cell_type": "code",
   "execution_count": 186,
   "id": "38e4fa39-4149-431b-accf-89f516a8d6f3",
   "metadata": {},
   "outputs": [],
   "source": [
    "df_dec_month_profit = df_twelth_month_due[df_twelth_month_due['2.5%_of_due_amount'] > 0].sum()"
   ]
  },
  {
   "cell_type": "code",
   "execution_count": 187,
   "id": "a22c35e6-33b6-4387-b591-fb72c9be6cd2",
   "metadata": {},
   "outputs": [
    {
     "name": "stdout",
     "output_type": "stream",
     "text": [
      "Customer                A21A14A45A54\n",
      "Month_num                         48\n",
      "Limit                        1510002\n",
      "Amount_x                     1502473\n",
      "Amount_y                      640314\n",
      "Due                           862159\n",
      "2.5%_of_due_amount         21553.975\n",
      "Amount_with_interest      883712.975\n",
      "dtype: object\n"
     ]
    }
   ],
   "source": [
    "print(df_dec_month_profit)"
   ]
  },
  {
   "cell_type": "markdown",
   "id": "be602c93-8254-4cd9-b8aa-866f437d8e96",
   "metadata": {},
   "source": [
    "2.5%_of_due_amount is the december profit of Bank which is 21553.975\n"
   ]
  },
  {
   "cell_type": "code",
   "execution_count": 188,
   "id": "f2c40438-eeaf-4fee-8980-7339cdc66049",
   "metadata": {},
   "outputs": [],
   "source": [
    "with pd.ExcelWriter('Monthly profit of Bank.xlsx')as writer:\n",
    " df_jan_month_profit.to_excel(writer,sheet_name='First month profit',index=False)\n",
    " df_feb_month_profit.to_excel(writer,sheet_name='Second month profit',index=False)\n",
    " df_mar_month_profit.to_excel(writer,sheet_name='Third month profit',index=False)\n",
    " df_apr_month_profit.to_excel(writer,sheet_name='Fourth month profit',index=False)\n",
    " df_may_month_profit.to_excel(writer,sheet_name='Fifth month profit',index=False)\n",
    " df_june_month_profit.to_excel(writer,sheet_name='Sixth month profit',index=False)\n",
    " df_july_month_profit.to_excel(writer,sheet_name='Seventh month profit',index=False)\n",
    " df_aug_month_profit.to_excel(writer,sheet_name='Eighth month profit',index=False)\n",
    " df_sep_month_profit.to_excel(writer,sheet_name='Nineth month profit',index=False)\n",
    " df_oct_month_profit.to_excel(writer,sheet_name='Tenth month profit',index=False)\n",
    " df_nov_month_profit.to_excel(writer,sheet_name='Eleventh month profit',index=False)\n",
    " df_dec_month_profit.to_excel(writer,sheet_name='Twelth month profit',index=False)"
   ]
  }
 ],
 "metadata": {
  "kernelspec": {
   "display_name": "Python 3 (ipykernel)",
   "language": "python",
   "name": "python3"
  },
  "language_info": {
   "codemirror_mode": {
    "name": "ipython",
    "version": 3
   },
   "file_extension": ".py",
   "mimetype": "text/x-python",
   "name": "python",
   "nbconvert_exporter": "python",
   "pygments_lexer": "ipython3",
   "version": "3.12.1"
  }
 },
 "nbformat": 4,
 "nbformat_minor": 5
}
